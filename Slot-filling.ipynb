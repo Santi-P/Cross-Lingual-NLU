{
 "cells": [
  {
   "cell_type": "code",
   "execution_count": 2,
   "metadata": {},
   "outputs": [],
   "source": [
    "from simpletransformers.ner import NERModel\n",
    "import pandas as pd\n",
    "import logging\n",
    "import sklearn\n",
    "import sklearn_crfsuite\n",
    "import torch"
   ]
  },
  {
   "cell_type": "code",
   "execution_count": 3,
   "metadata": {},
   "outputs": [],
   "source": [
    "from sklearn_crfsuite import metrics"
   ]
  },
  {
   "cell_type": "code",
   "execution_count": 4,
   "metadata": {},
   "outputs": [
    {
     "data": {
      "text/plain": [
       "<torch._C.Generator at 0x7f371d9ff250>"
      ]
     },
     "execution_count": 4,
     "metadata": {},
     "output_type": "execute_result"
    }
   ],
   "source": [
    "torch.manual_seed(1366)"
   ]
  },
  {
   "cell_type": "code",
   "execution_count": 5,
   "metadata": {},
   "outputs": [],
   "source": [
    "# path to files\n",
    "path_2_en_train = \"data/formatted/en_format_train.conll\"\n",
    "path_2_en_test = \"data/formatted/en_format_test.conll\"\n",
    "path_2_es_train = \"data/formatted/es_format_train.conll\"\n",
    "path_2_es_test = \"data/formatted/es_format_test.conll\"\n",
    "path_2_th_train = \"data/formatted/th_format_train.conll\"\n",
    "path_2_th_test = \"data/formatted/th_format_test.conll\"\n",
    "\n",
    "path_2_checkpoints = \"prelim_models\""
   ]
  },
  {
   "cell_type": "code",
   "execution_count": 6,
   "metadata": {},
   "outputs": [],
   "source": [
    "labels = ['B-alarm/alarm_modifier', 'I-reminder/reference', 'B-reminder/reminder_modifier', 'I-reminder/todo', 'NoLabel',\n",
    "          'B-timer/attributes', 'B-datetime', 'B-reminder/todo', 'B-reminder/recurring_period', 'B-timer/noun', 'I-weather/noun',\n",
    "          'B-negation', 'B-reminder/noun', 'I-weather/attribute', 'I-alarm/alarm_modifier', 'B-weather/noun', 'I-datetime', 'B-weather/attribute',\n",
    "          'I-reminder/recurring_period', 'I-location', 'B-demonstrative_reference', 'B-location', 'I-reminder/reminder_modifier', 'B-reminder/reference',\n",
    "          'B-weather/temperatureUnit', 'I-reminder/noun', 'B-news/type', 'I-demonstrative_reference', 'I-negation', 'B-alarm/recurring_period', \"I-alarm/recurring_period\"]"
   ]
  },
  {
   "cell_type": "code",
   "execution_count": 12,
   "metadata": {},
   "outputs": [],
   "source": [
    "args = {'fp16': True,\n",
    "        'reprocess_input_data': True,\n",
    "        'evaluate_during_training':False,\n",
    "        \"evaluate_during_training_verbose\": False,\n",
    "        'overwrite_output_dir': True,\n",
    "        'num_train_epochs': 3,# set to 1 for test.\n",
    "        'save_steps':-1,\n",
    "        \"save_model_every_epoch\":False, }"
   ]
  },
  {
   "cell_type": "code",
   "execution_count": null,
   "metadata": {},
   "outputs": [],
   "source": []
  },
  {
   "cell_type": "code",
   "execution_count": 13,
   "metadata": {},
   "outputs": [],
   "source": [
    "macro = lambda x,y:  metrics.flat_f1_score(x,y, average= 'macro')\n",
    "micro = lambda x,y:  metrics.flat_f1_score(x,y, average= 'micro')\n",
    "report = lambda x,y:  metrics.flat_classification_report(x,y,digits = 5)\n",
    "report_dict = lambda x,y:  metrics.flat_classification_report(x,y,digits = 5,output_dict = True,labels = list(range(len(labels))),target_names = labels)\n",
    "accuracy = lambda x,y:  metrics.flat_accuracy_score(x,y)\n",
    "seq_accuracy = lambda x,y:  metrics.sequence_accuracy_score(x,y)"
   ]
  },
  {
   "cell_type": "code",
   "execution_count": 10,
   "metadata": {},
   "outputs": [],
   "source": [
    "def test_model(model,test_file, return_dict = False):\n",
    "    result, _, predictions = model.eval_model\\\n",
    "                                        (test_file,\n",
    "                                         macro=macro,\n",
    "                                         micro=micro,\n",
    "                                         accuracy=accuracy,\n",
    "                                         report=report,\n",
    "                                         seq_accuracy = seq_accuracy)\n",
    "    print(\"tested on: \",test_file)\n",
    "    print(result[\"report\"])\n",
    "    print(\"sequence accuracy\", result[\"seq_accuracy\"])\n",
    "    if return_dict:\n",
    "        return result\n",
    "    \n",
    "    \n",
    "def load_test(model_path, test_file, model_type = 'xlmroberta'):\n",
    "    model = NERModel(\n",
    "        'xlmroberta', model_path\n",
    "    )\n",
    "    test_model(model, test_file)    "
   ]
  },
  {
   "cell_type": "code",
   "execution_count": 15,
   "metadata": {},
   "outputs": [
    {
     "name": "stderr",
     "output_type": "stream",
     "text": [
      "Some weights of the model checkpoint at xlm-roberta-base were not used when initializing XLMRobertaForTokenClassification: ['lm_head.bias', 'lm_head.dense.weight', 'lm_head.dense.bias', 'lm_head.layer_norm.weight', 'lm_head.layer_norm.bias', 'lm_head.decoder.weight']\n",
      "- This IS expected if you are initializing XLMRobertaForTokenClassification from the checkpoint of a model trained on another task or with another architecture (e.g. initializing a BertForSequenceClassification model from a BertForPreTraining model).\n",
      "- This IS NOT expected if you are initializing XLMRobertaForTokenClassification from the checkpoint of a model that you expect to be exactly identical (initializing a BertForSequenceClassification model from a BertForSequenceClassification model).\n",
      "Some weights of XLMRobertaForTokenClassification were not initialized from the model checkpoint at xlm-roberta-base and are newly initialized: ['classifier.weight', 'classifier.bias']\n",
      "You should probably TRAIN this model on a down-stream task to be able to use it for predictions and inference.\n"
     ]
    },
    {
     "data": {
      "application/vnd.jupyter.widget-view+json": {
       "model_id": "d6bae7bf0c86401faa664cfadb476ca8",
       "version_major": 2,
       "version_minor": 0
      },
      "text/plain": [
       "HBox(children=(FloatProgress(value=0.0, max=1692.0), HTML(value='')))"
      ]
     },
     "metadata": {},
     "output_type": "display_data"
    },
    {
     "name": "stdout",
     "output_type": "stream",
     "text": [
      "\n"
     ]
    },
    {
     "data": {
      "application/vnd.jupyter.widget-view+json": {
       "model_id": "46dd44e96b234c2980575ac53580525d",
       "version_major": 2,
       "version_minor": 0
      },
      "text/plain": [
       "HBox(children=(FloatProgress(value=0.0, description='Epoch', max=1.0, style=ProgressStyle(description_width='i…"
      ]
     },
     "metadata": {},
     "output_type": "display_data"
    },
    {
     "data": {
      "application/vnd.jupyter.widget-view+json": {
       "model_id": "80ecc7c232e341df8745479060ae37b0",
       "version_major": 2,
       "version_minor": 0
      },
      "text/plain": [
       "HBox(children=(FloatProgress(value=0.0, description='Running Epoch 0 of 1', max=212.0, style=ProgressStyle(des…"
      ]
     },
     "metadata": {},
     "output_type": "display_data"
    },
    {
     "name": "stdout",
     "output_type": "stream",
     "text": [
      "\n",
      "\n"
     ]
    },
    {
     "data": {
      "application/vnd.jupyter.widget-view+json": {
       "model_id": "ecc43e84599c4b1f89f343253cacf5f1",
       "version_major": 2,
       "version_minor": 0
      },
      "text/plain": [
       "HBox(children=(FloatProgress(value=0.0, max=8621.0), HTML(value='')))"
      ]
     },
     "metadata": {},
     "output_type": "display_data"
    },
    {
     "name": "stdout",
     "output_type": "stream",
     "text": [
      "\n"
     ]
    },
    {
     "data": {
      "application/vnd.jupyter.widget-view+json": {
       "model_id": "3eaf6b6624f44174a926fb7e91052f0a",
       "version_major": 2,
       "version_minor": 0
      },
      "text/plain": [
       "HBox(children=(FloatProgress(value=0.0, description='Running Evaluation', max=1078.0, style=ProgressStyle(desc…"
      ]
     },
     "metadata": {},
     "output_type": "display_data"
    },
    {
     "name": "stdout",
     "output_type": "stream",
     "text": [
      "\n",
      "tested on:  data/formatted/en_format_test.conll\n",
      "                              precision    recall  f1-score   support\n",
      "\n",
      "      B-alarm/alarm_modifier    0.00000   0.00000   0.00000         3\n",
      "                  B-datetime    0.41813   0.33712   0.37328      6158\n",
      "                  B-location    0.82392   0.67050   0.73933      1305\n",
      "                  B-negation    0.00000   0.00000   0.00000         3\n",
      "                 B-news/type    0.00000   0.00000   0.00000         1\n",
      "             B-reminder/noun    0.00000   0.00000   0.00000       980\n",
      " B-reminder/recurring_period    0.00000   0.00000   0.00000        80\n",
      "        B-reminder/reference    0.00000   0.00000   0.00000        85\n",
      "B-reminder/reminder_modifier    0.00000   0.00000   0.00000         2\n",
      "             B-reminder/todo    0.77778   0.02384   0.04627      1468\n",
      "         B-weather/attribute    0.66997   0.34792   0.45800      2719\n",
      "              B-weather/noun    0.35294   0.03021   0.05565      1589\n",
      "   B-weather/temperatureUnit    0.00000   0.00000   0.00000       297\n",
      "                  I-datetime    0.77283   0.68463   0.72606      8184\n",
      "                  I-location    0.73262   0.52692   0.61298       520\n",
      "             I-reminder/noun    0.00000   0.00000   0.00000        13\n",
      " I-reminder/recurring_period    0.00000   0.00000   0.00000        74\n",
      "             I-reminder/todo    0.77459   0.19802   0.31541      3540\n",
      "         I-weather/attribute    0.19672   0.22500   0.20991       160\n",
      "              I-weather/noun    0.00000   0.00000   0.00000       129\n",
      "                     NoLabel    0.73055   0.95751   0.82877     35281\n",
      "\n",
      "                    accuracy                        0.70898     62591\n",
      "                   macro avg    0.29762   0.19056   0.20789     62591\n",
      "                weighted avg    0.67786   0.70898   0.66010     62591\n",
      "\n",
      "sequence accuracy 0.14998260062637744\n"
     ]
    },
    {
     "data": {
      "application/vnd.jupyter.widget-view+json": {
       "model_id": "9483685953de4c1fbd92965fd6ce852f",
       "version_major": 2,
       "version_minor": 0
      },
      "text/plain": [
       "HBox(children=(FloatProgress(value=0.0, max=3043.0), HTML(value='')))"
      ]
     },
     "metadata": {},
     "output_type": "display_data"
    },
    {
     "name": "stdout",
     "output_type": "stream",
     "text": [
      "\n"
     ]
    },
    {
     "data": {
      "application/vnd.jupyter.widget-view+json": {
       "model_id": "5de862db24e245f6acb625aee8f5f4a5",
       "version_major": 2,
       "version_minor": 0
      },
      "text/plain": [
       "HBox(children=(FloatProgress(value=0.0, description='Running Evaluation', max=381.0, style=ProgressStyle(descr…"
      ]
     },
     "metadata": {},
     "output_type": "display_data"
    },
    {
     "name": "stdout",
     "output_type": "stream",
     "text": [
      "\n",
      "tested on:  data/formatted/es_format_test.conll\n",
      "                             precision    recall  f1-score   support\n",
      "\n",
      "     B-alarm/alarm_modifier    0.00000   0.00000   0.00000         4\n",
      "                 B-datetime    0.53453   0.54801   0.54119      2062\n",
      "                 B-location    0.82328   0.71805   0.76707       266\n",
      "                 B-negation    0.00000   0.00000   0.00000         2\n",
      "            B-reminder/noun    0.00000   0.00000   0.00000       493\n",
      "B-reminder/recurring_period    0.00000   0.00000   0.00000        26\n",
      "       B-reminder/reference    0.00000   0.00000   0.00000        14\n",
      "            B-reminder/todo    0.68085   0.04372   0.08216       732\n",
      "        B-weather/attribute    0.57812   0.31049   0.40400       715\n",
      "             B-weather/noun    0.83721   0.18557   0.30380       388\n",
      "     I-alarm/alarm_modifier    0.00000   0.00000   0.00000         4\n",
      "                 I-datetime    0.89297   0.80917   0.84901      4774\n",
      "                 I-location    0.95946   0.50000   0.65741       142\n",
      "                 I-negation    0.00000   0.00000   0.00000         1\n",
      "            I-reminder/noun    0.00769   0.04762   0.01325        21\n",
      "I-reminder/recurring_period    0.00000   0.00000   0.00000        59\n",
      "       I-reminder/reference    0.00000   0.00000   0.00000         3\n",
      "            I-reminder/todo    0.82983   0.35473   0.49700      2337\n",
      "        I-weather/attribute    0.33333   0.16154   0.21762       130\n",
      "             I-weather/noun    0.80000   0.07273   0.13333        55\n",
      "                    NoLabel    0.71076   0.95895   0.81641     10791\n",
      "\n",
      "                   accuracy                        0.72914     23019\n",
      "                  macro avg    0.38038   0.22431   0.25154     23019\n",
      "               weighted avg    0.72348   0.72914   0.69250     23019\n",
      "\n",
      "sequence accuracy 0.17121261912586264\n"
     ]
    },
    {
     "data": {
      "application/vnd.jupyter.widget-view+json": {
       "model_id": "1c981a00061b489699224cb77d3ad3b1",
       "version_major": 2,
       "version_minor": 0
      },
      "text/plain": [
       "HBox(children=(FloatProgress(value=0.0, max=1692.0), HTML(value='')))"
      ]
     },
     "metadata": {},
     "output_type": "display_data"
    },
    {
     "name": "stdout",
     "output_type": "stream",
     "text": [
      "\n"
     ]
    },
    {
     "data": {
      "application/vnd.jupyter.widget-view+json": {
       "model_id": "f862fc9902834b628c96fdf5de68a30b",
       "version_major": 2,
       "version_minor": 0
      },
      "text/plain": [
       "HBox(children=(FloatProgress(value=0.0, description='Running Evaluation', max=212.0, style=ProgressStyle(descr…"
      ]
     },
     "metadata": {},
     "output_type": "display_data"
    },
    {
     "name": "stdout",
     "output_type": "stream",
     "text": [
      "\n",
      "tested on:  data/formatted/th_format_test.conll\n",
      "                             precision    recall  f1-score   support\n",
      "\n",
      "                 B-datetime    0.92183   0.92935   0.92558      1104\n",
      "                 B-location    0.97468   0.95652   0.96552       161\n",
      "            B-reminder/noun    0.81070   0.86404   0.83652       228\n",
      "B-reminder/recurring_period    0.00000   0.00000   0.00000        10\n",
      "       B-reminder/reference    0.00000   0.00000   0.00000         7\n",
      "            B-reminder/todo    0.89498   0.64474   0.74952       304\n",
      "        B-weather/attribute    0.94589   0.96468   0.95519       453\n",
      "             B-weather/noun    0.91667   0.95872   0.93722       218\n",
      "                 I-datetime    0.95249   0.98641   0.96915      2134\n",
      "                 I-location    0.88265   0.92021   0.90104       188\n",
      "            I-reminder/noun    0.86693   0.98444   0.92196       450\n",
      "I-reminder/recurring_period    0.00000   0.00000   0.00000        25\n",
      "       I-reminder/reference    0.00000   0.00000   0.00000        11\n",
      "            I-reminder/todo    0.85768   0.97240   0.91144       942\n",
      "        I-weather/attribute    0.90233   0.85463   0.87783       227\n",
      "             I-weather/noun    0.97015   0.89041   0.92857       146\n",
      "                    NoLabel    0.98655   0.96573   0.97603      7062\n",
      "\n",
      "                   accuracy                        0.95099     13670\n",
      "                  macro avg    0.69903   0.69955   0.69739     13670\n",
      "               weighted avg    0.94879   0.95099   0.94890     13670\n",
      "\n",
      "sequence accuracy 0.7742316784869976\n"
     ]
    },
    {
     "data": {
      "application/vnd.jupyter.widget-view+json": {
       "model_id": "6fd2651c766b49978d1bb6e2c36c1c3a",
       "version_major": 2,
       "version_minor": 0
      },
      "text/plain": [
       "HBox(children=(FloatProgress(value=0.0, max=1692.0), HTML(value='')))"
      ]
     },
     "metadata": {},
     "output_type": "display_data"
    },
    {
     "name": "stdout",
     "output_type": "stream",
     "text": [
      "\n"
     ]
    },
    {
     "data": {
      "application/vnd.jupyter.widget-view+json": {
       "model_id": "0ad416ca12ee4e8a925bc95be9efd42d",
       "version_major": 2,
       "version_minor": 0
      },
      "text/plain": [
       "HBox(children=(FloatProgress(value=0.0, description='Running Evaluation', max=212.0, style=ProgressStyle(descr…"
      ]
     },
     "metadata": {},
     "output_type": "display_data"
    },
    {
     "name": "stdout",
     "output_type": "stream",
     "text": [
      "\n",
      "tested on:  data/formatted/th_format_test.conll\n",
      "                             precision    recall  f1-score   support\n",
      "\n",
      "                 B-datetime    0.92183   0.92935   0.92558      1104\n",
      "                 B-location    0.97468   0.95652   0.96552       161\n",
      "            B-reminder/noun    0.81070   0.86404   0.83652       228\n",
      "B-reminder/recurring_period    0.00000   0.00000   0.00000        10\n",
      "       B-reminder/reference    0.00000   0.00000   0.00000         7\n",
      "            B-reminder/todo    0.89498   0.64474   0.74952       304\n",
      "        B-weather/attribute    0.94589   0.96468   0.95519       453\n",
      "             B-weather/noun    0.91667   0.95872   0.93722       218\n",
      "                 I-datetime    0.95249   0.98641   0.96915      2134\n",
      "                 I-location    0.88265   0.92021   0.90104       188\n",
      "            I-reminder/noun    0.86693   0.98444   0.92196       450\n",
      "I-reminder/recurring_period    0.00000   0.00000   0.00000        25\n",
      "       I-reminder/reference    0.00000   0.00000   0.00000        11\n",
      "            I-reminder/todo    0.85768   0.97240   0.91144       942\n",
      "        I-weather/attribute    0.90233   0.85463   0.87783       227\n",
      "             I-weather/noun    0.97015   0.89041   0.92857       146\n",
      "                    NoLabel    0.98655   0.96573   0.97603      7062\n",
      "\n",
      "                   accuracy                        0.95099     13670\n",
      "                  macro avg    0.69903   0.69955   0.69739     13670\n",
      "               weighted avg    0.94879   0.95099   0.94890     13670\n",
      "\n",
      "sequence accuracy 0.7742316784869976\n"
     ]
    }
   ],
   "source": [
    "\n",
    "args[\"output_dir\"] = \"models/slot_en_train\"\n",
    "model = NERModel('xlmroberta','xlm-roberta-base', labels = labels,  args=args)\n",
    "#train eng\n",
    "model.train_model( path_2_en_train)\n",
    "#baseline\n",
    "test_model(model, path_2_en_test)\n",
    "#zero-shot cross_lingual\"\n",
    "test_model(model, path_2_es_test)\n",
    "test_model(model, path_2_th_test)\n"
   ]
  },
  {
   "cell_type": "code",
   "execution_count": null,
   "metadata": {},
   "outputs": [],
   "source": [
    "args[\"output_dir\"] = \"models/slot_es_train\"\n",
    "model = NERModel('xlmroberta','xlm-roberta-base', labels = labels,  args=args)\n",
    "#train es\n",
    "model.train_model(path_2_es_train)\n",
    "\n",
    "test_model(model, path_2_en_test)\n",
    "test_model(model, path_2_es_test)\n",
    "test_model(model, path_2_th_test)"
   ]
  },
  {
   "cell_type": "code",
   "execution_count": null,
   "metadata": {},
   "outputs": [],
   "source": [
    "args[\"output_dir\"] = \"models/slot_th_train\"\n",
    "\n",
    "model = NERModel('xlmroberta','xlm-roberta-base', labels = labels,  args=args)\n",
    "#thai th\n",
    "model.train_model(path_2_th_train)\n",
    "\n",
    "\n",
    "test_model(model, path_2_en_test)\n",
    "test_model(model, path_2_es_test)\n",
    "test_model(model, path_2_th_test)"
   ]
  },
  {
   "cell_type": "code",
   "execution_count": null,
   "metadata": {},
   "outputs": [],
   "source": [
    "args[\"output_dir\"] = \"models/slot_en_th_train\"\n",
    "\n",
    "model = NERModel('xlmroberta','xlm-roberta-base', labels = labels,  args=args)\n",
    "\n",
    "#sequentially train\n",
    "model.train_model(path_2_en_train,output_dir)\n",
    "model.train_model(path_2_th_train,output_dir)\n",
    "\n",
    "\n",
    "test_model(model, path_2_en_test)\n",
    "test_model(model, path_2_es_test)\n",
    "test_model(model, path_2_th_test)"
   ]
  },
  {
   "cell_type": "code",
   "execution_count": null,
   "metadata": {},
   "outputs": [],
   "source": [
    "args[\"output_dir\"] = \"models/slot_en_es_train\"\n",
    "model = NERModel('xlmroberta','xlm-roberta-base', labels = labels,  args=args)\n",
    "\n",
    "model.train_model(path_2_en_train,output_dir )\n",
    "model.train_model(path_2_es_train,output_dir )\n",
    "\n",
    "\n",
    "test_model(model, path_2_en_test)\n",
    "test_model(model, path_2_es_test)\n",
    "test_model(model, path_2_th_test)"
   ]
  },
  {
   "cell_type": "code",
   "execution_count": null,
   "metadata": {},
   "outputs": [],
   "source": [
    "model.train_model(path_2_th_train,output_dir = path_2_checkpoints)\n"
   ]
  },
  {
   "cell_type": "code",
   "execution_count": null,
   "metadata": {},
   "outputs": [],
   "source": [
    "\n",
    "\n",
    "    \n",
    "    "
   ]
  }
 ],
 "metadata": {
  "kernelspec": {
   "display_name": "Python 3",
   "language": "python",
   "name": "python3"
  },
  "language_info": {
   "codemirror_mode": {
    "name": "ipython",
    "version": 3
   },
   "file_extension": ".py",
   "mimetype": "text/x-python",
   "name": "python",
   "nbconvert_exporter": "python",
   "pygments_lexer": "ipython3",
   "version": "3.7.4"
  }
 },
 "nbformat": 4,
 "nbformat_minor": 2
}
