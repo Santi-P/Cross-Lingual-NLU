{
 "cells": [
  {
   "cell_type": "markdown",
   "metadata": {},
   "source": [
    "# Experiments on Cross Lingual Transfer for Intent Detection\n",
    "## Santichai Pornavalai\n",
    "## 10.2.2021"
   ]
  },
  {
   "cell_type": "markdown",
   "metadata": {},
   "source": [
    "This notebook is used to run the experiments for Intent Only cross-lingual experiments using XLM-R. The blocks for training and testing are meant to be run individually and correspond to the experiments listed in the paper"
   ]
  },
  {
   "cell_type": "code",
   "execution_count": 1,
   "metadata": {},
   "outputs": [
    {
     "data": {
      "text/plain": [
       "<torch._C.Generator at 0x7f2ef68a5150>"
      ]
     },
     "execution_count": 1,
     "metadata": {},
     "output_type": "execute_result"
    }
   ],
   "source": [
    "from preprocessing.util import *\n",
    "import pickle\n",
    "import sklearn\n",
    "import torch\n",
    "import numpy as np\n",
    "from simpletransformers.classification import ClassificationModel\n",
    "\n",
    "torch.manual_seed(136)\n",
    "#from model import *"
   ]
  },
  {
   "cell_type": "markdown",
   "metadata": {},
   "source": [
    "We begin by preprocessing the data"
   ]
  },
  {
   "cell_type": "code",
   "execution_count": 2,
   "metadata": {},
   "outputs": [
    {
     "name": "stdout",
     "output_type": "stream",
     "text": [
      "opening data/en/train-en.tsv\n",
      "opening data/en/eval-en.tsv\n",
      "opening data/en/test-en.tsv\n",
      "opening data/es/train-es.tsv\n",
      "opening data/es/eval-es.tsv\n",
      "opening data/es/test-es.tsv\n",
      "opening data/th/train-th_TH.tsv\n",
      "opening data/th/eval-th_TH.tsv\n",
      "opening data/th/test-th_TH.tsv\n"
     ]
    }
   ],
   "source": [
    "mapping = {}\n",
    "with open('preprocessing/label_map.json','r') as f:\n",
    "    mapping = json.load(f)\n",
    "    mapping = {int(k):v for k,v in mapping.items()}\n",
    "    \n",
    "    \n",
    "# preprocess training and test files to pandas df\n",
    "\n",
    "# eng train\n",
    "en_df, en_mapping = df_format((\"data/en/train-en.tsv\"),mapping)\n",
    "\n",
    "# eng eval\n",
    "en_df_eval, en_mapping = df_format(\"data/en/eval-en.tsv\",mapping)\n",
    "\n",
    "# eng test\n",
    "en_df_test, en_mapping = df_format(\"data/en/test-en.tsv\",mapping)\n",
    "\n",
    "# es train\n",
    "es_df, es_mapping = df_format(\"data/es/train-es.tsv\",mapping)\n",
    "\n",
    "# es eval\n",
    "es_df_eval, es_mapping = df_format(\"data/es/eval-es.tsv\",mapping)\n",
    "\n",
    "# es test\n",
    "es_df_test, es_mapping = df_format(\"data/es/test-es.tsv\",mapping)\n",
    "\n",
    "\n",
    "# th train\n",
    "th_df, th_mapping = df_format(\"data/th/train-th_TH.tsv\",mapping)\n",
    "\n",
    "# th eval\n",
    "th_df_eval, th_mapping = df_format(\"data/th/eval-th_TH.tsv\",mapping)\n",
    "\n",
    "# th test\n",
    "th_df_test, th_mapping = df_format(\"data/th/test-th_TH.tsv\",mapping)\n",
    "\n",
    "mapping_list = list(mapping.values())"
   ]
  },
  {
   "cell_type": "code",
   "execution_count": 3,
   "metadata": {},
   "outputs": [],
   "source": [
    "\n",
    "# drop some duplicate values \n",
    "# This is perhaps unnecessary. \n",
    "en_train = en_df.drop_duplicates(\"text\")\n",
    "en_eval = en_df_eval.drop_duplicates(\"text\")\n",
    "en_test = en_df_test.drop_duplicates(\"text\")\n",
    "\n",
    "es_train = es_df.drop_duplicates(\"text\")\n",
    "es_eval = es_df_eval.drop_duplicates(\"text\")\n",
    "es_test = es_df_test.drop_duplicates(\"text\")\n",
    "\n",
    "th_train = th_df.drop_duplicates(\"text\")\n",
    "th_eval = th_df_eval.drop_duplicates(\"text\")\n",
    "th_test = th_df_test.drop_duplicates(\"text\")"
   ]
  },
  {
   "cell_type": "markdown",
   "metadata": {},
   "source": [
    "Since we do not know if the other experiments were trained on a combination of train and eval, we err on the safe side ignore the eval file"
   ]
  },
  {
   "cell_type": "code",
   "execution_count": 4,
   "metadata": {},
   "outputs": [],
   "source": [
    "# en_full_train = pd.concat([en_train,en_eval])\n",
    "# es_full_train = pd.concat([es_train,es_eval])\n",
    "# th_full_train = pd.concat([th_train, th_eval])\n",
    "# quick hack to by-pass combining en eval \n",
    "\n",
    "en_full_train = en_train\n",
    "es_full_train = es_train\n",
    "th_full_train = th_train"
   ]
  },
  {
   "cell_type": "code",
   "execution_count": 5,
   "metadata": {},
   "outputs": [],
   "source": [
    "# we no longer use these paths.\n",
    "# should be removed\n",
    "path2model = \"prelim_models/\"\n",
    "path2model_en = \"prelim_models/en/\"\n",
    "path2model_es = \"prelim_models/es/\"\n",
    "path2model_th = \"prelim_models/th/\"\n",
    "#path2model_x = \"/home/santi/BA/final_models/x/\""
   ]
  },
  {
   "cell_type": "code",
   "execution_count": 6,
   "metadata": {},
   "outputs": [],
   "source": [
    "# mix create data for cross-lingual training\n",
    "en_th_full_train = pd.concat([en_full_train,th_full_train])\n",
    "en_es_full_train = pd.concat([en_full_train,th_full_train])"
   ]
  },
  {
   "cell_type": "code",
   "execution_count": 7,
   "metadata": {},
   "outputs": [],
   "source": [
    "\n",
    "def avg_sent_l(df):\n",
    "    return sum([len(l.split()) for l in df[\"text\"]])/len(df)\n",
    "\n",
    "def lexical_diversity(df):\n",
    "    lexes = set()\n",
    "    for l in df[\"text\"]:\n",
    "        for w in l.split():\n",
    "            lexes.add(w)\n",
    "    return len(lexes), lexes\n",
    "\n",
    "\n",
    "def analyze_wrong(wrong_predictions,model):\n",
    "    wrongs = [(inp.text_a,inp.label) for inp in wrong_predictions]\n",
    "    wrong_preds, vecs = model.predict([t for t,l in wrongs])\n",
    "\n",
    "    dom_corr = 0\n",
    "    weak_dom = 0\n",
    "    rem_alarms = [\"reminder\",\"alarm\"]\n",
    "    results = []\n",
    "\n",
    "    for (text, lab_true), lab_pred in zip(wrongs,wrong_preds):\n",
    "\n",
    "        lab_pred = mapping[lab_pred]\n",
    "        lab_true = mapping[lab_true]\n",
    "        dom_pred = lab_pred.split(\"/\")[0]\n",
    "        dom_true = lab_true.split(\"/\")[0]\n",
    "\n",
    "        if dom_pred == dom_true:\n",
    "            dom_corr += 1\n",
    "\n",
    "        if (dom_pred in rem_alarms) and (dom_true in rem_alarms):\n",
    "            weak_dom += 1    \n",
    "\n",
    "        results.append((text,lab_pred, lab_true))\n",
    "\n",
    "        #print(text,\"\\t\" ,lab_pred,\"\\t\", lab_true,\"\\t\", dom_pred,\"\\t\", dom_true)\n",
    "\n",
    "    return results, dom_corr/len(wrongs)"
   ]
  },
  {
   "cell_type": "code",
   "execution_count": 8,
   "metadata": {},
   "outputs": [],
   "source": [
    "# metrics used for evaluation\n",
    "macro = lambda x,y:  sklearn.metrics.f1_score(x,y, average= 'macro')\n",
    "micro = lambda x,y:  sklearn.metrics.f1_score(x,y, average= 'micro')\n",
    "report = lambda x,y:  sklearn.metrics.classification_report(x,y,digits = 5,labels = list(range(0,12)), target_names = mapping_list)\n",
    "report_dict = lambda x,y:  sklearn.metrics.classification_report(x,y,digits = 5,output_dict = True,labels = list(range(0,12)),target_names = mapping_list)\n",
    "accuracy = lambda x,y:  sklearn.metrics.accuracy_score(x,y)\n"
   ]
  },
  {
   "cell_type": "code",
   "execution_count": 9,
   "metadata": {},
   "outputs": [],
   "source": [
    "def custom_eval(df, model, ex_name = \"experiment 1\", verbose = True):\n",
    "    results, predictions_vs, wrongs = model.eval_model(df, macro=macro, micro=micro,accuracy=accuracy, report=report, report_dict = report_dict)\n",
    "    results[\"name\"] = ex_name\n",
    "    \n",
    "    false_preds,dom_acc = analyze_wrong(wrongs,model)\n",
    "    results[\"wrong_predictions\"] = false_preds\n",
    "    results[\"domain_of_wrongs\"] = dom_acc\n",
    "    results[\"domain_accuracy\"] = results[\"accuracy\"] + (1-results[\"accuracy\"])*dom_acc\n",
    "    \n",
    "    if verbose:\n",
    "        print(\"results for experiment: \",ex_name)\n",
    "\n",
    "        print(results[\"report\"])\n",
    "        print(\"domain accuracy: \",results[\"domain_accuracy\"])\n",
    "        \n",
    "    return results"
   ]
  },
  {
   "cell_type": "markdown",
   "metadata": {},
   "source": [
    "Here we gather some statistics about the datasets"
   ]
  },
  {
   "cell_type": "code",
   "execution_count": 10,
   "metadata": {},
   "outputs": [
    {
     "name": "stdout",
     "output_type": "stream",
     "text": [
      "average sentence length\n",
      "en 7.69126027754818\n",
      "es 7.678731678133413\n",
      "th 8.280373831775702\n",
      "unique tokens\n",
      "en 3983\n",
      "es 1849\n",
      "th 1138\n"
     ]
    }
   ],
   "source": [
    "# \n",
    "\n",
    "print(\"average sentence length\")\n",
    "print(\"en\",avg_sent_l(en_train))\n",
    "print(\"es\",avg_sent_l(es_train))\n",
    "print(\"th\",avg_sent_l(th_train))\n",
    "\n",
    "\n",
    "print(\"unique tokens\")\n",
    "print(\"en\",lexical_diversity(en_train)[0])\n",
    "print(\"es\",lexical_diversity(es_train)[0])\n",
    "print(\"th\",lexical_diversity(th_train)[0])"
   ]
  },
  {
   "cell_type": "code",
   "execution_count": null,
   "metadata": {},
   "outputs": [],
   "source": []
  },
  {
   "cell_type": "markdown",
   "metadata": {},
   "source": [
    "\n",
    "  \n",
    "    "
   ]
  },
  {
   "cell_type": "markdown",
   "metadata": {},
   "source": [
    "We load up a pretrained XLM-R model with a Max Ent layer for classification. Arguments are left pretty vanilla except fp16 which is not relevant for the results. "
   ]
  },
  {
   "cell_type": "code",
   "execution_count": 11,
   "metadata": {},
   "outputs": [],
   "source": [
    "#change the hyper-parameters here. \n",
    "\n",
    "args={\"fp16\": True,\n",
    "      'learning_rate':1e-5,\n",
    "      'num_train_epochs': 5,\n",
    "      'reprocess_input_data': True,\n",
    "      'overwrite_output_dir': True,\n",
    "      'save_steps':-1,\n",
    "      \"save_model_every_epoch\":False,\n",
    "     }"
   ]
  },
  {
   "cell_type": "code",
   "execution_count": 12,
   "metadata": {},
   "outputs": [],
   "source": [
    "experiment_results = {}"
   ]
  },
  {
   "cell_type": "code",
   "execution_count": 13,
   "metadata": {},
   "outputs": [
    {
     "name": "stderr",
     "output_type": "stream",
     "text": [
      "Some weights of the model checkpoint at xlm-roberta-base were not used when initializing XLMRobertaForSequenceClassification: ['lm_head.bias', 'lm_head.dense.weight', 'lm_head.dense.bias', 'lm_head.layer_norm.weight', 'lm_head.layer_norm.bias', 'lm_head.decoder.weight']\n",
      "- This IS expected if you are initializing XLMRobertaForSequenceClassification from the checkpoint of a model trained on another task or with another architecture (e.g. initializing a BertForSequenceClassification model from a BertForPreTraining model).\n",
      "- This IS NOT expected if you are initializing XLMRobertaForSequenceClassification from the checkpoint of a model that you expect to be exactly identical (initializing a BertForSequenceClassification model from a BertForSequenceClassification model).\n",
      "Some weights of XLMRobertaForSequenceClassification were not initialized from the model checkpoint at xlm-roberta-base and are newly initialized: ['classifier.dense.weight', 'classifier.dense.bias', 'classifier.out_proj.weight', 'classifier.out_proj.bias']\n",
      "You should probably TRAIN this model on a down-stream task to be able to use it for predictions and inference.\n",
      "/home/santi/anaconda3/lib/python3.7/site-packages/simpletransformers/classification/classification_model.py:290: UserWarning: use_multiprocessing automatically disabled as xlmroberta fails when using multiprocessing for feature conversion.\n",
      "  f\"use_multiprocessing automatically disabled as {model_type}\"\n"
     ]
    },
    {
     "data": {
      "application/vnd.jupyter.widget-view+json": {
       "model_id": "3cc8e2d14502442dbf84857757addc6e",
       "version_major": 2,
       "version_minor": 0
      },
      "text/plain": [
       "HBox(children=(FloatProgress(value=0.0, max=22987.0), HTML(value='')))"
      ]
     },
     "metadata": {},
     "output_type": "display_data"
    },
    {
     "name": "stdout",
     "output_type": "stream",
     "text": [
      "\n"
     ]
    },
    {
     "data": {
      "application/vnd.jupyter.widget-view+json": {
       "model_id": "b16b7cc927ad4fb1bcf2d75b72f1def8",
       "version_major": 2,
       "version_minor": 0
      },
      "text/plain": [
       "HBox(children=(FloatProgress(value=0.0, description='Epoch', max=5.0, style=ProgressStyle(description_width='i…"
      ]
     },
     "metadata": {},
     "output_type": "display_data"
    },
    {
     "data": {
      "application/vnd.jupyter.widget-view+json": {
       "model_id": "b207b29920f04aa1a62220c021900f33",
       "version_major": 2,
       "version_minor": 0
      },
      "text/plain": [
       "HBox(children=(FloatProgress(value=0.0, description='Running Epoch 0 of 5', max=2874.0, style=ProgressStyle(de…"
      ]
     },
     "metadata": {},
     "output_type": "display_data"
    },
    {
     "name": "stderr",
     "output_type": "stream",
     "text": [
      "/home/santi/anaconda3/lib/python3.7/site-packages/torch/optim/lr_scheduler.py:136: UserWarning: Detected call of `lr_scheduler.step()` before `optimizer.step()`. In PyTorch 1.1.0 and later, you should call them in the opposite order: `optimizer.step()` before `lr_scheduler.step()`.  Failure to do this will result in PyTorch skipping the first value of the learning rate schedule. See more details at https://pytorch.org/docs/stable/optim.html#how-to-adjust-learning-rate\n",
      "  \"https://pytorch.org/docs/stable/optim.html#how-to-adjust-learning-rate\", UserWarning)\n"
     ]
    },
    {
     "name": "stdout",
     "output_type": "stream",
     "text": [
      "\n"
     ]
    },
    {
     "data": {
      "application/vnd.jupyter.widget-view+json": {
       "model_id": "d042c07bcaf94870a4911f7dc0653d8c",
       "version_major": 2,
       "version_minor": 0
      },
      "text/plain": [
       "HBox(children=(FloatProgress(value=0.0, description='Running Epoch 1 of 5', max=2874.0, style=ProgressStyle(de…"
      ]
     },
     "metadata": {},
     "output_type": "display_data"
    },
    {
     "name": "stdout",
     "output_type": "stream",
     "text": [
      "\n"
     ]
    },
    {
     "data": {
      "application/vnd.jupyter.widget-view+json": {
       "model_id": "07a5584824a14ba8a8ceae7e264fe4fe",
       "version_major": 2,
       "version_minor": 0
      },
      "text/plain": [
       "HBox(children=(FloatProgress(value=0.0, description='Running Epoch 2 of 5', max=2874.0, style=ProgressStyle(de…"
      ]
     },
     "metadata": {},
     "output_type": "display_data"
    },
    {
     "name": "stdout",
     "output_type": "stream",
     "text": [
      "\n"
     ]
    },
    {
     "data": {
      "application/vnd.jupyter.widget-view+json": {
       "model_id": "5696d2106712403a8573fdd5f39c75ba",
       "version_major": 2,
       "version_minor": 0
      },
      "text/plain": [
       "HBox(children=(FloatProgress(value=0.0, description='Running Epoch 3 of 5', max=2874.0, style=ProgressStyle(de…"
      ]
     },
     "metadata": {},
     "output_type": "display_data"
    },
    {
     "name": "stdout",
     "output_type": "stream",
     "text": [
      "\n"
     ]
    },
    {
     "data": {
      "application/vnd.jupyter.widget-view+json": {
       "model_id": "089b7dceabcd4119b7d969b91acb3b3b",
       "version_major": 2,
       "version_minor": 0
      },
      "text/plain": [
       "HBox(children=(FloatProgress(value=0.0, description='Running Epoch 4 of 5', max=2874.0, style=ProgressStyle(de…"
      ]
     },
     "metadata": {},
     "output_type": "display_data"
    },
    {
     "name": "stdout",
     "output_type": "stream",
     "text": [
      "\n",
      "\n"
     ]
    },
    {
     "data": {
      "application/vnd.jupyter.widget-view+json": {
       "model_id": "2355683f217a4faaad986950da7d4f25",
       "version_major": 2,
       "version_minor": 0
      },
      "text/plain": [
       "HBox(children=(FloatProgress(value=0.0, max=7420.0), HTML(value='')))"
      ]
     },
     "metadata": {},
     "output_type": "display_data"
    },
    {
     "name": "stdout",
     "output_type": "stream",
     "text": [
      "\n"
     ]
    },
    {
     "data": {
      "application/vnd.jupyter.widget-view+json": {
       "model_id": "1341d6cef2104c93b41f4b63958f158e",
       "version_major": 2,
       "version_minor": 0
      },
      "text/plain": [
       "HBox(children=(FloatProgress(value=0.0, description='Running Evaluation', max=928.0, style=ProgressStyle(descr…"
      ]
     },
     "metadata": {},
     "output_type": "display_data"
    },
    {
     "name": "stdout",
     "output_type": "stream",
     "text": [
      "\n"
     ]
    },
    {
     "data": {
      "application/vnd.jupyter.widget-view+json": {
       "model_id": "55065cc9f4de4cf8b0fcbb1925dc5fde",
       "version_major": 2,
       "version_minor": 0
      },
      "text/plain": [
       "HBox(children=(FloatProgress(value=0.0, max=52.0), HTML(value='')))"
      ]
     },
     "metadata": {},
     "output_type": "display_data"
    },
    {
     "name": "stdout",
     "output_type": "stream",
     "text": [
      "\n"
     ]
    },
    {
     "data": {
      "application/vnd.jupyter.widget-view+json": {
       "model_id": "022ba941dd99427ba343aa156e6b4d7a",
       "version_major": 2,
       "version_minor": 0
      },
      "text/plain": [
       "HBox(children=(FloatProgress(value=0.0, max=7.0), HTML(value='')))"
      ]
     },
     "metadata": {},
     "output_type": "display_data"
    },
    {
     "name": "stdout",
     "output_type": "stream",
     "text": [
      "\n",
      "results for experiment:  train_en_test_en\n",
      "                          precision    recall  f1-score   support\n",
      "\n",
      "reminder/cancel_reminder    1.00000   0.98944   0.99469       284\n",
      "            weather/find    0.99911   1.00000   0.99956      3386\n",
      "      alarm/cancel_alarm    0.98210   0.98874   0.98541       444\n",
      " reminder/show_reminders    0.99537   0.99078   0.99307       217\n",
      "      alarm/snooze_alarm    0.95556   0.96629   0.96089        89\n",
      "alarm/time_left_on_alarm    0.94048   0.97531   0.95758        81\n",
      "      alarm/modify_alarm    0.90476   0.93443   0.91935       122\n",
      "     weather/checkSunset    1.00000   0.94595   0.97222        37\n",
      "    weather/checkSunrise    1.00000   1.00000   1.00000        25\n",
      "       alarm/show_alarms    0.99038   0.97170   0.98095       212\n",
      "   reminder/set_reminder    0.99613   0.99922   0.99767      1287\n",
      "         alarm/set_alarm    0.99023   0.98382   0.98701      1236\n",
      "\n",
      "                accuracy                        0.99299      7420\n",
      "               macro avg    0.97951   0.97881   0.97903      7420\n",
      "            weighted avg    0.99307   0.99299   0.99301      7420\n",
      "\n",
      "domain accuracy:  0.9995956873315364\n"
     ]
    },
    {
     "data": {
      "application/vnd.jupyter.widget-view+json": {
       "model_id": "64cec2256a1b4a2db7969ea572fd8961",
       "version_major": 2,
       "version_minor": 0
      },
      "text/plain": [
       "HBox(children=(FloatProgress(value=0.0, max=2854.0), HTML(value='')))"
      ]
     },
     "metadata": {},
     "output_type": "display_data"
    },
    {
     "name": "stdout",
     "output_type": "stream",
     "text": [
      "\n"
     ]
    },
    {
     "data": {
      "application/vnd.jupyter.widget-view+json": {
       "model_id": "57b82c30622b4c029a3660e8df7c4ca7",
       "version_major": 2,
       "version_minor": 0
      },
      "text/plain": [
       "HBox(children=(FloatProgress(value=0.0, description='Running Evaluation', max=357.0, style=ProgressStyle(descr…"
      ]
     },
     "metadata": {},
     "output_type": "display_data"
    },
    {
     "name": "stdout",
     "output_type": "stream",
     "text": [
      "\n"
     ]
    },
    {
     "name": "stderr",
     "output_type": "stream",
     "text": [
      "/home/santi/anaconda3/lib/python3.7/site-packages/sklearn/metrics/classification.py:1437: UndefinedMetricWarning: Precision and F-score are ill-defined and being set to 0.0 in labels with no predicted samples.\n",
      "  'precision', 'predicted', average, warn_for)\n",
      "/home/santi/anaconda3/lib/python3.7/site-packages/sklearn/metrics/classification.py:1439: UndefinedMetricWarning: Recall and F-score are ill-defined and being set to 0.0 in labels with no true samples.\n",
      "  'recall', 'true', average, warn_for)\n"
     ]
    },
    {
     "data": {
      "application/vnd.jupyter.widget-view+json": {
       "model_id": "3618d7ecb9084153a59be424f5869197",
       "version_major": 2,
       "version_minor": 0
      },
      "text/plain": [
       "HBox(children=(FloatProgress(value=0.0, max=258.0), HTML(value='')))"
      ]
     },
     "metadata": {},
     "output_type": "display_data"
    },
    {
     "name": "stdout",
     "output_type": "stream",
     "text": [
      "\n"
     ]
    },
    {
     "data": {
      "application/vnd.jupyter.widget-view+json": {
       "model_id": "3ec94729de234661b543926e0376d1c3",
       "version_major": 2,
       "version_minor": 0
      },
      "text/plain": [
       "HBox(children=(FloatProgress(value=0.0, max=33.0), HTML(value='')))"
      ]
     },
     "metadata": {},
     "output_type": "display_data"
    },
    {
     "name": "stdout",
     "output_type": "stream",
     "text": [
      "\n",
      "results for experiment:  train_en_test_es\n",
      "                          precision    recall  f1-score   support\n",
      "\n",
      "reminder/cancel_reminder    0.99412   0.98830   0.99120       171\n",
      "            weather/find    0.93217   0.99793   0.96393       964\n",
      "      alarm/cancel_alarm    0.95939   0.87097   0.91304       217\n",
      " reminder/show_reminders    0.98425   0.94697   0.96525       132\n",
      "      alarm/snooze_alarm    0.44186   0.59375   0.50667        32\n",
      "alarm/time_left_on_alarm    1.00000   1.00000   1.00000        28\n",
      "      alarm/modify_alarm    0.58929   0.97059   0.73333        34\n",
      "     weather/checkSunset    0.00000   0.00000   0.00000         2\n",
      "    weather/checkSunrise    0.00000   0.00000   0.00000         0\n",
      "       alarm/show_alarms    0.95283   0.91818   0.93519       110\n",
      "   reminder/set_reminder    0.98879   0.70111   0.82047       629\n",
      "         alarm/set_alarm    0.81636   0.98879   0.89434       535\n",
      "\n",
      "               micro avg    0.90960   0.90960   0.90960      2854\n",
      "               macro avg    0.72159   0.74805   0.72695      2854\n",
      "            weighted avg    0.92236   0.90960   0.90779      2854\n",
      "\n",
      "domain accuracy:  0.9313244569025929\n"
     ]
    },
    {
     "data": {
      "application/vnd.jupyter.widget-view+json": {
       "model_id": "2845f87df42b426fafd396f2f795dcfc",
       "version_major": 2,
       "version_minor": 0
      },
      "text/plain": [
       "HBox(children=(FloatProgress(value=0.0, max=1557.0), HTML(value='')))"
      ]
     },
     "metadata": {},
     "output_type": "display_data"
    },
    {
     "name": "stdout",
     "output_type": "stream",
     "text": [
      "\n"
     ]
    },
    {
     "data": {
      "application/vnd.jupyter.widget-view+json": {
       "model_id": "937a6cd8fc3348c3b1122fd5439e603b",
       "version_major": 2,
       "version_minor": 0
      },
      "text/plain": [
       "HBox(children=(FloatProgress(value=0.0, description='Running Evaluation', max=195.0, style=ProgressStyle(descr…"
      ]
     },
     "metadata": {},
     "output_type": "display_data"
    },
    {
     "name": "stdout",
     "output_type": "stream",
     "text": [
      "\n"
     ]
    },
    {
     "name": "stderr",
     "output_type": "stream",
     "text": [
      "/home/santi/anaconda3/lib/python3.7/site-packages/sklearn/metrics/classification.py:1439: UndefinedMetricWarning: F-score is ill-defined and being set to 0.0 in labels with no true samples.\n",
      "  'recall', 'true', average, warn_for)\n"
     ]
    },
    {
     "data": {
      "application/vnd.jupyter.widget-view+json": {
       "model_id": "e3b8d8b2d1764466bb2e2a0770b4d602",
       "version_major": 2,
       "version_minor": 0
      },
      "text/plain": [
       "HBox(children=(FloatProgress(value=0.0, max=364.0), HTML(value='')))"
      ]
     },
     "metadata": {},
     "output_type": "display_data"
    },
    {
     "name": "stdout",
     "output_type": "stream",
     "text": [
      "\n"
     ]
    },
    {
     "data": {
      "application/vnd.jupyter.widget-view+json": {
       "model_id": "5f9e8e1e977d4df5b140f993b58be6d9",
       "version_major": 2,
       "version_minor": 0
      },
      "text/plain": [
       "HBox(children=(FloatProgress(value=0.0, max=46.0), HTML(value='')))"
      ]
     },
     "metadata": {},
     "output_type": "display_data"
    },
    {
     "name": "stdout",
     "output_type": "stream",
     "text": [
      "\n",
      "results for experiment:  train_en_test_th\n",
      "                          precision    recall  f1-score   support\n",
      "\n",
      "reminder/cancel_reminder    0.90000   0.09574   0.17308        94\n",
      "            weather/find    0.88278   1.00000   0.93774       610\n",
      "      alarm/cancel_alarm    0.58371   0.94161   0.72067       137\n",
      " reminder/show_reminders    0.72222   0.62903   0.67241        62\n",
      "      alarm/snooze_alarm    0.00000   0.00000   0.00000        20\n",
      "alarm/time_left_on_alarm    1.00000   0.90000   0.94737        20\n",
      "      alarm/modify_alarm    0.23404   0.84615   0.36667        13\n",
      "     weather/checkSunset    0.00000   0.00000   0.00000         0\n",
      "    weather/checkSunrise    0.00000   0.00000   0.00000         0\n",
      "       alarm/show_alarms    0.86667   0.16883   0.28261        77\n",
      "   reminder/set_reminder    0.99194   0.46415   0.63239       265\n",
      "         alarm/set_alarm    0.64960   0.93050   0.76508       259\n",
      "\n",
      "               micro avg    0.76622   0.76622   0.76622      1557\n",
      "               macro avg    0.56925   0.49800   0.45817      1557\n",
      "            weighted avg    0.81485   0.76622   0.73213      1557\n",
      "\n",
      "domain accuracy:  0.8195247270391779\n"
     ]
    }
   ],
   "source": [
    "# train english model\n",
    "# full train = train + eval\n",
    "args[\"output_dir\"] = \"models/intent_en_train\"\n",
    "model= ClassificationModel('xlmroberta','xlm-roberta-base', num_labels=12, args=args)\n",
    "model.train_model(en_full_train)\n",
    "\n",
    "# test eng\n",
    "results = custom_eval(en_test, model, \"train_en_test_en\")\n",
    "experiment_results[results[\"name\"]] = results\n",
    "\n",
    "# test es\n",
    "results = custom_eval(es_test, model, \"train_en_test_es\")\n",
    "experiment_results[results[\"name\"]] = results\n",
    "\n",
    "# test th\n",
    "results = custom_eval(th_test, model, \"train_en_test_th\")\n",
    "experiment_results[results[\"name\"]] = results"
   ]
  },
  {
   "cell_type": "code",
   "execution_count": 14,
   "metadata": {},
   "outputs": [
    {
     "name": "stderr",
     "output_type": "stream",
     "text": [
      "Some weights of the model checkpoint at xlm-roberta-base were not used when initializing XLMRobertaForSequenceClassification: ['lm_head.bias', 'lm_head.dense.weight', 'lm_head.dense.bias', 'lm_head.layer_norm.weight', 'lm_head.layer_norm.bias', 'lm_head.decoder.weight']\n",
      "- This IS expected if you are initializing XLMRobertaForSequenceClassification from the checkpoint of a model trained on another task or with another architecture (e.g. initializing a BertForSequenceClassification model from a BertForPreTraining model).\n",
      "- This IS NOT expected if you are initializing XLMRobertaForSequenceClassification from the checkpoint of a model that you expect to be exactly identical (initializing a BertForSequenceClassification model from a BertForSequenceClassification model).\n",
      "Some weights of XLMRobertaForSequenceClassification were not initialized from the model checkpoint at xlm-roberta-base and are newly initialized: ['classifier.dense.weight', 'classifier.dense.bias', 'classifier.out_proj.weight', 'classifier.out_proj.bias']\n",
      "You should probably TRAIN this model on a down-stream task to be able to use it for predictions and inference.\n"
     ]
    },
    {
     "data": {
      "application/vnd.jupyter.widget-view+json": {
       "model_id": "2e7b8ef0fa6045f3acc9104eb41730c4",
       "version_major": 2,
       "version_minor": 0
      },
      "text/plain": [
       "HBox(children=(FloatProgress(value=0.0, max=3343.0), HTML(value='')))"
      ]
     },
     "metadata": {},
     "output_type": "display_data"
    },
    {
     "name": "stdout",
     "output_type": "stream",
     "text": [
      "\n"
     ]
    },
    {
     "data": {
      "application/vnd.jupyter.widget-view+json": {
       "model_id": "1a43a4aba9e948d9a8f7d02c730cf369",
       "version_major": 2,
       "version_minor": 0
      },
      "text/plain": [
       "HBox(children=(FloatProgress(value=0.0, description='Epoch', max=5.0, style=ProgressStyle(description_width='i…"
      ]
     },
     "metadata": {},
     "output_type": "display_data"
    },
    {
     "data": {
      "application/vnd.jupyter.widget-view+json": {
       "model_id": "62770fed35294ab1a2e139cc880739ad",
       "version_major": 2,
       "version_minor": 0
      },
      "text/plain": [
       "HBox(children=(FloatProgress(value=0.0, description='Running Epoch 0 of 5', max=418.0, style=ProgressStyle(des…"
      ]
     },
     "metadata": {},
     "output_type": "display_data"
    },
    {
     "name": "stdout",
     "output_type": "stream",
     "text": [
      "\n"
     ]
    },
    {
     "data": {
      "application/vnd.jupyter.widget-view+json": {
       "model_id": "0fc799f53ce542da8432d50c31c7361e",
       "version_major": 2,
       "version_minor": 0
      },
      "text/plain": [
       "HBox(children=(FloatProgress(value=0.0, description='Running Epoch 1 of 5', max=418.0, style=ProgressStyle(des…"
      ]
     },
     "metadata": {},
     "output_type": "display_data"
    },
    {
     "name": "stdout",
     "output_type": "stream",
     "text": [
      "\n"
     ]
    },
    {
     "data": {
      "application/vnd.jupyter.widget-view+json": {
       "model_id": "61e983f70bea44d18b803b06d217011f",
       "version_major": 2,
       "version_minor": 0
      },
      "text/plain": [
       "HBox(children=(FloatProgress(value=0.0, description='Running Epoch 2 of 5', max=418.0, style=ProgressStyle(des…"
      ]
     },
     "metadata": {},
     "output_type": "display_data"
    },
    {
     "name": "stdout",
     "output_type": "stream",
     "text": [
      "\n"
     ]
    },
    {
     "data": {
      "application/vnd.jupyter.widget-view+json": {
       "model_id": "28dbcbc9e3ea4325aca93cd81d1fea2c",
       "version_major": 2,
       "version_minor": 0
      },
      "text/plain": [
       "HBox(children=(FloatProgress(value=0.0, description='Running Epoch 3 of 5', max=418.0, style=ProgressStyle(des…"
      ]
     },
     "metadata": {},
     "output_type": "display_data"
    },
    {
     "name": "stdout",
     "output_type": "stream",
     "text": [
      "\n"
     ]
    },
    {
     "data": {
      "application/vnd.jupyter.widget-view+json": {
       "model_id": "a19351eb690740818a2b4eaed16a8364",
       "version_major": 2,
       "version_minor": 0
      },
      "text/plain": [
       "HBox(children=(FloatProgress(value=0.0, description='Running Epoch 4 of 5', max=418.0, style=ProgressStyle(des…"
      ]
     },
     "metadata": {},
     "output_type": "display_data"
    },
    {
     "name": "stdout",
     "output_type": "stream",
     "text": [
      "\n",
      "\n"
     ]
    },
    {
     "data": {
      "application/vnd.jupyter.widget-view+json": {
       "model_id": "30f26021d7b1422296ccf092569dc07f",
       "version_major": 2,
       "version_minor": 0
      },
      "text/plain": [
       "HBox(children=(FloatProgress(value=0.0, max=7420.0), HTML(value='')))"
      ]
     },
     "metadata": {},
     "output_type": "display_data"
    },
    {
     "name": "stdout",
     "output_type": "stream",
     "text": [
      "\n"
     ]
    },
    {
     "data": {
      "application/vnd.jupyter.widget-view+json": {
       "model_id": "4982729812014035b5f6c8405830ec7f",
       "version_major": 2,
       "version_minor": 0
      },
      "text/plain": [
       "HBox(children=(FloatProgress(value=0.0, description='Running Evaluation', max=928.0, style=ProgressStyle(descr…"
      ]
     },
     "metadata": {},
     "output_type": "display_data"
    },
    {
     "name": "stdout",
     "output_type": "stream",
     "text": [
      "\n"
     ]
    },
    {
     "name": "stderr",
     "output_type": "stream",
     "text": [
      "/home/santi/anaconda3/lib/python3.7/site-packages/sklearn/metrics/classification.py:1437: UndefinedMetricWarning: F-score is ill-defined and being set to 0.0 in labels with no predicted samples.\n",
      "  'precision', 'predicted', average, warn_for)\n"
     ]
    },
    {
     "data": {
      "application/vnd.jupyter.widget-view+json": {
       "model_id": "f6fd7d03a62941babd94976423e58360",
       "version_major": 2,
       "version_minor": 0
      },
      "text/plain": [
       "HBox(children=(FloatProgress(value=0.0, max=340.0), HTML(value='')))"
      ]
     },
     "metadata": {},
     "output_type": "display_data"
    },
    {
     "name": "stdout",
     "output_type": "stream",
     "text": [
      "\n"
     ]
    },
    {
     "data": {
      "application/vnd.jupyter.widget-view+json": {
       "model_id": "34b066a300e3473c885bd666577ff854",
       "version_major": 2,
       "version_minor": 0
      },
      "text/plain": [
       "HBox(children=(FloatProgress(value=0.0, max=43.0), HTML(value='')))"
      ]
     },
     "metadata": {},
     "output_type": "display_data"
    },
    {
     "name": "stdout",
     "output_type": "stream",
     "text": [
      "\n",
      "results for experiment:  train_es_test_en\n",
      "                          precision    recall  f1-score   support\n",
      "\n",
      "reminder/cancel_reminder    1.00000   0.90845   0.95203       284\n",
      "            weather/find    0.98115   0.99941   0.99020      3386\n",
      "      alarm/cancel_alarm    0.89597   0.95045   0.92240       444\n",
      " reminder/show_reminders    1.00000   0.84793   0.91771       217\n",
      "      alarm/snooze_alarm    0.27273   0.03371   0.06000        89\n",
      "alarm/time_left_on_alarm    0.93671   0.91358   0.92500        81\n",
      "      alarm/modify_alarm    0.88298   0.68033   0.76852       122\n",
      "     weather/checkSunset    0.00000   0.00000   0.00000        37\n",
      "    weather/checkSunrise    0.00000   0.00000   0.00000        25\n",
      "       alarm/show_alarms    0.96135   0.93868   0.94988       212\n",
      "   reminder/set_reminder    0.96203   0.98446   0.97312      1287\n",
      "         alarm/set_alarm    0.89333   0.97573   0.93271      1236\n",
      "\n",
      "                accuracy                        0.95418      7420\n",
      "               macro avg    0.73219   0.68606   0.69930      7420\n",
      "            weighted avg    0.94002   0.95418   0.94508      7420\n",
      "\n",
      "domain accuracy:  0.9944743935309973\n"
     ]
    },
    {
     "data": {
      "application/vnd.jupyter.widget-view+json": {
       "model_id": "b9e2262e78ea44bca5c4c566cc554b33",
       "version_major": 2,
       "version_minor": 0
      },
      "text/plain": [
       "HBox(children=(FloatProgress(value=0.0, max=2854.0), HTML(value='')))"
      ]
     },
     "metadata": {},
     "output_type": "display_data"
    },
    {
     "name": "stdout",
     "output_type": "stream",
     "text": [
      "\n"
     ]
    },
    {
     "data": {
      "application/vnd.jupyter.widget-view+json": {
       "model_id": "d7ab018eaa24474d888e748ddee654bc",
       "version_major": 2,
       "version_minor": 0
      },
      "text/plain": [
       "HBox(children=(FloatProgress(value=0.0, description='Running Evaluation', max=357.0, style=ProgressStyle(descr…"
      ]
     },
     "metadata": {},
     "output_type": "display_data"
    },
    {
     "name": "stdout",
     "output_type": "stream",
     "text": [
      "\n"
     ]
    },
    {
     "data": {
      "application/vnd.jupyter.widget-view+json": {
       "model_id": "aec7d3eecd2e42b7ae77707d56cd236d",
       "version_major": 2,
       "version_minor": 0
      },
      "text/plain": [
       "HBox(children=(FloatProgress(value=0.0, max=45.0), HTML(value='')))"
      ]
     },
     "metadata": {},
     "output_type": "display_data"
    },
    {
     "name": "stdout",
     "output_type": "stream",
     "text": [
      "\n"
     ]
    },
    {
     "data": {
      "application/vnd.jupyter.widget-view+json": {
       "model_id": "eb81c42dee4b437e868cb88c38713ea9",
       "version_major": 2,
       "version_minor": 0
      },
      "text/plain": [
       "HBox(children=(FloatProgress(value=0.0, max=6.0), HTML(value='')))"
      ]
     },
     "metadata": {},
     "output_type": "display_data"
    },
    {
     "name": "stdout",
     "output_type": "stream",
     "text": [
      "\n",
      "results for experiment:  train_es_test_es\n",
      "                          precision    recall  f1-score   support\n",
      "\n",
      "reminder/cancel_reminder    0.98276   1.00000   0.99130       171\n",
      "            weather/find    0.99586   0.99793   0.99689       964\n",
      "      alarm/cancel_alarm    0.97664   0.96313   0.96984       217\n",
      " reminder/show_reminders    0.99213   0.95455   0.97297       132\n",
      "      alarm/snooze_alarm    0.96429   0.84375   0.90000        32\n",
      "alarm/time_left_on_alarm    1.00000   1.00000   1.00000        28\n",
      "      alarm/modify_alarm    1.00000   0.85294   0.92063        34\n",
      "     weather/checkSunset    0.00000   0.00000   0.00000         2\n",
      "    weather/checkSunrise    0.00000   0.00000   0.00000         0\n",
      "       alarm/show_alarms    0.96296   0.94545   0.95413       110\n",
      "   reminder/set_reminder    0.98736   0.99364   0.99049       629\n",
      "         alarm/set_alarm    0.96527   0.98692   0.97597       535\n",
      "\n",
      "               micro avg    0.98423   0.98423   0.98423      2854\n",
      "               macro avg    0.81894   0.79486   0.80602      2854\n",
      "            weighted avg    0.98360   0.98423   0.98375      2854\n",
      "\n",
      "domain accuracy:  0.9964961457603364\n"
     ]
    },
    {
     "data": {
      "application/vnd.jupyter.widget-view+json": {
       "model_id": "1046c62c6d714b95b9d91c02ffca98bb",
       "version_major": 2,
       "version_minor": 0
      },
      "text/plain": [
       "HBox(children=(FloatProgress(value=0.0, max=1557.0), HTML(value='')))"
      ]
     },
     "metadata": {},
     "output_type": "display_data"
    },
    {
     "name": "stdout",
     "output_type": "stream",
     "text": [
      "\n"
     ]
    },
    {
     "data": {
      "application/vnd.jupyter.widget-view+json": {
       "model_id": "41073552ff764b5ebca62c4094f47f7b",
       "version_major": 2,
       "version_minor": 0
      },
      "text/plain": [
       "HBox(children=(FloatProgress(value=0.0, description='Running Evaluation', max=195.0, style=ProgressStyle(descr…"
      ]
     },
     "metadata": {},
     "output_type": "display_data"
    },
    {
     "name": "stdout",
     "output_type": "stream",
     "text": [
      "\n"
     ]
    },
    {
     "data": {
      "application/vnd.jupyter.widget-view+json": {
       "model_id": "d5b88723b42d43c7b0d98b619a4fc716",
       "version_major": 2,
       "version_minor": 0
      },
      "text/plain": [
       "HBox(children=(FloatProgress(value=0.0, max=324.0), HTML(value='')))"
      ]
     },
     "metadata": {},
     "output_type": "display_data"
    },
    {
     "name": "stdout",
     "output_type": "stream",
     "text": [
      "\n"
     ]
    },
    {
     "data": {
      "application/vnd.jupyter.widget-view+json": {
       "model_id": "73f963f71b5d450b834b7f820dce2e8c",
       "version_major": 2,
       "version_minor": 0
      },
      "text/plain": [
       "HBox(children=(FloatProgress(value=0.0, max=41.0), HTML(value='')))"
      ]
     },
     "metadata": {},
     "output_type": "display_data"
    },
    {
     "name": "stdout",
     "output_type": "stream",
     "text": [
      "\n",
      "results for experiment:  train_es_test_th\n",
      "                          precision    recall  f1-score   support\n",
      "\n",
      "reminder/cancel_reminder    0.00000   0.00000   0.00000        94\n",
      "            weather/find    0.87231   0.99672   0.93037       610\n",
      "      alarm/cancel_alarm    0.54545   0.91971   0.68478       137\n",
      " reminder/show_reminders    0.00000   0.00000   0.00000        62\n",
      "      alarm/snooze_alarm    0.16667   0.05000   0.07692        20\n",
      "alarm/time_left_on_alarm    1.00000   0.10000   0.18182        20\n",
      "      alarm/modify_alarm    0.63636   0.53846   0.58333        13\n",
      "     weather/checkSunset    0.00000   0.00000   0.00000         0\n",
      "    weather/checkSunrise    0.00000   0.00000   0.00000         0\n",
      "       alarm/show_alarms    0.62963   0.22078   0.32692        77\n",
      "   reminder/set_reminder    0.89916   0.80755   0.85089       265\n",
      "         alarm/set_alarm    0.74783   0.99614   0.85430       259\n",
      "\n",
      "               micro avg    0.79191   0.79191   0.79191      1557\n",
      "               macro avg    0.45812   0.38578   0.37411      1557\n",
      "            weighted avg    0.71862   0.79191   0.73605      1557\n",
      "\n",
      "domain accuracy:  0.8420038535645472\n"
     ]
    }
   ],
   "source": [
    "# reset model\n",
    "# train on full spanish\n",
    "args[\"output_dir\"] = \"models/intent_es_train\"\n",
    "\n",
    "model= ClassificationModel('xlmroberta','xlm-roberta-base', num_labels=12, args=args)\n",
    "model.train_model(es_full_train)\n",
    "\n",
    "# test eng\n",
    "results = custom_eval(en_test, model, \"train_es_test_en\")\n",
    "experiment_results[results[\"name\"]] = results\n",
    "\n",
    "\n",
    "# test es\n",
    "results = custom_eval(es_test, model, \"train_es_test_es\")\n",
    "experiment_results[results[\"name\"]] = results\n",
    "\n",
    "\n",
    "# test th\n",
    "results = custom_eval(th_test, model, \"train_es_test_th\")\n",
    "experiment_results[results[\"name\"]] = results"
   ]
  },
  {
   "cell_type": "code",
   "execution_count": null,
   "metadata": {
    "scrolled": true
   },
   "outputs": [],
   "source": []
  },
  {
   "cell_type": "code",
   "execution_count": 15,
   "metadata": {},
   "outputs": [
    {
     "name": "stderr",
     "output_type": "stream",
     "text": [
      "Some weights of the model checkpoint at xlm-roberta-base were not used when initializing XLMRobertaForSequenceClassification: ['lm_head.bias', 'lm_head.dense.weight', 'lm_head.dense.bias', 'lm_head.layer_norm.weight', 'lm_head.layer_norm.bias', 'lm_head.decoder.weight']\n",
      "- This IS expected if you are initializing XLMRobertaForSequenceClassification from the checkpoint of a model trained on another task or with another architecture (e.g. initializing a BertForSequenceClassification model from a BertForPreTraining model).\n",
      "- This IS NOT expected if you are initializing XLMRobertaForSequenceClassification from the checkpoint of a model that you expect to be exactly identical (initializing a BertForSequenceClassification model from a BertForSequenceClassification model).\n",
      "Some weights of XLMRobertaForSequenceClassification were not initialized from the model checkpoint at xlm-roberta-base and are newly initialized: ['classifier.dense.weight', 'classifier.dense.bias', 'classifier.out_proj.weight', 'classifier.out_proj.bias']\n",
      "You should probably TRAIN this model on a down-stream task to be able to use it for predictions and inference.\n"
     ]
    },
    {
     "data": {
      "application/vnd.jupyter.widget-view+json": {
       "model_id": "5a1fbbaa68464e21b59657e2f9b138b5",
       "version_major": 2,
       "version_minor": 0
      },
      "text/plain": [
       "HBox(children=(FloatProgress(value=0.0, max=1926.0), HTML(value='')))"
      ]
     },
     "metadata": {},
     "output_type": "display_data"
    },
    {
     "name": "stdout",
     "output_type": "stream",
     "text": [
      "\n"
     ]
    },
    {
     "data": {
      "application/vnd.jupyter.widget-view+json": {
       "model_id": "42d4599b1e7546a8ba571bc22ae84f6c",
       "version_major": 2,
       "version_minor": 0
      },
      "text/plain": [
       "HBox(children=(FloatProgress(value=0.0, description='Epoch', max=5.0, style=ProgressStyle(description_width='i…"
      ]
     },
     "metadata": {},
     "output_type": "display_data"
    },
    {
     "data": {
      "application/vnd.jupyter.widget-view+json": {
       "model_id": "41861d1604d04527a17b19ea87429c9d",
       "version_major": 2,
       "version_minor": 0
      },
      "text/plain": [
       "HBox(children=(FloatProgress(value=0.0, description='Running Epoch 0 of 5', max=241.0, style=ProgressStyle(des…"
      ]
     },
     "metadata": {},
     "output_type": "display_data"
    },
    {
     "name": "stdout",
     "output_type": "stream",
     "text": [
      "\n"
     ]
    },
    {
     "data": {
      "application/vnd.jupyter.widget-view+json": {
       "model_id": "c254c3ace09a42f3ad7e7424b2ed55a8",
       "version_major": 2,
       "version_minor": 0
      },
      "text/plain": [
       "HBox(children=(FloatProgress(value=0.0, description='Running Epoch 1 of 5', max=241.0, style=ProgressStyle(des…"
      ]
     },
     "metadata": {},
     "output_type": "display_data"
    },
    {
     "name": "stdout",
     "output_type": "stream",
     "text": [
      "\n"
     ]
    },
    {
     "data": {
      "application/vnd.jupyter.widget-view+json": {
       "model_id": "5ffd1f475b9d4986b94aaa81cfcb9d48",
       "version_major": 2,
       "version_minor": 0
      },
      "text/plain": [
       "HBox(children=(FloatProgress(value=0.0, description='Running Epoch 2 of 5', max=241.0, style=ProgressStyle(des…"
      ]
     },
     "metadata": {},
     "output_type": "display_data"
    },
    {
     "name": "stdout",
     "output_type": "stream",
     "text": [
      "\n"
     ]
    },
    {
     "data": {
      "application/vnd.jupyter.widget-view+json": {
       "model_id": "1c8fe6d9d7644ceb95b7f13df33a3168",
       "version_major": 2,
       "version_minor": 0
      },
      "text/plain": [
       "HBox(children=(FloatProgress(value=0.0, description='Running Epoch 3 of 5', max=241.0, style=ProgressStyle(des…"
      ]
     },
     "metadata": {},
     "output_type": "display_data"
    },
    {
     "name": "stdout",
     "output_type": "stream",
     "text": [
      "\n"
     ]
    },
    {
     "data": {
      "application/vnd.jupyter.widget-view+json": {
       "model_id": "f434495f73184fbaa4215b65585776d4",
       "version_major": 2,
       "version_minor": 0
      },
      "text/plain": [
       "HBox(children=(FloatProgress(value=0.0, description='Running Epoch 4 of 5', max=241.0, style=ProgressStyle(des…"
      ]
     },
     "metadata": {},
     "output_type": "display_data"
    },
    {
     "name": "stdout",
     "output_type": "stream",
     "text": [
      "\n",
      "\n"
     ]
    },
    {
     "data": {
      "application/vnd.jupyter.widget-view+json": {
       "model_id": "a0d9ef0008314f0b8eedb6aaf0c3592d",
       "version_major": 2,
       "version_minor": 0
      },
      "text/plain": [
       "HBox(children=(FloatProgress(value=0.0, max=7420.0), HTML(value='')))"
      ]
     },
     "metadata": {},
     "output_type": "display_data"
    },
    {
     "name": "stdout",
     "output_type": "stream",
     "text": [
      "\n"
     ]
    },
    {
     "data": {
      "application/vnd.jupyter.widget-view+json": {
       "model_id": "8f8b916219074496afbac101e564a644",
       "version_major": 2,
       "version_minor": 0
      },
      "text/plain": [
       "HBox(children=(FloatProgress(value=0.0, description='Running Evaluation', max=928.0, style=ProgressStyle(descr…"
      ]
     },
     "metadata": {},
     "output_type": "display_data"
    },
    {
     "name": "stdout",
     "output_type": "stream",
     "text": [
      "\n"
     ]
    },
    {
     "data": {
      "application/vnd.jupyter.widget-view+json": {
       "model_id": "eaa73a43d1674fe3969d7ea2e299722a",
       "version_major": 2,
       "version_minor": 0
      },
      "text/plain": [
       "HBox(children=(FloatProgress(value=0.0, max=1285.0), HTML(value='')))"
      ]
     },
     "metadata": {},
     "output_type": "display_data"
    },
    {
     "name": "stdout",
     "output_type": "stream",
     "text": [
      "\n"
     ]
    },
    {
     "data": {
      "application/vnd.jupyter.widget-view+json": {
       "model_id": "77add20dd3784f4a8de6e0122b0dc1c3",
       "version_major": 2,
       "version_minor": 0
      },
      "text/plain": [
       "HBox(children=(FloatProgress(value=0.0, max=161.0), HTML(value='')))"
      ]
     },
     "metadata": {},
     "output_type": "display_data"
    },
    {
     "name": "stdout",
     "output_type": "stream",
     "text": [
      "\n",
      "results for experiment:  train_th_test_en\n",
      "                          precision    recall  f1-score   support\n",
      "\n",
      "reminder/cancel_reminder    0.94340   0.17606   0.29674       284\n",
      "            weather/find    0.87242   0.99970   0.93174      3386\n",
      "      alarm/cancel_alarm    0.73542   0.79505   0.76407       444\n",
      " reminder/show_reminders    1.00000   0.08756   0.16102       217\n",
      "      alarm/snooze_alarm    0.28571   0.02247   0.04167        89\n",
      "alarm/time_left_on_alarm    0.93750   0.37037   0.53097        81\n",
      "      alarm/modify_alarm    0.00000   0.00000   0.00000       122\n",
      "     weather/checkSunset    0.00000   0.00000   0.00000        37\n",
      "    weather/checkSunrise    0.00000   0.00000   0.00000        25\n",
      "       alarm/show_alarms    0.18280   0.08019   0.11148       212\n",
      "   reminder/set_reminder    0.78378   0.87879   0.82857      1287\n",
      "         alarm/set_alarm    0.81246   0.92880   0.86674      1236\n",
      "\n",
      "                accuracy                        0.82682      7420\n",
      "               macro avg    0.54612   0.36158   0.37775      7420\n",
      "            weighted avg    0.79764   0.82682   0.78455      7420\n",
      "\n",
      "domain accuracy:  0.9078167115902964\n"
     ]
    },
    {
     "data": {
      "application/vnd.jupyter.widget-view+json": {
       "model_id": "4870e124b80b4ffeb9a2c15ec3f60bea",
       "version_major": 2,
       "version_minor": 0
      },
      "text/plain": [
       "HBox(children=(FloatProgress(value=0.0, max=2854.0), HTML(value='')))"
      ]
     },
     "metadata": {},
     "output_type": "display_data"
    },
    {
     "name": "stdout",
     "output_type": "stream",
     "text": [
      "\n"
     ]
    },
    {
     "data": {
      "application/vnd.jupyter.widget-view+json": {
       "model_id": "9871c220e9d0487785b6f0e3fa403d75",
       "version_major": 2,
       "version_minor": 0
      },
      "text/plain": [
       "HBox(children=(FloatProgress(value=0.0, description='Running Evaluation', max=357.0, style=ProgressStyle(descr…"
      ]
     },
     "metadata": {},
     "output_type": "display_data"
    },
    {
     "name": "stdout",
     "output_type": "stream",
     "text": [
      "\n"
     ]
    },
    {
     "data": {
      "application/vnd.jupyter.widget-view+json": {
       "model_id": "ad534d5a51344c9eb2952ec12de5637c",
       "version_major": 2,
       "version_minor": 0
      },
      "text/plain": [
       "HBox(children=(FloatProgress(value=0.0, max=852.0), HTML(value='')))"
      ]
     },
     "metadata": {},
     "output_type": "display_data"
    },
    {
     "name": "stdout",
     "output_type": "stream",
     "text": [
      "\n"
     ]
    },
    {
     "data": {
      "application/vnd.jupyter.widget-view+json": {
       "model_id": "9c5e1e690243439f9e1b9df45dddadd1",
       "version_major": 2,
       "version_minor": 0
      },
      "text/plain": [
       "HBox(children=(FloatProgress(value=0.0, max=107.0), HTML(value='')))"
      ]
     },
     "metadata": {},
     "output_type": "display_data"
    },
    {
     "name": "stdout",
     "output_type": "stream",
     "text": [
      "\n",
      "results for experiment:  train_th_test_es\n",
      "                          precision    recall  f1-score   support\n",
      "\n",
      "reminder/cancel_reminder    0.86047   0.43275   0.57588       171\n",
      "            weather/find    0.67226   0.99793   0.80334       964\n",
      "      alarm/cancel_alarm    0.53929   0.69585   0.60765       217\n",
      " reminder/show_reminders    0.75000   0.06818   0.12500       132\n",
      "      alarm/snooze_alarm    0.00000   0.00000   0.00000        32\n",
      "alarm/time_left_on_alarm    1.00000   0.07143   0.13333        28\n",
      "      alarm/modify_alarm    0.00000   0.00000   0.00000        34\n",
      "     weather/checkSunset    0.00000   0.00000   0.00000         2\n",
      "    weather/checkSunrise    0.00000   0.00000   0.00000         0\n",
      "       alarm/show_alarms    0.01639   0.00909   0.01170       110\n",
      "   reminder/set_reminder    0.82313   0.57711   0.67850       629\n",
      "         alarm/set_alarm    0.81481   0.82243   0.81860       535\n",
      "\n",
      "               micro avg    0.70147   0.70147   0.70147      2854\n",
      "               macro avg    0.45636   0.30623   0.31283      2854\n",
      "            weighted avg    0.69891   0.70147   0.66258      2854\n",
      "\n",
      "domain accuracy:  0.7501751927119832\n"
     ]
    },
    {
     "data": {
      "application/vnd.jupyter.widget-view+json": {
       "model_id": "9552332c985b4c8a9f6501a97ac68f8d",
       "version_major": 2,
       "version_minor": 0
      },
      "text/plain": [
       "HBox(children=(FloatProgress(value=0.0, max=1557.0), HTML(value='')))"
      ]
     },
     "metadata": {},
     "output_type": "display_data"
    },
    {
     "name": "stdout",
     "output_type": "stream",
     "text": [
      "\n"
     ]
    },
    {
     "data": {
      "application/vnd.jupyter.widget-view+json": {
       "model_id": "39a594e85f064c94bd48988dd598e2dd",
       "version_major": 2,
       "version_minor": 0
      },
      "text/plain": [
       "HBox(children=(FloatProgress(value=0.0, description='Running Evaluation', max=195.0, style=ProgressStyle(descr…"
      ]
     },
     "metadata": {},
     "output_type": "display_data"
    },
    {
     "name": "stdout",
     "output_type": "stream",
     "text": [
      "\n"
     ]
    },
    {
     "data": {
      "application/vnd.jupyter.widget-view+json": {
       "model_id": "f38268e9170e4728bee3f33f9e6372fc",
       "version_major": 2,
       "version_minor": 0
      },
      "text/plain": [
       "HBox(children=(FloatProgress(value=0.0, max=50.0), HTML(value='')))"
      ]
     },
     "metadata": {},
     "output_type": "display_data"
    },
    {
     "name": "stdout",
     "output_type": "stream",
     "text": [
      "\n"
     ]
    },
    {
     "data": {
      "application/vnd.jupyter.widget-view+json": {
       "model_id": "862ddc4e46f24e85b69a23e1b28555cc",
       "version_major": 2,
       "version_minor": 0
      },
      "text/plain": [
       "HBox(children=(FloatProgress(value=0.0, max=7.0), HTML(value='')))"
      ]
     },
     "metadata": {},
     "output_type": "display_data"
    },
    {
     "name": "stdout",
     "output_type": "stream",
     "text": [
      "\n",
      "results for experiment:  train_th_test_th\n",
      "                          precision    recall  f1-score   support\n",
      "\n",
      "reminder/cancel_reminder    0.93878   0.97872   0.95833        94\n",
      "            weather/find    0.99836   0.99836   0.99836       610\n",
      "      alarm/cancel_alarm    0.89286   0.91241   0.90253       137\n",
      " reminder/show_reminders    0.95082   0.93548   0.94309        62\n",
      "      alarm/snooze_alarm    1.00000   0.75000   0.85714        20\n",
      "alarm/time_left_on_alarm    1.00000   0.95000   0.97436        20\n",
      "      alarm/modify_alarm    0.00000   0.00000   0.00000        13\n",
      "     weather/checkSunset    0.00000   0.00000   0.00000         0\n",
      "    weather/checkSunrise    0.00000   0.00000   0.00000         0\n",
      "       alarm/show_alarms    0.95946   0.92208   0.94040        77\n",
      "   reminder/set_reminder    0.96691   0.99245   0.97952       265\n",
      "         alarm/set_alarm    0.95149   0.98456   0.96774       259\n",
      "\n",
      "               micro avg    0.96789   0.96789   0.96789      1557\n",
      "               macro avg    0.72156   0.70201   0.71012      1557\n",
      "            weighted avg    0.96022   0.96789   0.96369      1557\n",
      "\n",
      "domain accuracy:  0.9916506101477199\n"
     ]
    }
   ],
   "source": [
    "# reset model\n",
    "args[\"output_dir\"] = \"models/intent_th_train\"\n",
    "\n",
    "model= ClassificationModel('xlmroberta','xlm-roberta-base', num_labels=12, args=args)\n",
    "# train on full thai\n",
    "model.train_model(th_full_train)\n",
    "\n",
    "# test eng\n",
    "results = custom_eval(en_test, model, \"train_th_test_en\")\n",
    "experiment_results[results[\"name\"]] = results\n",
    "\n",
    "\n",
    "# test es\n",
    "results = custom_eval(es_test, model, \"train_th_test_es\")\n",
    "experiment_results[results[\"name\"]] = results\n",
    "\n",
    "\n",
    "# test th\n",
    "results = custom_eval(th_test, model, \"train_th_test_th\")\n",
    "experiment_results[results[\"name\"]] = results"
   ]
  },
  {
   "cell_type": "code",
   "execution_count": 16,
   "metadata": {},
   "outputs": [
    {
     "name": "stderr",
     "output_type": "stream",
     "text": [
      "Some weights of the model checkpoint at xlm-roberta-base were not used when initializing XLMRobertaForSequenceClassification: ['lm_head.bias', 'lm_head.dense.weight', 'lm_head.dense.bias', 'lm_head.layer_norm.weight', 'lm_head.layer_norm.bias', 'lm_head.decoder.weight']\n",
      "- This IS expected if you are initializing XLMRobertaForSequenceClassification from the checkpoint of a model trained on another task or with another architecture (e.g. initializing a BertForSequenceClassification model from a BertForPreTraining model).\n",
      "- This IS NOT expected if you are initializing XLMRobertaForSequenceClassification from the checkpoint of a model that you expect to be exactly identical (initializing a BertForSequenceClassification model from a BertForSequenceClassification model).\n",
      "Some weights of XLMRobertaForSequenceClassification were not initialized from the model checkpoint at xlm-roberta-base and are newly initialized: ['classifier.dense.weight', 'classifier.dense.bias', 'classifier.out_proj.weight', 'classifier.out_proj.bias']\n",
      "You should probably TRAIN this model on a down-stream task to be able to use it for predictions and inference.\n"
     ]
    },
    {
     "data": {
      "application/vnd.jupyter.widget-view+json": {
       "model_id": "820c78c52cfe47f9a92b7257eb352ab2",
       "version_major": 2,
       "version_minor": 0
      },
      "text/plain": [
       "HBox(children=(FloatProgress(value=0.0, max=24913.0), HTML(value='')))"
      ]
     },
     "metadata": {},
     "output_type": "display_data"
    },
    {
     "name": "stdout",
     "output_type": "stream",
     "text": [
      "\n"
     ]
    },
    {
     "data": {
      "application/vnd.jupyter.widget-view+json": {
       "model_id": "58943550342d41668c74e93776923682",
       "version_major": 2,
       "version_minor": 0
      },
      "text/plain": [
       "HBox(children=(FloatProgress(value=0.0, description='Epoch', max=5.0, style=ProgressStyle(description_width='i…"
      ]
     },
     "metadata": {},
     "output_type": "display_data"
    },
    {
     "data": {
      "application/vnd.jupyter.widget-view+json": {
       "model_id": "e51505bdbb8645ef9b6ae9d1c8401e67",
       "version_major": 2,
       "version_minor": 0
      },
      "text/plain": [
       "HBox(children=(FloatProgress(value=0.0, description='Running Epoch 0 of 5', max=3115.0, style=ProgressStyle(de…"
      ]
     },
     "metadata": {},
     "output_type": "display_data"
    },
    {
     "name": "stdout",
     "output_type": "stream",
     "text": [
      "\n"
     ]
    },
    {
     "data": {
      "application/vnd.jupyter.widget-view+json": {
       "model_id": "dba4d7926b384efd8c2d16948be0a4a3",
       "version_major": 2,
       "version_minor": 0
      },
      "text/plain": [
       "HBox(children=(FloatProgress(value=0.0, description='Running Epoch 1 of 5', max=3115.0, style=ProgressStyle(de…"
      ]
     },
     "metadata": {},
     "output_type": "display_data"
    },
    {
     "name": "stdout",
     "output_type": "stream",
     "text": [
      "\n"
     ]
    },
    {
     "data": {
      "application/vnd.jupyter.widget-view+json": {
       "model_id": "0586f8c0479242309bc7079760ff0926",
       "version_major": 2,
       "version_minor": 0
      },
      "text/plain": [
       "HBox(children=(FloatProgress(value=0.0, description='Running Epoch 2 of 5', max=3115.0, style=ProgressStyle(de…"
      ]
     },
     "metadata": {},
     "output_type": "display_data"
    },
    {
     "name": "stdout",
     "output_type": "stream",
     "text": [
      "\n"
     ]
    },
    {
     "data": {
      "application/vnd.jupyter.widget-view+json": {
       "model_id": "f88954d84d314ae1a26155ca93334855",
       "version_major": 2,
       "version_minor": 0
      },
      "text/plain": [
       "HBox(children=(FloatProgress(value=0.0, description='Running Epoch 3 of 5', max=3115.0, style=ProgressStyle(de…"
      ]
     },
     "metadata": {},
     "output_type": "display_data"
    },
    {
     "name": "stdout",
     "output_type": "stream",
     "text": [
      "\n"
     ]
    },
    {
     "data": {
      "application/vnd.jupyter.widget-view+json": {
       "model_id": "4766c3f8a9b84772aee59f941113e6be",
       "version_major": 2,
       "version_minor": 0
      },
      "text/plain": [
       "HBox(children=(FloatProgress(value=0.0, description='Running Epoch 4 of 5', max=3115.0, style=ProgressStyle(de…"
      ]
     },
     "metadata": {},
     "output_type": "display_data"
    },
    {
     "name": "stdout",
     "output_type": "stream",
     "text": [
      "\n",
      "\n"
     ]
    },
    {
     "data": {
      "application/vnd.jupyter.widget-view+json": {
       "model_id": "15dc37faca61459d9cc6e815b770cc70",
       "version_major": 2,
       "version_minor": 0
      },
      "text/plain": [
       "HBox(children=(FloatProgress(value=0.0, max=7420.0), HTML(value='')))"
      ]
     },
     "metadata": {},
     "output_type": "display_data"
    },
    {
     "name": "stdout",
     "output_type": "stream",
     "text": [
      "\n"
     ]
    },
    {
     "data": {
      "application/vnd.jupyter.widget-view+json": {
       "model_id": "10ccbfa0bde1495db26095ae2deb5320",
       "version_major": 2,
       "version_minor": 0
      },
      "text/plain": [
       "HBox(children=(FloatProgress(value=0.0, description='Running Evaluation', max=928.0, style=ProgressStyle(descr…"
      ]
     },
     "metadata": {},
     "output_type": "display_data"
    },
    {
     "name": "stdout",
     "output_type": "stream",
     "text": [
      "\n"
     ]
    },
    {
     "data": {
      "application/vnd.jupyter.widget-view+json": {
       "model_id": "6b2409f5fbb44b1bb78970c469df22ec",
       "version_major": 2,
       "version_minor": 0
      },
      "text/plain": [
       "HBox(children=(FloatProgress(value=0.0, max=50.0), HTML(value='')))"
      ]
     },
     "metadata": {},
     "output_type": "display_data"
    },
    {
     "name": "stdout",
     "output_type": "stream",
     "text": [
      "\n"
     ]
    },
    {
     "data": {
      "application/vnd.jupyter.widget-view+json": {
       "model_id": "9f7bd307ead84872a49247da889e53ce",
       "version_major": 2,
       "version_minor": 0
      },
      "text/plain": [
       "HBox(children=(FloatProgress(value=0.0, max=7.0), HTML(value='')))"
      ]
     },
     "metadata": {},
     "output_type": "display_data"
    },
    {
     "name": "stdout",
     "output_type": "stream",
     "text": [
      "\n",
      "results for experiment:  train_th_test_en\n",
      "                          precision    recall  f1-score   support\n",
      "\n",
      "reminder/cancel_reminder    1.00000   0.99296   0.99647       284\n",
      "            weather/find    1.00000   0.99970   0.99985      3386\n",
      "      alarm/cancel_alarm    0.99099   0.99099   0.99099       444\n",
      " reminder/show_reminders    0.98624   0.99078   0.98851       217\n",
      "      alarm/snooze_alarm    0.94565   0.97753   0.96133        89\n",
      "alarm/time_left_on_alarm    0.94048   0.97531   0.95758        81\n",
      "      alarm/modify_alarm    0.90551   0.94262   0.92369       122\n",
      "     weather/checkSunset    1.00000   1.00000   1.00000        37\n",
      "    weather/checkSunrise    1.00000   1.00000   1.00000        25\n",
      "       alarm/show_alarms    0.98544   0.95755   0.97129       212\n",
      "   reminder/set_reminder    0.99535   0.99845   0.99690      1287\n",
      "         alarm/set_alarm    0.99024   0.98463   0.98742      1236\n",
      "\n",
      "                accuracy                        0.99326      7420\n",
      "               macro avg    0.97832   0.98421   0.98117      7420\n",
      "            weighted avg    0.99335   0.99326   0.99329      7420\n",
      "\n",
      "domain accuracy:  0.9989218328840971\n"
     ]
    },
    {
     "data": {
      "application/vnd.jupyter.widget-view+json": {
       "model_id": "6f3acfbb02c34cd7bc70865f6555197b",
       "version_major": 2,
       "version_minor": 0
      },
      "text/plain": [
       "HBox(children=(FloatProgress(value=0.0, max=2854.0), HTML(value='')))"
      ]
     },
     "metadata": {},
     "output_type": "display_data"
    },
    {
     "name": "stdout",
     "output_type": "stream",
     "text": [
      "\n"
     ]
    },
    {
     "data": {
      "application/vnd.jupyter.widget-view+json": {
       "model_id": "253896a5a84344c3953f2079778ccbf1",
       "version_major": 2,
       "version_minor": 0
      },
      "text/plain": [
       "HBox(children=(FloatProgress(value=0.0, description='Running Evaluation', max=357.0, style=ProgressStyle(descr…"
      ]
     },
     "metadata": {},
     "output_type": "display_data"
    },
    {
     "name": "stdout",
     "output_type": "stream",
     "text": [
      "\n"
     ]
    },
    {
     "data": {
      "application/vnd.jupyter.widget-view+json": {
       "model_id": "0c2d874ffc884e80b883901468300beb",
       "version_major": 2,
       "version_minor": 0
      },
      "text/plain": [
       "HBox(children=(FloatProgress(value=0.0, max=221.0), HTML(value='')))"
      ]
     },
     "metadata": {},
     "output_type": "display_data"
    },
    {
     "name": "stdout",
     "output_type": "stream",
     "text": [
      "\n"
     ]
    },
    {
     "data": {
      "application/vnd.jupyter.widget-view+json": {
       "model_id": "627a73d77a764bab962c7b2b1585be1e",
       "version_major": 2,
       "version_minor": 0
      },
      "text/plain": [
       "HBox(children=(FloatProgress(value=0.0, max=28.0), HTML(value='')))"
      ]
     },
     "metadata": {},
     "output_type": "display_data"
    },
    {
     "name": "stdout",
     "output_type": "stream",
     "text": [
      "\n",
      "results for experiment:  train_th_test_es\n",
      "                          precision    recall  f1-score   support\n",
      "\n",
      "reminder/cancel_reminder    0.98266   0.99415   0.98837       171\n",
      "            weather/find    0.95804   0.99481   0.97608       964\n",
      "      alarm/cancel_alarm    0.97549   0.91705   0.94537       217\n",
      " reminder/show_reminders    0.88276   0.96970   0.92419       132\n",
      "      alarm/snooze_alarm    0.54545   0.37500   0.44444        32\n",
      "alarm/time_left_on_alarm    0.96552   1.00000   0.98246        28\n",
      "      alarm/modify_alarm    0.57627   1.00000   0.73118        34\n",
      "     weather/checkSunset    0.00000   0.00000   0.00000         2\n",
      "    weather/checkSunrise    0.00000   0.00000   0.00000         0\n",
      "       alarm/show_alarms    0.95192   0.90000   0.92523       110\n",
      "   reminder/set_reminder    0.99371   0.75358   0.85714       629\n",
      "         alarm/set_alarm    0.82812   0.99065   0.90213       535\n",
      "\n",
      "               micro avg    0.92256   0.92256   0.92256      2854\n",
      "               macro avg    0.72166   0.74125   0.72305      2854\n",
      "            weighted avg    0.93086   0.92256   0.92055      2854\n",
      "\n",
      "domain accuracy:  0.9498948843728101\n"
     ]
    },
    {
     "data": {
      "application/vnd.jupyter.widget-view+json": {
       "model_id": "c29d8e8f457742b58dc9b77fabce0c18",
       "version_major": 2,
       "version_minor": 0
      },
      "text/plain": [
       "HBox(children=(FloatProgress(value=0.0, max=1557.0), HTML(value='')))"
      ]
     },
     "metadata": {},
     "output_type": "display_data"
    },
    {
     "name": "stdout",
     "output_type": "stream",
     "text": [
      "\n"
     ]
    },
    {
     "data": {
      "application/vnd.jupyter.widget-view+json": {
       "model_id": "9e4b10110bee4063a4649019b33700db",
       "version_major": 2,
       "version_minor": 0
      },
      "text/plain": [
       "HBox(children=(FloatProgress(value=0.0, description='Running Evaluation', max=195.0, style=ProgressStyle(descr…"
      ]
     },
     "metadata": {},
     "output_type": "display_data"
    },
    {
     "name": "stdout",
     "output_type": "stream",
     "text": [
      "\n"
     ]
    },
    {
     "data": {
      "application/vnd.jupyter.widget-view+json": {
       "model_id": "226aac8777c841b88fa0a9eadfa2130c",
       "version_major": 2,
       "version_minor": 0
      },
      "text/plain": [
       "HBox(children=(FloatProgress(value=0.0, max=29.0), HTML(value='')))"
      ]
     },
     "metadata": {},
     "output_type": "display_data"
    },
    {
     "name": "stdout",
     "output_type": "stream",
     "text": [
      "\n"
     ]
    },
    {
     "data": {
      "application/vnd.jupyter.widget-view+json": {
       "model_id": "25aee6f810634e04a8425200b6fab991",
       "version_major": 2,
       "version_minor": 0
      },
      "text/plain": [
       "HBox(children=(FloatProgress(value=0.0, max=4.0), HTML(value='')))"
      ]
     },
     "metadata": {},
     "output_type": "display_data"
    },
    {
     "name": "stdout",
     "output_type": "stream",
     "text": [
      "\n",
      "results for experiment:  train_th_test_th\n",
      "                          precision    recall  f1-score   support\n",
      "\n",
      "reminder/cancel_reminder    0.96842   0.97872   0.97354        94\n",
      "            weather/find    0.99836   0.99672   0.99754       610\n",
      "      alarm/cancel_alarm    0.97692   0.92701   0.95131       137\n",
      " reminder/show_reminders    0.93750   0.96774   0.95238        62\n",
      "      alarm/snooze_alarm    1.00000   1.00000   1.00000        20\n",
      "alarm/time_left_on_alarm    1.00000   0.95000   0.97436        20\n",
      "      alarm/modify_alarm    0.91667   0.84615   0.88000        13\n",
      "     weather/checkSunset    0.00000   0.00000   0.00000         0\n",
      "    weather/checkSunrise    0.00000   0.00000   0.00000         0\n",
      "       alarm/show_alarms    0.97368   0.96104   0.96732        77\n",
      "   reminder/set_reminder    0.98127   0.98868   0.98496       265\n",
      "         alarm/set_alarm    0.96226   0.98456   0.97328       259\n",
      "\n",
      "               micro avg    0.98137   0.98137   0.98137      1557\n",
      "               macro avg    0.80959   0.80005   0.80456      1557\n",
      "            weighted avg    0.98147   0.98137   0.98131      1557\n",
      "\n",
      "domain accuracy:  0.9922928709055877\n"
     ]
    }
   ],
   "source": [
    "args[\"output_dir\"] = \"models/intent_en_th_train\"\n",
    "\n",
    "model= ClassificationModel('xlmroberta','xlm-roberta-base', num_labels=12, args=args)\n",
    "# train on full thai and eng mixed\n",
    "model.train_model(en_th_full_train)\n",
    "# test eng\n",
    "results = custom_eval(en_test, model, \"train_th_test_en\")\n",
    "experiment_results[results[\"name\"]] = results\n",
    "\n",
    "\n",
    "# test es\n",
    "results = custom_eval(es_test, model, \"train_th_test_es\")\n",
    "experiment_results[results[\"name\"]] = results\n",
    "\n",
    "\n",
    "# test th\n",
    "results = custom_eval(th_test, model, \"train_th_test_th\")\n",
    "experiment_results[results[\"name\"]] = results"
   ]
  },
  {
   "cell_type": "code",
   "execution_count": 17,
   "metadata": {},
   "outputs": [
    {
     "name": "stderr",
     "output_type": "stream",
     "text": [
      "Some weights of the model checkpoint at xlm-roberta-base were not used when initializing XLMRobertaForSequenceClassification: ['lm_head.bias', 'lm_head.dense.weight', 'lm_head.dense.bias', 'lm_head.layer_norm.weight', 'lm_head.layer_norm.bias', 'lm_head.decoder.weight']\n",
      "- This IS expected if you are initializing XLMRobertaForSequenceClassification from the checkpoint of a model trained on another task or with another architecture (e.g. initializing a BertForSequenceClassification model from a BertForPreTraining model).\n",
      "- This IS NOT expected if you are initializing XLMRobertaForSequenceClassification from the checkpoint of a model that you expect to be exactly identical (initializing a BertForSequenceClassification model from a BertForSequenceClassification model).\n",
      "Some weights of XLMRobertaForSequenceClassification were not initialized from the model checkpoint at xlm-roberta-base and are newly initialized: ['classifier.dense.weight', 'classifier.dense.bias', 'classifier.out_proj.weight', 'classifier.out_proj.bias']\n",
      "You should probably TRAIN this model on a down-stream task to be able to use it for predictions and inference.\n"
     ]
    },
    {
     "data": {
      "application/vnd.jupyter.widget-view+json": {
       "model_id": "e54de0c4fec6480f93c157fd2242d7e7",
       "version_major": 2,
       "version_minor": 0
      },
      "text/plain": [
       "HBox(children=(FloatProgress(value=0.0, max=24913.0), HTML(value='')))"
      ]
     },
     "metadata": {},
     "output_type": "display_data"
    },
    {
     "name": "stdout",
     "output_type": "stream",
     "text": [
      "\n"
     ]
    },
    {
     "data": {
      "application/vnd.jupyter.widget-view+json": {
       "model_id": "83a18aed48de42e2bd04a3ac201a7bc4",
       "version_major": 2,
       "version_minor": 0
      },
      "text/plain": [
       "HBox(children=(FloatProgress(value=0.0, description='Epoch', max=5.0, style=ProgressStyle(description_width='i…"
      ]
     },
     "metadata": {},
     "output_type": "display_data"
    },
    {
     "data": {
      "application/vnd.jupyter.widget-view+json": {
       "model_id": "42585688d1744e3abd4e1f7e7dc14039",
       "version_major": 2,
       "version_minor": 0
      },
      "text/plain": [
       "HBox(children=(FloatProgress(value=0.0, description='Running Epoch 0 of 5', max=3115.0, style=ProgressStyle(de…"
      ]
     },
     "metadata": {},
     "output_type": "display_data"
    },
    {
     "name": "stdout",
     "output_type": "stream",
     "text": [
      "\n"
     ]
    },
    {
     "data": {
      "application/vnd.jupyter.widget-view+json": {
       "model_id": "3d5a32d5de914a48b45951d584c53a9c",
       "version_major": 2,
       "version_minor": 0
      },
      "text/plain": [
       "HBox(children=(FloatProgress(value=0.0, description='Running Epoch 1 of 5', max=3115.0, style=ProgressStyle(de…"
      ]
     },
     "metadata": {},
     "output_type": "display_data"
    },
    {
     "name": "stdout",
     "output_type": "stream",
     "text": [
      "\n"
     ]
    },
    {
     "data": {
      "application/vnd.jupyter.widget-view+json": {
       "model_id": "08550838c8814d39bc2d4ff8716f0c59",
       "version_major": 2,
       "version_minor": 0
      },
      "text/plain": [
       "HBox(children=(FloatProgress(value=0.0, description='Running Epoch 2 of 5', max=3115.0, style=ProgressStyle(de…"
      ]
     },
     "metadata": {},
     "output_type": "display_data"
    },
    {
     "name": "stdout",
     "output_type": "stream",
     "text": [
      "\n"
     ]
    },
    {
     "data": {
      "application/vnd.jupyter.widget-view+json": {
       "model_id": "1c8a8ec3589a412c91077f70ec419474",
       "version_major": 2,
       "version_minor": 0
      },
      "text/plain": [
       "HBox(children=(FloatProgress(value=0.0, description='Running Epoch 3 of 5', max=3115.0, style=ProgressStyle(de…"
      ]
     },
     "metadata": {},
     "output_type": "display_data"
    },
    {
     "name": "stdout",
     "output_type": "stream",
     "text": [
      "\n"
     ]
    },
    {
     "data": {
      "application/vnd.jupyter.widget-view+json": {
       "model_id": "931cb10f744d4af5ab653a48b5721ad6",
       "version_major": 2,
       "version_minor": 0
      },
      "text/plain": [
       "HBox(children=(FloatProgress(value=0.0, description='Running Epoch 4 of 5', max=3115.0, style=ProgressStyle(de…"
      ]
     },
     "metadata": {},
     "output_type": "display_data"
    },
    {
     "name": "stdout",
     "output_type": "stream",
     "text": [
      "\n",
      "\n"
     ]
    },
    {
     "data": {
      "application/vnd.jupyter.widget-view+json": {
       "model_id": "e27f120f527246c08a23d581ac9a4e8c",
       "version_major": 2,
       "version_minor": 0
      },
      "text/plain": [
       "HBox(children=(FloatProgress(value=0.0, max=7420.0), HTML(value='')))"
      ]
     },
     "metadata": {},
     "output_type": "display_data"
    },
    {
     "name": "stdout",
     "output_type": "stream",
     "text": [
      "\n"
     ]
    },
    {
     "data": {
      "application/vnd.jupyter.widget-view+json": {
       "model_id": "c112a53bbd7d453c91d055dfbcc3da1e",
       "version_major": 2,
       "version_minor": 0
      },
      "text/plain": [
       "HBox(children=(FloatProgress(value=0.0, description='Running Evaluation', max=928.0, style=ProgressStyle(descr…"
      ]
     },
     "metadata": {},
     "output_type": "display_data"
    },
    {
     "name": "stdout",
     "output_type": "stream",
     "text": [
      "\n"
     ]
    },
    {
     "data": {
      "application/vnd.jupyter.widget-view+json": {
       "model_id": "ec5a159e92b1403dba14729d367ceb17",
       "version_major": 2,
       "version_minor": 0
      },
      "text/plain": [
       "HBox(children=(FloatProgress(value=0.0, max=47.0), HTML(value='')))"
      ]
     },
     "metadata": {},
     "output_type": "display_data"
    },
    {
     "name": "stdout",
     "output_type": "stream",
     "text": [
      "\n"
     ]
    },
    {
     "data": {
      "application/vnd.jupyter.widget-view+json": {
       "model_id": "ffa5d969d40845ecbf31d6091deb1c39",
       "version_major": 2,
       "version_minor": 0
      },
      "text/plain": [
       "HBox(children=(FloatProgress(value=0.0, max=6.0), HTML(value='')))"
      ]
     },
     "metadata": {},
     "output_type": "display_data"
    },
    {
     "name": "stdout",
     "output_type": "stream",
     "text": [
      "\n",
      "results for experiment:  train_th_test_en\n",
      "                          precision    recall  f1-score   support\n",
      "\n",
      "reminder/cancel_reminder    1.00000   0.99296   0.99647       284\n",
      "            weather/find    0.99941   1.00000   0.99970      3386\n",
      "      alarm/cancel_alarm    0.99099   0.99099   0.99099       444\n",
      " reminder/show_reminders    0.98165   0.98618   0.98391       217\n",
      "      alarm/snooze_alarm    0.96703   0.98876   0.97778        89\n",
      "alarm/time_left_on_alarm    0.95294   1.00000   0.97590        81\n",
      "      alarm/modify_alarm    0.90551   0.94262   0.92369       122\n",
      "     weather/checkSunset    1.00000   0.94595   0.97222        37\n",
      "    weather/checkSunrise    1.00000   1.00000   1.00000        25\n",
      "       alarm/show_alarms    1.00000   0.97170   0.98565       212\n",
      "   reminder/set_reminder    0.99535   0.99767   0.99651      1287\n",
      "         alarm/set_alarm    0.99024   0.98463   0.98742      1236\n",
      "\n",
      "                accuracy                        0.99367      7420\n",
      "               macro avg    0.98193   0.98345   0.98252      7420\n",
      "            weighted avg    0.99376   0.99367   0.99369      7420\n",
      "\n",
      "domain accuracy:  0.9994609164420485\n"
     ]
    },
    {
     "data": {
      "application/vnd.jupyter.widget-view+json": {
       "model_id": "31a36f74f13f4f2aa7f4c88d73fd89d5",
       "version_major": 2,
       "version_minor": 0
      },
      "text/plain": [
       "HBox(children=(FloatProgress(value=0.0, max=2854.0), HTML(value='')))"
      ]
     },
     "metadata": {},
     "output_type": "display_data"
    },
    {
     "name": "stdout",
     "output_type": "stream",
     "text": [
      "\n"
     ]
    },
    {
     "data": {
      "application/vnd.jupyter.widget-view+json": {
       "model_id": "290c3e5e5faa449b93d78bcfd18120c7",
       "version_major": 2,
       "version_minor": 0
      },
      "text/plain": [
       "HBox(children=(FloatProgress(value=0.0, description='Running Evaluation', max=357.0, style=ProgressStyle(descr…"
      ]
     },
     "metadata": {},
     "output_type": "display_data"
    },
    {
     "name": "stdout",
     "output_type": "stream",
     "text": [
      "\n"
     ]
    },
    {
     "data": {
      "application/vnd.jupyter.widget-view+json": {
       "model_id": "5f74b3fafbe247efbb50bec9e6d94101",
       "version_major": 2,
       "version_minor": 0
      },
      "text/plain": [
       "HBox(children=(FloatProgress(value=0.0, max=218.0), HTML(value='')))"
      ]
     },
     "metadata": {},
     "output_type": "display_data"
    },
    {
     "name": "stdout",
     "output_type": "stream",
     "text": [
      "\n"
     ]
    },
    {
     "data": {
      "application/vnd.jupyter.widget-view+json": {
       "model_id": "d0e6715db34e423a9cf60833dc570980",
       "version_major": 2,
       "version_minor": 0
      },
      "text/plain": [
       "HBox(children=(FloatProgress(value=0.0, max=28.0), HTML(value='')))"
      ]
     },
     "metadata": {},
     "output_type": "display_data"
    },
    {
     "name": "stdout",
     "output_type": "stream",
     "text": [
      "\n",
      "results for experiment:  train_th_test_es\n",
      "                          precision    recall  f1-score   support\n",
      "\n",
      "reminder/cancel_reminder    0.96552   0.98246   0.97391       171\n",
      "            weather/find    0.95054   0.99689   0.97316       964\n",
      "      alarm/cancel_alarm    0.98413   0.85714   0.91626       217\n",
      " reminder/show_reminders    0.94776   0.96212   0.95489       132\n",
      "      alarm/snooze_alarm    0.51515   0.53125   0.52308        32\n",
      "alarm/time_left_on_alarm    0.93333   1.00000   0.96552        28\n",
      "      alarm/modify_alarm    0.51515   1.00000   0.68000        34\n",
      "     weather/checkSunset    0.00000   0.00000   0.00000         2\n",
      "    weather/checkSunrise    0.00000   0.00000   0.00000         0\n",
      "       alarm/show_alarms    0.92727   0.92727   0.92727       110\n",
      "   reminder/set_reminder    0.99384   0.76948   0.86738       629\n",
      "         alarm/set_alarm    0.85323   0.98879   0.91602       535\n",
      "\n",
      "               micro avg    0.92362   0.92362   0.92362      2854\n",
      "               macro avg    0.71549   0.75128   0.72479      2854\n",
      "            weighted avg    0.93336   0.92362   0.92295      2854\n",
      "\n",
      "domain accuracy:  0.9502452697967765\n"
     ]
    },
    {
     "data": {
      "application/vnd.jupyter.widget-view+json": {
       "model_id": "b71eae68233d4ddf8725a5df4a3310f9",
       "version_major": 2,
       "version_minor": 0
      },
      "text/plain": [
       "HBox(children=(FloatProgress(value=0.0, max=1557.0), HTML(value='')))"
      ]
     },
     "metadata": {},
     "output_type": "display_data"
    },
    {
     "name": "stdout",
     "output_type": "stream",
     "text": [
      "\n"
     ]
    },
    {
     "data": {
      "application/vnd.jupyter.widget-view+json": {
       "model_id": "196064c7ea8a42f3a55d575fdd016aff",
       "version_major": 2,
       "version_minor": 0
      },
      "text/plain": [
       "HBox(children=(FloatProgress(value=0.0, description='Running Evaluation', max=195.0, style=ProgressStyle(descr…"
      ]
     },
     "metadata": {},
     "output_type": "display_data"
    },
    {
     "name": "stdout",
     "output_type": "stream",
     "text": [
      "\n"
     ]
    },
    {
     "data": {
      "application/vnd.jupyter.widget-view+json": {
       "model_id": "b46fc9ba1bfe4b16b04390679caf1af5",
       "version_major": 2,
       "version_minor": 0
      },
      "text/plain": [
       "HBox(children=(FloatProgress(value=0.0, max=29.0), HTML(value='')))"
      ]
     },
     "metadata": {},
     "output_type": "display_data"
    },
    {
     "name": "stdout",
     "output_type": "stream",
     "text": [
      "\n"
     ]
    },
    {
     "data": {
      "application/vnd.jupyter.widget-view+json": {
       "model_id": "3650d791c8424142b3ff6b0c85f21507",
       "version_major": 2,
       "version_minor": 0
      },
      "text/plain": [
       "HBox(children=(FloatProgress(value=0.0, max=4.0), HTML(value='')))"
      ]
     },
     "metadata": {},
     "output_type": "display_data"
    },
    {
     "name": "stdout",
     "output_type": "stream",
     "text": [
      "\n",
      "results for experiment:  train_th_test_th\n",
      "                          precision    recall  f1-score   support\n",
      "\n",
      "reminder/cancel_reminder    0.96842   0.97872   0.97354        94\n",
      "            weather/find    0.99836   0.99672   0.99754       610\n",
      "      alarm/cancel_alarm    0.98438   0.91971   0.95094       137\n",
      " reminder/show_reminders    0.95082   0.93548   0.94309        62\n",
      "      alarm/snooze_alarm    0.95238   1.00000   0.97561        20\n",
      "alarm/time_left_on_alarm    1.00000   1.00000   1.00000        20\n",
      "      alarm/modify_alarm    0.91667   0.84615   0.88000        13\n",
      "     weather/checkSunset    0.00000   0.00000   0.00000         0\n",
      "    weather/checkSunrise    0.00000   0.00000   0.00000         0\n",
      "       alarm/show_alarms    0.96154   0.97403   0.96774        77\n",
      "   reminder/set_reminder    0.97407   0.99245   0.98318       265\n",
      "         alarm/set_alarm    0.96958   0.98456   0.97701       259\n",
      "\n",
      "               micro avg    0.98137   0.98137   0.98137      1557\n",
      "               macro avg    0.80635   0.80232   0.80405      1557\n",
      "            weighted avg    0.98143   0.98137   0.98126      1557\n",
      "\n",
      "domain accuracy:  0.993577392421323\n"
     ]
    }
   ],
   "source": [
    "args[\"output_dir\"] = \"models/intent_en_es_train\"\n",
    "\n",
    "model= ClassificationModel('xlmroberta','xlm-roberta-base', num_labels=12, args=args)\n",
    "# train on full thai and eng mixed\n",
    "model.train_model(en_es_full_train)\n",
    "# test eng\n",
    "results = custom_eval(en_test, model, \"train_th_test_en\")\n",
    "experiment_results[results[\"name\"]] = results\n",
    "\n",
    "\n",
    "# test es\n",
    "results = custom_eval(es_test, model, \"train_th_test_es\")\n",
    "experiment_results[results[\"name\"]] = results\n",
    "\n",
    "\n",
    "# test th\n",
    "results = custom_eval(th_test, model, \"train_th_test_th\")\n",
    "experiment_results[results[\"name\"]] = results"
   ]
  },
  {
   "cell_type": "markdown",
   "metadata": {},
   "source": [
    "Here are some sanity checks "
   ]
  },
  {
   "cell_type": "code",
   "execution_count": 18,
   "metadata": {},
   "outputs": [
    {
     "name": "stdout",
     "output_type": "stream",
     "text": [
      "ฉัน ตั้ง นาฬิกา ปลุก อะไร ไว้ \t alarm/set_alarm \t alarm/show_alarms\n",
      "ฉัน มี นาฬิกา ปลุก สําหรับ ตอน เช้า มั๊ย \t alarm/set_alarm \t alarm/show_alarms\n",
      "ฉัน ตั้ง นาฬิกา ปลุก ไว้ กี่ ครั้ง \t alarm/set_alarm \t alarm/show_alarms\n",
      "แสดง นาฬิกา ปลุก พรุ่ง นี้ ทั้งหมด \t reminder/show_reminders \t alarm/show_alarms\n",
      "ฉัน มี เวลา อีก เท่า ไหร่ กว่า นาฬิกา ปลุก ดัง \t alarm/set_alarm \t alarm/time_left_on_alarm\n",
      "ฉัน ได้ ตั้ง นาฬิกา ปลุก ไว้ สาม ทุ่ม หรือ ไม่ ? \t alarm/set_alarm \t alarm/show_alarms\n",
      "ฉัน มี นาฬิกา ปลุก ตั้ง ไว้ หรือ ไม่ \t alarm/set_alarm \t alarm/show_alarms\n",
      "นาฬิกา ปลุก ฉัน ตั้ง ไว้ กี่ โมง สําหรับ พรุ่ง นี้ \t alarm/set_alarm \t alarm/show_alarms\n",
      "แสดง นาฬิกา ปลุก ของ ฉัน ทั้งหมด ให้ ฉัน ดู \t reminder/show_reminders \t alarm/show_alarms\n",
      "เพิ่ม นาฬิกา ปลุก สําหรับ ปลุก เด็ก ทารก \t alarm/modify_alarm \t alarm/set_alarm\n",
      "ตั้ง นาฬิกา ปลุก ทุก เช้า สัปดาห์ นี้ หรือ ไม่ ? \t alarm/set_alarm \t alarm/show_alarms\n",
      "ตั้ง นาฬิกา ปลุก ตอน เช้า ตี 5 : 30 \t alarm/set_alarm \t alarm/cancel_alarm\n",
      "เมื่อ ไหร่ ฉัน ต้อง ตั้ง นาฬิกา ปลุก \t alarm/set_alarm \t alarm/show_alarms\n",
      "แสดง นาฬิกา ปลุก ฉัน สําหรับ พรุ่ง นี้ \t reminder/show_reminders \t alarm/show_alarms\n",
      "อ่าน การ ตั้ง ค่า นาฬิกา ปลุก ของ ฉัน ทั้งหมด \t weather/find \t alarm/show_alarms\n",
      "ตั้ง นาฬิกา ปลุก ใหม่ สําหรับ บ่าย 3 โมง \t alarm/set_alarm \t alarm/cancel_alarm\n",
      "อ่าน นาฬิกา ปลุก ของ ฉัน วัน นี้ ให้ หน่อย \t weather/find \t alarm/show_alarms\n",
      "เลื่อน นาฬิกา ปลุก ฉัน \t alarm/modify_alarm \t alarm/snooze_alarm\n",
      "ตั้ง นาฬิกา ปลุก ใหม่ สําหรับ 10 โมง เย็น \t alarm/set_alarm \t alarm/cancel_alarm\n",
      "มี เวลา เท่า ไหร่ กว่า นาฬิกา ปลุก ฉัน จะ ดัง \t weather/find \t alarm/time_left_on_alarm\n",
      "เพิ่ม นาฬิกา ปลุก สําหรับ ตอน เย็น 8 : 55 ทุก วัน \t alarm/modify_alarm \t alarm/set_alarm\n",
      "เลื่อน นาฬิกา ปลุก \t alarm/modify_alarm \t alarm/snooze_alarm\n",
      "ตั้ง นาฬิกา ปลุก ใหม่ เพื่อ เตือน ฉัน ต้อง เพิ่ม เวลา บ่าย 3 โมง \t alarm/modify_alarm \t alarm/set_alarm\n",
      "บอก นาฬิกา ปลุก ฉัน ด้วย \t alarm/set_alarm \t alarm/show_alarms\n",
      "เลื่อน นาฬิกา ปลุก ฉัน สําหรับ 15 นาที \t alarm/modify_alarm \t alarm/snooze_alarm\n",
      "ฉัน สามารถ ตั้ง นาฬิกา ปลุก ได้ กี่ เครื่อง ? \t alarm/set_alarm \t alarm/show_alarms\n",
      "นาฬิกา ปลุก ฉัน ตั้ง ไว้ กี่ โมง พรุ่ง นี้ ? \t alarm/set_alarm \t alarm/show_alarms\n",
      "ฉัน ตั้ง เตือน นาฬิกา ปลุก วัน พรุ่ง นี้ หรือ ไม่ ? \t alarm/set_alarm \t alarm/show_alarms\n",
      "ฉัน ตั้ง นาฬิกา ปลุก เมื่อ ไหร่ สําหรับ เมื่อ วาน นี้ ? \t alarm/set_alarm \t alarm/show_alarms\n",
      "ฉัน มี นาฬิกา ปลุก ตั้ง ไว้ สําหรับ พรุ่ง นี้ หรือ ไม่ \t alarm/set_alarm \t alarm/show_alarms\n",
      "เพิ่ม นาฬิกา ปลุก วัน เสาร์ ตอน11โมง เช้า \t alarm/modify_alarm \t alarm/set_alarm\n",
      "เพิ่ม นาฬิกา ปลุก สําหรับ8 : 55 น . ประจํา วัน \t alarm/modify_alarm \t alarm/set_alarm\n",
      "ตั้ง นาฬิกา ปลุก ให้ ดัง ขึ้น อีก1ชั่วโมง \t alarm/modify_alarm \t alarm/set_alarm\n",
      "แสดง นาฬิกา ปลุก ของ ฉัน พรุ่ง นี้ \t reminder/show_reminders \t alarm/show_alarms\n",
      "อ่าน นาฬิกา ปลุก วัน นี้ หน่อย \t weather/find \t alarm/show_alarms\n",
      "ตาราง เวลา นาฬิกา ปลุก กี่ โมง สําหรับ พรุ่ง นี้ \t weather/find \t alarm/show_alarms\n",
      "เลื่อน ปลุก นาฬิกา ปลุก ทั้งหมด สําหรับ 7 นาที \t alarm/modify_alarm \t alarm/snooze_alarm\n",
      "เลื่อน ปลุก นาฬิกา ปลุก \t alarm/modify_alarm \t alarm/snooze_alarm\n",
      "ตั้ง นาฬิกา ปลุก ใน 5 นาที \t alarm/set_alarm \t alarm/cancel_alarm\n",
      "แสดง นาฬิกา ปลุก ทั้งหมด ให้ ฉัน ดู \t reminder/show_reminders \t alarm/show_alarms\n",
      "ตั้ง นาฬิกา ปลุก แล้ว ใช่ มั้ย \t alarm/set_alarm \t alarm/show_alarms\n",
      "ตั้ง นาฬิกา ปลุก ไว้ กี่ อัน \t alarm/set_alarm \t alarm/show_alarms\n",
      "ฉัน ตั้ง นาฬิกา ปลุก สําหรับ พรุ่ง นี้ ไว้ ยัง \t alarm/set_alarm \t alarm/show_alarms\n",
      "แสดง นาฬิกา ปลุก ของ ฉัน \t reminder/show_reminders \t alarm/show_alarms\n",
      "ปิด เสียง ชั่วคราว นาฬิกา ปลุก ของ ฉัน \t alarm/cancel_alarm \t alarm/snooze_alarm\n",
      "ฉัน ตั้ง นาฬิกา ปลุก ไว้ กี่ โมง \t alarm/set_alarm \t alarm/show_alarms\n",
      "ตั้ง นาฬิกา ปลุก ไว้ กี่ อัน สําหรับ พรุ่ง นี้ \t alarm/set_alarm \t alarm/show_alarms\n",
      "เพิ่ม นาฬิกา ปลุก วิทยุ \t alarm/modify_alarm \t alarm/set_alarm\n",
      "ให้ ฉัน ดู นาฬิกา ของ ฉัน \t weather/find \t alarm/show_alarms\n",
      "เลื่อน นาฬิกา ปลุก 5 นาที \t alarm/modify_alarm \t alarm/snooze_alarm\n",
      "ฉัน ตั้ง นาฬิกา ปลุก นาฬิกา ปลุก อะไร ใน สัปดาห์ หน้า ? \t alarm/set_alarm \t alarm/show_alarms\n",
      "ตั้ง นาฬิกา ปลุก 15 นาที จาก นี้ \t alarm/modify_alarm \t alarm/set_alarm\n",
      "เลื่อน นาฬิกา ปลุก เวลา ปัจจุบัน 5 นาที \t alarm/modify_alarm \t alarm/snooze_alarm\n",
      "แสดง นาฬิกา ปลุก ทาง วิทยุ \t weather/find \t alarm/show_alarms\n",
      "แสดง การ นาฬิกา ปลุก ทั้งหมด \t reminder/show_reminders \t alarm/show_alarms\n",
      "กรุณา ตั้ง นาฬิกา ปลุก ของ ฉัน 3 ชั่วโมง จาก นี้ \t alarm/modify_alarm \t alarm/set_alarm\n",
      "เลื่อน เวลา 10 นาที \t alarm/modify_alarm \t alarm/snooze_alarm\n",
      "แสดง นาฬิกา ปลุก ทั้งหมด ของ ฉัน \t reminder/show_reminders \t alarm/show_alarms\n",
      "เพิ่ม นาฬิกา ปลุก พรุ่ง นี้ 10 โมง เช้า \t alarm/modify_alarm \t alarm/set_alarm\n",
      "นาฬิกา ปลุก พรุ่ง นี้ กี่ โมง \t alarm/set_alarm \t alarm/show_alarms\n",
      "กรุณา แสดง นาฬิกา ปลุก ของ ฉัน ทั้งหมด ของ วัน พรุ่ง นี้ ให้ ฉัน ดู \t reminder/show_reminders \t alarm/show_alarms\n",
      "แสดง ให้ ฉัน ดู นาฬิกา ปลุก ของ อาทิตย์ นี้ \t weather/find \t alarm/show_alarms\n",
      "แส ดง นาฬิก ปลุก \t alarm/set_alarm \t alarm/show_alarms\n",
      "เอา นาฬิกา ปลุก ของ วัน นี้ ตอน ตี5ออก \t alarm/set_alarm \t alarm/cancel_alarm\n",
      "ลง ตาราง นาฬิกา ปลุก ประจํา วัน สําหรับ ทุ่ม ครึ่ง จนกว่า จะ ลบ \t alarm/modify_alarm \t alarm/set_alarm\n",
      "ตั้ง นาฬิกา ปลุก ซ้ํา จัน - ศุกร์ 6.45 น . \t alarm/set_alarm \t alarm/modify_alarm\n",
      "ให้ ฉัน ดู นาฬิกา ทั้งหมด \t weather/find \t alarm/show_alarms\n",
      "เพิ่ม นาฬิกา ปลุก อัน ใหม่ \t alarm/modify_alarm \t alarm/set_alarm\n",
      "แสดง นาฬิกา ปลุก ของ วัน นี้ \t reminder/show_reminders \t alarm/show_alarms\n",
      "แสดง ให้ ฉัน ดู นาฬิกา ปลุก ของ ฉัน \t reminder/show_reminders \t alarm/show_alarms\n",
      "ได้ โปรด แสดง นาฬิกา ปลุก ทั้ง ตอน นี้ \t weather/find \t alarm/show_alarms\n",
      "ปิด เสียง ชั่วคราว10นาที \t alarm/cancel_alarm \t alarm/snooze_alarm\n",
      "ฉัน มี นาฬิกา ปลุก กี่ อัน \t alarm/set_alarm \t alarm/show_alarms\n",
      "ตั้ง การ ปิด ชั่วคราว นาฬิกา ปลุก สําหรับ10นาที \t alarm/set_alarm \t alarm/snooze_alarm\n",
      "คุณ ช่วย เลื่อน นาฬิกา ปลุก ไป อีก 10 นาที ได้ ไหม \t alarm/modify_alarm \t alarm/snooze_alarm\n",
      "ฉัน ตั้ง นาฬิกา ปลุก นาฬิกา ปลุก อะไร ไว้ บ้าง \t alarm/set_alarm \t alarm/show_alarms\n",
      "เลื่อน นาฬิกา ปลุก ทุกๆ 5 นาที \t alarm/modify_alarm \t alarm/snooze_alarm\n",
      "นาฬิกา ปลุก ซ้ํา วัน จันทร์ ถึง วัน ศุกร์ เท่านั้น \t alarm/set_alarm \t alarm/modify_alarm\n",
      "เลื่อน นาฬิกา ปลุก ไป15 นาที \t alarm/modify_alarm \t alarm/snooze_alarm\n",
      "แสดง นาฬิกา ปลุก ที่ ใช้ งาน อยู่ ทั้งหมด \t reminder/show_reminders \t alarm/show_alarms\n",
      "เพิ่ม นาฬิกา ปลุก ใหม่ \t alarm/modify_alarm \t alarm/set_alarm\n",
      "เลื่อน ปลุก ของ ฉัน เป็น เวลา 20 นาที \t alarm/modify_alarm \t alarm/snooze_alarm\n",
      "เตือน ให้ ฉัน ไป ที่ สนาม บิน ใน วัน จันทร์ หน้า เวลา 6 โมง เย็น \t alarm/set_alarm \t reminder/set_reminder\n",
      "สร้าง เตือน ให้ โทร หา แม่ เวลา หนึ่ง ทุ่ม \t alarm/set_alarm \t reminder/set_reminder\n",
      "เตือน ฉัน ให้ โทร หา หมอ ฟัน เวลา บ่าย 4 โมง ใน วัน นี้ \t alarm/set_alarm \t reminder/set_reminder\n",
      "เตือน ความ จํา ใหม่ : โทร หา หมอ วัน นี้ เวลา เที่ยง \t alarm/set_alarm \t reminder/set_reminder\n",
      "ตั้ง เตือน ความ จํา วัน เกิด สําหรับ วัน ที่ 6 สิงหาคม , ไมค์ \t alarm/set_alarm \t reminder/set_reminder\n",
      "ตั้ง เตือน ความ จํา สําหรับ 10 โมง เช้า \t alarm/set_alarm \t reminder/set_reminder\n",
      "ยกเลิก เตือน ความ จํา ที่ โทร ติดต่อ แพทย์ \t alarm/cancel_alarm \t reminder/cancel_reminder\n",
      "เตือน ให้ ซื้อ นม คืน นี้ \t weather/find \t reminder/set_reminder\n",
      "ลบ การ เตือน ความ จํา ทั้งหมด ของ ฉัน \t alarm/cancel_alarm \t reminder/cancel_reminder\n",
      "ปิด เตือน ความ จํา ใน วัน นี้ \t alarm/cancel_alarm \t reminder/cancel_reminder\n",
      "ยกเลิก เตือน ความ จํา ของ ฉัน ไป ที่ สนาม บอล เวลา 5 โมง เย็น \t alarm/cancel_alarm \t reminder/cancel_reminder\n",
      "เตือน ฉัน ให้ อาหาร สุนัข คืน นี้ \t weather/find \t reminder/set_reminder\n",
      "ยกเลิก เตือน ความ จํา สําหรับ ตั๋ว คอน เส ริต \t alarm/cancel_alarm \t reminder/cancel_reminder\n",
      "ยกเลิก เตือน ความ จํา ของ ฉัน สําหรับ ทันตแพทย์ \t alarm/cancel_alarm \t reminder/cancel_reminder\n",
      "บอก ฉัน ถึง เตือน ความ จํา พรุ่ง นี้ \t weather/find \t reminder/show_reminders\n",
      "ลบ เตือน ความ จํา ไป ที่ dr . ' s \t alarm/cancel_alarm \t reminder/cancel_reminder\n",
      "เตือน ฉัน ว่า พัสดุ จะ จัด ส่ง โดย ups เวลา เที่ยง วัน \t weather/find \t reminder/set_reminder\n",
      "เตือน ฉัน ให้ ออก จาก ระบบ คอมพิวเตอร์ ใน บ่าย วัน นี้ \t alarm/cancel_alarm \t reminder/set_reminder\n",
      "ตั้ง เตือน ความ จํา เกี่ยว กับ ทัวร์ รถ เข็น ใน วัน ที่ 24 สิงหาคม \t alarm/set_alarm \t reminder/set_reminder\n",
      "ตั้ง การ เตือน ความ จํา ให้ โทร หา พี่ ชาย ของ ฉัน พรุ่ง นี้ เวลา หนึ่ง ทุ่ม \t alarm/set_alarm \t reminder/set_reminder\n",
      "ยกเลิก เตือน ความ จํา ทั้งหมด \t alarm/cancel_alarm \t reminder/cancel_reminder\n",
      "ยกเลิก เตือน ความ จํา เพื่อ ไป ที่ ups \t alarm/cancel_alarm \t reminder/cancel_reminder\n",
      "โปรด เตือน ให้ ฉัน ซื้อ ฮ็อ ตด็ อก ที่ ร้าน คืน นี้ \t alarm/set_alarm \t reminder/set_reminder\n",
      "เตือน ฉัน ตอน 8 โมง โทร หา เจ้า นาย ของ ฉัน \t alarm/set_alarm \t reminder/set_reminder\n",
      "เตือน ฉัน ให้ โทร หา หมอ บ่าย วัน นี้ \t alarm/set_alarm \t reminder/set_reminder\n",
      "เตือน ฉัน ให้ ลุก ขึ้น และ ยืด \t alarm/set_alarm \t reminder/set_reminder\n",
      "วัน นี้ มี เตือน ความ จํา อะไร บ้าง \t weather/find \t reminder/show_reminders\n",
      "ยกเลิก เตือน ความ จํา \t alarm/cancel_alarm \t reminder/cancel_reminder\n",
      "ยกเลิก เตือน ความ จํา กับ น้อง ชาย บ่าย วัน พรุ่ง นี้ \t alarm/cancel_alarm \t reminder/cancel_reminder\n",
      "ยกเลิก เตือน ความ จํา ส่ง ข้อความ หา พ่อ \t alarm/cancel_alarm \t reminder/cancel_reminder\n",
      "ยกเลิก เตือน ความ จํา ให้ เดิน สุนัข \t alarm/cancel_alarm \t reminder/cancel_reminder\n",
      "ยกเลิก การ เตือน ความ จํา ให้ เล่น เทนนิส ใน วัน พรุ่ง นี้ \t alarm/cancel_alarm \t reminder/cancel_reminder\n",
      "เตือน ฉัน ให้ ซื้อ เนย ที่ ร้าน คืน นี้ \t weather/find \t reminder/set_reminder\n",
      "เตือน ฉัน ให้ ไป รับ แม่ ที่ สนาม บิน พรุ่ง นี้ \t weather/find \t reminder/set_reminder\n",
      "เตือน ฉัน ให้ ทํา คําถาม ตอบ คืน นี้ ตอน สี่ ทุ่ม \t alarm/set_alarm \t reminder/set_reminder\n",
      "เตือน ฉัน ให้ ซื้อ หมึก เครื่อง ปริ้ นที่ เบส เบย์ \t alarm/set_alarm \t reminder/set_reminder\n",
      "เตือน ฉัน ให้ นํา dvd ไป คืน redbox ที่ walmart \t weather/find \t reminder/set_reminder\n",
      "ตั้ง เตือน ความ จํา สําหรับ11โมง ครึ่ง \t alarm/set_alarm \t reminder/set_reminder\n",
      "เตือน ฉัน ให้ จ่าย ค่า ไฟฟ้า ใน วัน พรุ่ง นี้ \t weather/find \t reminder/set_reminder\n",
      "เตือน ฉัน ให้ ตรวจ สอบ เค้ก อีก 20 นาที \t alarm/set_alarm \t reminder/set_reminder\n",
      "ตั้ง เตือน ความ จํา ล่วง หน้า หนึ่ง สัปดาห์ ของ วัน ครบ รอบ ปี ของ ฉัน \t alarm/set_alarm \t reminder/set_reminder\n",
      "เตือน ฉัน ให้ เปลี่ยน เสื้อผ้า อีก หนึ่ง ชั่วโมง \t weather/find \t reminder/set_reminder\n",
      "ยกเลิก เตือน ความ จํา ทั้งหมด สําหรับ วัน นี้ \t alarm/cancel_alarm \t reminder/cancel_reminder\n",
      "ตั้ง เตือน ความ จํา สําหรับ บ่าย สอง โมง วัน พรุ่ง นี้ \t alarm/set_alarm \t reminder/show_reminders\n",
      "ยกเลิก เตือน ความ จํา ทั้งหมด สําหรับ สัปดาห์ \t alarm/cancel_alarm \t reminder/cancel_reminder\n",
      "ยกเลิก การ เตือน ความ จํา เพื่อ โทร ติดต่อ สํานักงาน \t alarm/cancel_alarm \t reminder/cancel_reminder\n",
      "ยกเลิก เตือน ความ จํา ส่ง อี เมล ล์ หา แมท \t alarm/cancel_alarm \t reminder/cancel_reminder\n",
      "เตือน ให้ ฉัน โทร หา แม่ วัน นี้ เวลา บ่าย 2 โมง \t alarm/set_alarm \t reminder/set_reminder\n",
      "คุณ ช่วย เตือน ฉัน ให้ ไป รับ ซา ร่า ที่ สนาม บิน พรุ่ง นี้ ได้ ไหม \t weather/find \t reminder/set_reminder\n",
      "ยกเลิก เตือน ความ จํา ของ ฉัน \t alarm/cancel_alarm \t reminder/cancel_reminder\n",
      "เตือน ฉัน ให้ เช่า เลนส์ ใน วัน พรุ่ง นี้ เวลา 9 : 42 น \t alarm/set_alarm \t reminder/set_reminder\n",
      "ตั้ง เตือน ความ จํา 5โมง เย็น เพื่อ รับ โจ ซี่ ที่ โรงเรียน \t alarm/set_alarm \t reminder/set_reminder\n",
      "ลบ เตือน ความ จํา ของ ฉัน ใน วัน พรุ่ง นี้ \t alarm/cancel_alarm \t reminder/cancel_reminder\n",
      "ฉัน ต้องการ ยกเลิก การ เตือน ความ จํา ของ ฉัน ใน วัน เสาร์ เพื่อ ทําความ สะอาด โรง จอด รถ \t alarm/cancel_alarm \t reminder/cancel_reminder\n",
      "เตือน ให้ ฉัน ไป นอน ตอน สี่ ทุ่ม \t alarm/set_alarm \t reminder/set_reminder\n",
      "เตือน ให้ ฉัน โทร หา ช่าง ประปา ตอน 3โมง \t alarm/set_alarm \t reminder/set_reminder\n",
      "เตือน ฉัน ให้ ยกเลิก การ นัด หมาย \t reminder/cancel_reminder \t reminder/set_reminder\n",
      "ยกเลิก การ เตือน ความ จํา ของ ฉัน สําหรับ วัน พรุ่ง นี้ \t alarm/cancel_alarm \t reminder/cancel_reminder\n",
      "เตือน ฉัน ให้ ซื้อ ก๊าซ ใน วัน พรุ่ง นี้ \t weather/find \t reminder/set_reminder\n",
      "เตือน ฉัน ให้ ไป เติม แก๊ส \t weather/find \t reminder/set_reminder\n",
      "เตือน ฉัน เวลา 5 โมง เย็น \t alarm/set_alarm \t reminder/set_reminder\n",
      "เตือน ฉัน ให้ โทร หา พี่ สาว ของ ฉัน ใน วัน เสาร์ นี้ เวลา 10 โมง เช้า \t alarm/set_alarm \t reminder/set_reminder\n",
      "เตือน ฉัน ให้ หยุด พัก \t alarm/cancel_alarm \t reminder/set_reminder\n",
      "เตือน ให้ ฉัน โทร หา ที่ ทํางาน เวลา 9 โมง เช้า \t alarm/set_alarm \t reminder/set_reminder\n",
      "เตือน ให้ ฉัน นํา ผ้า ไป ซัก วัน พรุ่ง นี้ เวลา บ่าย 4 โมง \t alarm/set_alarm \t reminder/set_reminder\n",
      "ยกเลิก เตือน ความ จํา วัน ที่ 12 กันยายน \t alarm/cancel_alarm \t reminder/cancel_reminder\n",
      "เตือน ฉัน ให้ สั่ง ซื้อ กรวด \t weather/find \t reminder/set_reminder\n",
      "เตือน ฉัน ให้ เช็ค อิน กับ ผู้ จัดการ ใน วัน พรุ่ง นี้ \t alarm/set_alarm \t reminder/set_reminder\n",
      "เตือน ฉัน ให้ รดน้ํา ต้นไม้ เมื่อ ฉัน กลับ ถึง บ้าน \t weather/find \t reminder/set_reminder\n",
      "ตั้ง เตือน ความ จํา เวลา 3 : 30 น . ใน วัน อังคาร \t alarm/set_alarm \t reminder/set_reminder\n",
      "ลบ การ เตือน ความ จํา ทั้งหมด \t alarm/cancel_alarm \t reminder/cancel_reminder\n",
      "ยกเลิก เตือน ความ จํา ใน วัน พรุ่ง นี้ \t alarm/cancel_alarm \t reminder/cancel_reminder\n",
      "เตือน ให้ ฉัน ตรวจ สอบ ธนาคาร เวลา 3 โมง เย็น \t alarm/set_alarm \t reminder/set_reminder\n",
      "เตือน ฉัน ให้ ตั้ง นาฬิกา ปลุก \t alarm/set_alarm \t reminder/set_reminder\n",
      "เตือน ฉัน ให้ ตัด หญ้า ใน บ่าย วัน นี้ \t weather/find \t reminder/set_reminder\n",
      "ยกเลิก เตือน ความ จํา ครั้ง ล่าสุด ของ ฉัน \t alarm/cancel_alarm \t reminder/cancel_reminder\n",
      "ตั้ง เตือน ความ จํา เพื่อ ไป ที่ publix \t alarm/set_alarm \t reminder/set_reminder\n",
      "ยกเลิก เตือน ความ จํา เพื่อ ชําระ ค่า โทรศัพท์ ของ ฉัน \t alarm/cancel_alarm \t reminder/cancel_reminder\n",
      "เตือน ให้ ฉัน หยุด แวะ ร้าน ขาย ของชํา ใน คืน นี้ \t alarm/cancel_alarm \t reminder/set_reminder\n",
      "เตือน ฉัน ไป ที่ ธนาคาร หรือ ไม่ ? \t weather/find \t reminder/set_reminder\n",
      "ตั้ง ค่า เตือน ความ จํา สําหรับ เย็น วัน พุธ \t weather/find \t reminder/set_reminder\n",
      "ปิด เตือน ความ จํา \t alarm/cancel_alarm \t reminder/cancel_reminder\n",
      "ลบ การ เตือน ความ จํา ใน วัน พรุ่ง นี้ บ่าย โมง \t alarm/cancel_alarm \t reminder/cancel_reminder\n",
      "ลบ การ เตือน ความ จํา เพื่อ โทร หา john \t alarm/cancel_alarm \t reminder/cancel_reminder\n",
      "เตือน ฉัน ให้ เติม ก๊าซ ใน ตอน เช้า \t weather/find \t reminder/set_reminder\n",
      "เตือน ให้ ฉัน นํา คอมพิวเตอร์ กลับ มา บ้าน เวลา บ่าย วัน พรุ่ง นี้ \t alarm/set_alarm \t reminder/set_reminder\n",
      "ยกเลิก เตือน ความ จํา ทั้งหมด หลัง จาก บ่าย 5 โมง \t alarm/cancel_alarm \t reminder/cancel_reminder\n",
      "ยกเลิก เตือน ความ จํา ของ ร้าน ขาย ของชํา \t alarm/cancel_alarm \t reminder/cancel_reminder\n",
      "ยกเลิก เตือน ความ จํา ทั้งหมด สําหรับ พรุ่ง นี้ \t alarm/cancel_alarm \t reminder/cancel_reminder\n",
      "ยกเลิก เตือน ความ จํา ของ ฉัน ที่ ต้อง ให้ อาหาร สุนัข \t alarm/cancel_alarm \t reminder/cancel_reminder\n",
      "เตือน ให้ ฉัน ไป เยี่ยม ช่าง ใน วัน ศุกร์ เวลา 9 โมง เช้า \t alarm/set_alarm \t reminder/set_reminder\n",
      "ยกเลิก การ เตือน ความ จํา ทั้งหมด สําหรับ วัน อังคาร \t alarm/cancel_alarm \t reminder/cancel_reminder\n",
      "เตือน ฉัน ให้ นํา ถัง ขยะ ออก ทุกๆ คืน วัน อังคาร \t alarm/set_alarm \t reminder/set_reminder\n",
      "ตั้ง เตือน ความ จํา สําหรับ การ ทํางาน \t alarm/set_alarm \t reminder/set_reminder\n",
      "เตือน ฉัน ว่าการ ขาย ขนม คือ วัน อังคาร หน้า \t weather/find \t reminder/show_reminders\n",
      "เตือน ฉัน ให้ โทร หา เล สลี่ ถ้า ฉัน อยู่ ใน รัศมี 5 ไมล์ ไป ยัง big - sur , ca \t weather/find \t reminder/set_reminder\n",
      "ตั้ง เตือน ความ จํา สําหรับ วัน เสาร์ ถัด ไป เวลา บ่าย 3 โมง \t alarm/set_alarm \t reminder/set_reminder\n",
      "เตือน ฉัน เรื่อง อาหาร กลาง วัน ของ ฉัน ใน วัน พุธ \t weather/find \t reminder/set_reminder\n",
      "ตั้ง การ เตือน ความ จํา ให้ บันทึก ยอด เขา แฝด \t alarm/set_alarm \t reminder/set_reminder\n",
      "ยกเลิก เตือน ความ จํา ทั้งหมด ของ ฉัน สําหรับ วัน นี้ \t alarm/cancel_alarm \t reminder/cancel_reminder\n",
      "ยกเลิก เตือน ความ จํา ทั้งหมด สําหรับ สุด สัปดาห์ ถัด ไป \t alarm/cancel_alarm \t reminder/cancel_reminder\n",
      "เตือน ฉัน ให้ ได้ รับ อาหาร แมว \t weather/find \t reminder/set_reminder\n",
      "เตือน ฉัน ตอน เที่ยง เพื่อ พัก รับ ประทาน อาหาร กลาง วัน \t weather/find \t reminder/set_reminder\n",
      "เตือน ฉัน ให้ โทร หา หมอ พรุ่ง นี้ \t alarm/set_alarm \t reminder/set_reminder\n",
      "บันทึก เตือน ความ จําราย เดือน \t reminder/show_reminders \t reminder/set_reminder\n",
      "ยกเลิก เตือน ความ จํา ใด ๆ \t alarm/cancel_alarm \t reminder/cancel_reminder\n",
      "เตือน ฉัน ให้ ได้ รับ ก๊าซ เมื่อ ถัง ของ ฉัน อยู่ ใกล้ กับ ที่ ว่าง เปล่า \t weather/find \t reminder/set_reminder\n",
      "ยกเลิก เตือน ความ จํา ทั้งหมด ของ ฉัน ใน วัน พรุ่ง นี้ \t alarm/cancel_alarm \t reminder/cancel_reminder\n",
      "เตือน ฉัน เกี่ยว กับ การ ทํางาน \t weather/find \t reminder/set_reminder\n",
      "เตือน ฉัน ให้ ซื้อ ผง ซักฟอก คืน นี้ โปรด \t weather/find \t reminder/set_reminder\n",
      "ปิด ใช้ งาน เตือน ความ จํา ที่ เกิด ซ้ํา \t alarm/cancel_alarm \t reminder/cancel_reminder\n",
      "เตือน ฉัน ให้ โทร หา งาน ใน วัน พรุ่ง นี้ \t alarm/set_alarm \t reminder/set_reminder\n",
      "เตือน ฉัน เกี่ยว กับ open house ใน วัน พฤหัสบดี เวลา 18.00 น \t weather/find \t reminder/set_reminder\n",
      "เตือน ฉัน ให้ รับ เค้ก วัน จันทร์ \t weather/find \t reminder/set_reminder\n",
      "ฉัน ตั้ง ค่า เตือน ความ จํา ให้ นัด หมอ ใน สัปดาห์ หน้า ไหม \t reminder/set_reminder \t reminder/show_reminders\n",
      "ลบ เตือน ความ จํา โทร หา zozo ใน วัน พรุ่ง นี้ \t alarm/cancel_alarm \t reminder/cancel_reminder\n",
      "ตั้ง เตือน ความ จํา ให้ ซื้อ ขนมปัง เวลา 16.00 น \t alarm/set_alarm \t reminder/set_reminder\n",
      "ปิด เตือน ความ จํา ของ ฉัน \t alarm/cancel_alarm \t reminder/cancel_reminder\n",
      "ตั้ง ค่า เตือน ความ จํา สําหรับ วัน อาทิตย์ \t alarm/set_alarm \t reminder/set_reminder\n",
      "ลบ เตือน ความ จํา สําหรับ วัน พรุ่ง นี้ \t alarm/cancel_alarm \t reminder/cancel_reminder\n",
      "ยกเลิก เตือน ความ จํา เพื่อ ซื้อ นม ที่ ร้าน ค้า คืน นี้ \t alarm/cancel_alarm \t reminder/cancel_reminder\n",
      "ยกเลิก เตือน ความ จํา ของ ฉัน เพื่อ ไป พบ ทันตแพทย์ \t alarm/cancel_alarm \t reminder/cancel_reminder\n",
      "เตือน ฉัน ถึง กําหนด จ่าย ค่า รถ \t weather/find \t reminder/set_reminder\n",
      "เตือน ฉัน ให้ เช็ก เมล ล์ อีก10นาที \t alarm/snooze_alarm \t reminder/set_reminder\n",
      "ตั้ง ค่า เตือน ความ จํา ให้ จ่าย ค่า ชําระ ใน วัน ที่ 15 ของ แต่ละ เดือน \t alarm/set_alarm \t reminder/set_reminder\n",
      "ฉัน มี เตือน ความ จํา ที่ จะ เกิด ขึ้น อะไร บ้าง วัน นี้ \t weather/find \t reminder/show_reminders\n",
      "เตือน ฉัน ให้ เปิด เตา ที่ 7 : 45 คืน นี้ \t alarm/set_alarm \t reminder/set_reminder\n",
      "ยกเลิก เตือน ความ จํา ของ ฉัน ของ วัน ศุกร์ ตอน6โมง เย็น \t alarm/cancel_alarm \t reminder/cancel_reminder\n",
      "ยกเลิก เตือน ความ จํา ที่ จะ ส่ง ข้อความ หา แอง เจิล \t alarm/cancel_alarm \t reminder/cancel_reminder\n",
      "เตือน ฉัน ให้ ทําการ บ้าน ตอน5โมง เย็น \t alarm/set_alarm \t reminder/set_reminder\n",
      "เตือน ฉัน ไป รับ john \t weather/find \t reminder/set_reminder\n",
      "เตือน ฉัน พรุ่ง นี้ เวลา 9.00 น . ตอบ กลับ อีเมล ของ linda \t alarm/set_alarm \t reminder/set_reminder\n",
      "ตั้ง เตือน ความ จํา เพื่อ ไป ฟัง การ พิจารณา คดี ใน วัน ศุกร์ เวลา 8.00 น . \t alarm/set_alarm \t reminder/set_reminder\n",
      "ตั้ง เตือน ความ จํา ทุกๆ วัน เพื่อ กิน ยา ตอน8โมง เช้า \t alarm/set_alarm \t reminder/set_reminder\n",
      "เตือน ฉัน ให้ บันทึก game of thrones ใน วัน อาทิตย์ เวลา 22.00 น \t alarm/set_alarm \t reminder/set_reminder\n",
      "เตือน ฉัน ให้ โทร หา ที่ ทํางาน อีก1ชั่วโมง \t alarm/set_alarm \t reminder/set_reminder\n",
      "เตือน ฉัน ให้ ซื้อ โหระพา \t weather/find \t reminder/set_reminder\n",
      "โปรด bot เตือน ฉัน ให้ ทาน วิตามิน ทุก วัน \t alarm/snooze_alarm \t reminder/set_reminder\n",
      "เตือน ฉัน ให้ ไป รับ ลี อาห์ จาก รถ บัส ตอน บ่าย สอง15นาที \t alarm/set_alarm \t reminder/set_reminder\n",
      "เตือน ฉัน ให้ โทร หา นา ตา ลี พรุ่ง นี้ \t alarm/set_alarm \t reminder/set_reminder\n",
      "มี เตือน ความ จํา อะไร บ้าง เร็วๆ นี้ \t weather/find \t reminder/show_reminders\n",
      "เตือน ฉัน นัด เรื่อง รถ ของ ฉัน ใน เช้า วัน เสาร์ \t alarm/set_alarm \t reminder/set_reminder\n",
      "เปิด เตือน ความ จําราย สัปดาห์ \t alarm/snooze_alarm \t reminder/set_reminder\n",
      "ลบ เตือน ความ จํา เพื่อ เข้า ร่วม การ ขี่ จักรยาน ที่ เปลือย เปล่า ใน พอร์ต แลนด์ \t alarm/cancel_alarm \t reminder/cancel_reminder\n",
      "ยกเลิก เตือน ความ จํา ของ ฉัน ให้ โทร หา dan \t alarm/cancel_alarm \t reminder/cancel_reminder\n",
      "เตือน ฉัน ให้ กิน ยา ตอน 4 โมง เย็น \t alarm/set_alarm \t reminder/set_reminder\n",
      "ยกเลิก ตั้ง ความ จํา สําหรับ พรุ่ง นี้ \t alarm/cancel_alarm \t reminder/cancel_reminder\n",
      "ตั้ง เตือน ความ จํา ให้ ไป ที่ ร้าน หลัง จาก ที่ ทํางาน \t alarm/set_alarm \t reminder/set_reminder\n",
      "ยกเลิก เตือน ความ จํา นัด หมาย แพทย์ \t alarm/cancel_alarm \t reminder/cancel_reminder\n",
      "สร้าง เตือน ความ จํา สําหรับ วัน พรุ่ง นี้ เพื่อ ซื้อ นม \t alarm/set_alarm \t reminder/set_reminder\n",
      "ตั้ง เตือน ความ จํา ให้ ไป รับ ที่ โรงเรียน พรุ่ง นี้ เช้า \t alarm/set_alarm \t reminder/set_reminder\n",
      "เตือน ฉัน เมื่อ ถึง วัน จันทร์ \t weather/find \t reminder/set_reminder\n",
      "เตือน ให้ ฉัน ไป รับ ขนมปัง เวลา 5 โมง เย็น ใน วัน นี้ \t alarm/set_alarm \t reminder/set_reminder\n",
      "ตั้ง เตือน ความ จํา ให้ เปลี่ยน กล่อง เล็กๆ วัน ที่ 17 สิงหาคม 2017 \t alarm/set_alarm \t reminder/set_reminder\n",
      "เพิ่ม เตือน ความ จํา ตอน เที่ยง คืน คืน นี้ \" กิน ยา \" \t alarm/set_alarm \t reminder/set_reminder\n",
      "ทุกๆ 3 เดือน เตือน ฉัน ให้ ตรวจ สอบ เท อร์ โม สตัท \t weather/find \t reminder/set_reminder\n",
      "ไม่ ต้อง เตือน ฉัน ให้ ทําความ สะอาด ห้องน้ํา \t alarm/cancel_alarm \t reminder/cancel_reminder\n",
      "เตือน ฉัน พาห มา ออก ไป เดิน \t weather/find \t reminder/set_reminder\n",
      "เพิ่ม เตือน ความ จํา เตือน คืน นี้ ตอน 6.00ให้ โทร shebee \t alarm/modify_alarm \t reminder/set_reminder\n",
      "ยกเลิก เตือน ความ จํา ใน วัน พรุ่ง นี้ ทั้งหมด \t alarm/cancel_alarm \t reminder/cancel_reminder\n",
      "เตือน ให้ ฉัน ตั้ง เวลา ปลุก วัน จันทร์ วัน อาทิตย์ นี้ \t alarm/set_alarm \t reminder/set_reminder\n",
      "เตือน ฉัน ให้ ฉัด ขัด ฟัน ของ ฉัน ทุก วัน \t alarm/set_alarm \t reminder/set_reminder\n",
      "จริงๆ แล้ว ฉัน มี ร้าน ขาย ของชํา เรียบร้อย แล้ว โปรด ยกเลิก เตือน ความ จํา \t alarm/cancel_alarm \t reminder/cancel_reminder\n",
      "ตั้ง ค่า เตือน ความ จํา ให้ เก็บ ไข่ สําหรับ เจน นิ เฟอร์ \t alarm/set_alarm \t reminder/set_reminder\n",
      "เตือน ฉัน ไป รับ กระบะ ซักแห้ง \t weather/find \t reminder/set_reminder\n",
      "เตือน ฉัน เรื่อง นัด ทันตแพทย์ ใน วัน จันทร์ ถัด ไป ตอน 8 โมง \t alarm/set_alarm \t reminder/set_reminder\n",
      "ยกเลิก เตือน ความ จํา สําหรับ วัน พฤหัสบดี \t alarm/cancel_alarm \t reminder/cancel_reminder\n",
      "ตั้ง ค่า เตือน ความ จํา ให้ เติม แก๊ส \t alarm/set_alarm \t reminder/set_reminder\n",
      "เตือน ฉัน ไป รับ อาหาร เย็น \t weather/find \t reminder/set_reminder\n",
      "ยกเลิก เตือน ความ จํา ให้ โทร หา ฝ่าย บัญชี \t alarm/cancel_alarm \t reminder/cancel_reminder\n",
      "เตือน ฉัน ว่า ฉัน ว่า มี นัด แพทย์ ตอน บ่าย4โมง วัน พรุ่ง นี้ \t alarm/set_alarm \t reminder/set_reminder\n",
      "เตือน ฉัน เมื่อ บ่าย วัน อังคาร เพื่อ นัด หมาย \t alarm/set_alarm \t reminder/set_reminder\n",
      "ยกเลิก เตือน ความ จํา สําหรับ คอนเสิร์ต \t alarm/cancel_alarm \t reminder/cancel_reminder\n",
      "เตือน ให้ ฉัน โทร หา nate เวลา 14.00 น . ใน วัน พรุ่ง นี้ \t alarm/set_alarm \t reminder/set_reminder\n",
      "ตั้ง ค่า เตือน ความ จํา ด้วย การ ปลุก 5 : 00 ของ ฉัน \t alarm/set_alarm \t reminder/set_reminder\n",
      "เตือน ฉัน ว่า รายการ โปรด ของ ฉัน เล่น ใน คืน นี้ \t reminder/show_reminders \t reminder/set_reminder\n"
     ]
    },
    {
     "name": "stdout",
     "output_type": "stream",
     "text": [
      "เตือน ฉัน ให้ นํา ถัง ขยะ ออก ใน วัน พรุ่ง นี้ \t alarm/set_alarm \t reminder/set_reminder\n",
      "เลื่อน การ เตือน ชั่วคราว 1 ชั่วโมง \t alarm/modify_alarm \t alarm/snooze_alarm\n",
      "เลื่อน เวลา ปลุก 10นาที \t alarm/modify_alarm \t alarm/snooze_alarm\n",
      "รี เซ็ ทนาฬิ กา ปลุก ทั้งหมด \t weather/find \t alarm/cancel_alarm\n",
      "ตั้ง เวลา ปลุก อีก 20 นาที \t alarm/modify_alarm \t alarm/set_alarm\n",
      "เอา เวลา ปลุก อาทิตย์ นี้ มา ดู หน่อย \t weather/find \t alarm/show_alarms\n",
      "เลื่อน เวลา ปลุก ฉัน ไป 45 นาที \t alarm/modify_alarm \t alarm/snooze_alarm\n",
      "แสดง สัญญาณ เตือน ภัย ของ ฉัน สําหรับ สัปดาห์ นี้ \t weather/find \t alarm/show_alarms\n",
      "ปิด เสียง เตือน ชั่วคราว อีก 20 นาที \t alarm/cancel_alarm \t alarm/snooze_alarm\n",
      "วัน พรุ่ง นี้ ฉัน จะ ตั้ง เวลา ปลุก อะไร \t alarm/set_alarm \t alarm/show_alarms\n",
      "ตั้ง เวลา ปลุก ใหม่ \t alarm/modify_alarm \t alarm/cancel_alarm\n",
      "กี่ โมง แล้ว ที่ เวลา ปลก ? \t weather/find \t alarm/show_alarms\n",
      "เวลา ปลุก ตั้ง อยู่ ที่ อะไร ? \t weather/checkSunset \t alarm/show_alarms\n",
      "ปลุก หลัง จาก 15 นาที \t alarm/modify_alarm \t alarm/set_alarm\n",
      "ฉัน ได้ ตั้ง เวลา ปลุก หรือ ยัง \t alarm/set_alarm \t alarm/show_alarms\n",
      "ฉัน ตั้ง เวลา ปลุก เพื่อ อะไร พรุ่ง นี้ \t alarm/set_alarm \t alarm/show_alarms\n",
      "เอา เวลา ปลุก วัน นี้ ของ ฉัน ให้ ดู หน่อย \t alarm/modify_alarm \t alarm/show_alarms\n",
      "ฉัน ตั้ง เวลา ปลุก กี่ โมง \t alarm/set_alarm \t alarm/show_alarms\n",
      "เลื่อน เวลา ปลุก \t alarm/modify_alarm \t alarm/snooze_alarm\n",
      "ฉัน ควร ตั้ง เวลา ปลุก ไหน บ้าง ใน วัน จันทร์ \t weather/find \t alarm/show_alarms\n",
      "ฉัน ต้อง ตั้ง เวลา ปลุก เท่า ไหร่ \t alarm/set_alarm \t alarm/show_alarms\n",
      "ตั้ง เวลา ปลุก ไว้ 10 นาที \t alarm/modify_alarm \t alarm/set_alarm\n",
      "เวลา ปลุก คือ อะไร สําหรับ วัน พุธ \t weather/checkSunset \t alarm/show_alarms\n",
      "ดู การ ตั้ง ปลุก ใน วัน อาทิตย์ \t weather/find \t alarm/show_alarms\n",
      "แสดง การ เตือน ทั้งหมด \t weather/find \t alarm/show_alarms\n",
      "เปิด นาฬิ ปลุก \t weather/find \t alarm/set_alarm\n",
      "แสดง เวลา ปลุก ทั้งหมด \t reminder/show_reminders \t alarm/show_alarms\n",
      "ตั้ง ค่า นาฬิกา ปลุก ทั้งหมด \t alarm/set_alarm \t alarm/cancel_alarm\n",
      "บอก หน่อย ว่า ต้อง ตั้ง เวลา ปลุก กี่ โมง \t alarm/set_alarm \t alarm/show_alarms\n",
      "ฉัน ตั้ง เวลา ปลุก เพื่อ อะไร \t alarm/set_alarm \t alarm/show_alarms\n",
      "ตั้ง เวลา ปลุก ไว้ เร็ว หน่อย \t alarm/modify_alarm \t alarm/set_alarm\n",
      "มี เวลา ปลุก อะไร ต้อง ตั้ง บ้าง \t weather/find \t alarm/show_alarms\n",
      "แสดง ตั้ง เวลา ปลุก \t weather/find \t alarm/show_alarms\n",
      "ยกเลิก การ แจ้ง เตือน ทั้งหมด ของ อาทิตย์ นี้ \t alarm/cancel_alarm \t reminder/cancel_reminder\n",
      "เตือน ฉัน วัน จันทร์ วัน เกิด แม่ \t weather/find \t reminder/set_reminder\n",
      "แสดง การ แจ้ง เตือน ของ วัน นี้ \t weather/find \t reminder/show_reminders\n",
      "ตั้ง การ แจ้ง เตือน สําหรับ การ ตื่น นอน \t alarm/set_alarm \t reminder/set_reminder\n",
      "ตั้ง ค่า การ แจ้ง เตือน สําหรับ เดต คืน วัน ที่ 12 ตอน บ่าย3 \t alarm/set_alarm \t reminder/set_reminder\n",
      "ฉัน มี การ แจ้ง เตือน อะไร บ้าง ใน วัน จันทร์ \t weather/find \t reminder/show_reminders\n",
      "ยกเลิก การ แจ้ง เตือน ของ วัน พรุ่ง นี้ \t alarm/cancel_alarm \t reminder/cancel_reminder\n",
      "ตั้ง การ แจ้ง เตือน วัน แรก ของ โรงเรียน \t alarm/set_alarm \t reminder/set_reminder\n",
      "ยกเลิก การ เตือน ทั้งหมด \t alarm/cancel_alarm \t reminder/cancel_reminder\n",
      "ยกเลิก การ แจ้ง เตือน ทรีต เมน ต์ เท้า วัน พฤหัสบดี \t alarm/cancel_alarm \t reminder/cancel_reminder\n",
      "ตั้ง การ แจ้ง เตือน ของ วัน เสาร์ เช้า \t alarm/set_alarm \t reminder/set_reminder\n",
      "เตือน ฉัน ให้ ไป แบงค์ กด เงิน ออก วัน นี้ \t alarm/set_alarm \t reminder/set_reminder\n",
      "เตือน ฉัน ห็ ซื้อ อาหาร และ เครื่อง ดื่ม สําหรับ ทริป วัน นี้ \t weather/find \t reminder/set_reminder\n",
      "ยกเลิก การ แจ้ง เตือน ที่ จะ นัด \t alarm/cancel_alarm \t reminder/cancel_reminder\n",
      "เตือน ฉัน ให้ โทร ติดต่อ janice เวลา 5 โมง เย็น \t alarm/set_alarm \t reminder/set_reminder\n",
      "ตั้ง การ แจ้ง เตือน ไป หา หมอ วัน ศุกร์ \t alarm/set_alarm \t reminder/set_reminder\n",
      "ยกเลิก การ แจ้ง เตือน นัด หมอ ฟัน \t alarm/cancel_alarm \t reminder/cancel_reminder\n",
      "ตั้ง ค่า การ แจ้ง เตือน สําหรับ วัน เกิด ลูกๆ ของ ฉัน \t alarm/set_alarm \t reminder/set_reminder\n",
      "อ่าน การ แจ้ง เตือน สําหรับ วัน นี้ ของ ฉัน \t weather/find \t reminder/show_reminders\n",
      "ตั้ง การ แจ้ง เตือน กิจกรรม \t alarm/set_alarm \t reminder/set_reminder\n",
      "ยกเลิก การ แจ้ง เตือน ทั้งหมด \t alarm/cancel_alarm \t reminder/cancel_reminder\n",
      "การ แจ้ง เตือน ของ ฉัน สําหรับ วัน นี้ คือ อะไร ? \t weather/find \t reminder/show_reminders\n",
      "ฉัน มี การ แจ้ง เตือน ใน วัน พรุ่ง นี้ หรือ ไม่ \t weather/find \t reminder/show_reminders\n",
      "ยกเลิก การ แจ้ง เตือน สําหรับ วัน พรุ่ง นี้ \t alarm/cancel_alarm \t reminder/cancel_reminder\n",
      "ลบ การ แจ้ง เตือน วัน ศุกร์ \t alarm/cancel_alarm \t reminder/cancel_reminder\n",
      "โปรด ยกเลิก การ แจ้ง เตือน สําหรับ วัน พรุ่ง นี้ \t alarm/cancel_alarm \t reminder/cancel_reminder\n",
      "ฉัน มี การ แจ้ง เตือน ใน วัน นี้ หรือ ไม่ ? \t weather/find \t reminder/show_reminders\n",
      "เตือน ฉัน ให้ ตั้ง เวลา ไป หา ศัตว แพทย์ วัน นี้ \t alarm/set_alarm \t reminder/set_reminder\n",
      "ยกเลิก การ แจ้ง เตือน ของ ฉัน \t alarm/cancel_alarm \t reminder/cancel_reminder\n",
      "สร้าง แจ้ง เตือน การ สัมภาษณ์ ใน วัน พรุ่ง นี้ เวลา 8.00 น \t alarm/set_alarm \t reminder/set_reminder\n",
      "เตือน ฉัน ไป รับ hailey จาก โรงเรียน \t weather/find \t reminder/set_reminder\n",
      "เตือน ฉัน เกี่ยว กับ การ ประชุม สัมมนา ครู \t weather/find \t reminder/set_reminder\n",
      "เตือน ฉัน ให้ ดู cnn เวลา 1 ทุ่ม \t weather/find \t reminder/set_reminder\n",
      "ตั้ง ค่า การ แจ้ง เตือน ให้ ฉัน ไป รับ ชุด สูท เวลา พรุ่ง นี้ เวลา 11 โมง เช้า \t alarm/set_alarm \t reminder/set_reminder\n",
      "ยกเลิก การ แจ้ง เตือน สําหรับ ห้อง ออก กําลัง กาย ใน วัน ศุกร์ นี้ \t alarm/cancel_alarm \t reminder/cancel_reminder\n",
      "เตือน ให้ ฉัน นํา ไก่ ออก จาก ช่อง แช่ แข็ง เช้า วัน พรุ่ง นี้ \t weather/find \t reminder/set_reminder\n",
      "ฉัน ต้องการ คํา เตือน ที่ จะ ต้อง จ่าย ค่า เช่า เวลา 15.00 น . วัน นี้ \t alarm/set_alarm \t reminder/set_reminder\n",
      "เตือน ฉัน ให้ ตั้ง เวลา \t alarm/set_alarm \t reminder/set_reminder\n",
      "เตือน ฉัน ให้ ป้อน ข้าว ลูก เช้า พรุ่ง นี้ เวลา 8.00 น . \t alarm/set_alarm \t reminder/set_reminder\n",
      "ยกเลิก การ แจ้ง เตือน ซื้อ อาหาร สุนัข \t alarm/cancel_alarm \t reminder/cancel_reminder\n",
      "เตือน ให้ ฉัน โทร หา ที่ บ้าน เวลา 4 โมง เย็น \t alarm/set_alarm \t reminder/set_reminder\n",
      "ยกเลิก การ แจ้ง เตือน ทั้งหมด สําหรับ วัน นี้ \t alarm/cancel_alarm \t reminder/cancel_reminder\n",
      "ลบ การ แจ้ง เตือน สําหรับ วัน พุธ \t alarm/cancel_alarm \t reminder/cancel_reminder\n",
      "ลบ การ แจ้ง เตือน ของ ฉัน ใน วัน พรุ่ง นี้ \t alarm/cancel_alarm \t reminder/cancel_reminder\n",
      "ลบ การ แจ้ง เตือน ทั้งหมด ของ ฉัน สําหรับ วัน พรุ่ง นี้ \t alarm/cancel_alarm \t reminder/cancel_reminder\n",
      "เตือน ฉัน ให้ เอา เสื้อผ้า ใส่ ใน เครื่อง อบ ใน ครึ่ง ชั่วโมง \t alarm/snooze_alarm \t reminder/set_reminder\n",
      "แสดง การ แจ้ง เตือน ทั้งหมด สําหรับ วัน นี้ \t weather/find \t reminder/show_reminders\n",
      "แสดง การ แจ้ง เตือน ทั้งหมด สําหรับ วัน พรุ่ง นี้ \t weather/find \t reminder/show_reminders\n",
      "ยกเลิก การ เตือน ครั้ง สุดท้าย ของ ฉัน \t alarm/cancel_alarm \t reminder/cancel_reminder\n",
      "ยกเลิก การ ช่วย เตือน ครั้ง ถัด ไป \t alarm/cancel_alarm \t reminder/cancel_reminder\n",
      "ยกเลิก การ แจ้ง เตือน เปลี่ยน ยาง รถ ใหม่ \t alarm/cancel_alarm \t reminder/cancel_reminder\n",
      "ลบ การ แจ้ง เตือน ออก \t alarm/cancel_alarm \t reminder/cancel_reminder\n",
      "แสดง การ แจ้ง เตือน ทั้งหมด สําหรับ สัปดาห์ \t weather/find \t reminder/show_reminders\n",
      "ตั้ง การ แจ้ง เตือน เพื่อ ให้ วิตามิน เด็ก ใน ตอน เช้า \t alarm/set_alarm \t reminder/set_reminder\n",
      "ยกเลิก การ แจ้ง เตือน ทั้งหมด สําหรับ สัปดาห์ นี้ \t alarm/cancel_alarm \t reminder/cancel_reminder\n",
      "ลบ การ แจ้ง เตือน การ จ่าย ค่า เช่า \t alarm/cancel_alarm \t reminder/cancel_reminder\n",
      "การ แจ้ง เตือน ของ ฉัน สําหรับ วัน นี้ คือ อะไร \t alarm/show_alarms \t reminder/show_reminders\n",
      "แสดง การ แจ้ง เตือน ฉัน \t weather/find \t reminder/show_reminders\n",
      "อะไร คือ การ แจ้ง เตือน คืน นี้ \t weather/find \t reminder/show_reminders\n",
      "เตือน ฉัน ให้ ไป เอา คอนแทคเลนส์ ใน วัน พรุ่ง นี้ \t weather/find \t reminder/set_reminder\n",
      "เตือน ฉัน ให้ เอา ถัง ขยะ ออก ไป ทิ้ง ใน เช้า วัน จันทร์ \t alarm/cancel_alarm \t reminder/set_reminder\n",
      "เตือน ให้ ฉัน สั่ง ของ amazon วัน นี้ \t weather/find \t reminder/set_reminder\n",
      "แสดง การ เตือน ใน วัน พรุ่ง นี้ \t weather/find \t reminder/show_reminders\n",
      "การ แจ้ง เตือน ให้ ไป sox gameตอน ไหน \t weather/find \t reminder/show_reminders\n",
      "ยกเลิก การ แจ้ง เตือน นัด เอียน ใน วัน พฤหัสบดี \t alarm/cancel_alarm \t reminder/cancel_reminder\n",
      "แสดง การ แจ้ง เตือน สําหรับ ร้าน ขาย ของชํา \t weather/find \t reminder/show_reminders\n",
      "เตือน ฉัน 2 วัน ก่อน เกม ถัด ไป ของ ฉัน เพื่อ ซื้อ ของ ว่าง \t alarm/set_alarm \t reminder/set_reminder\n",
      "ลบ การ แจ้ง เตือน ทั้งหมด \t alarm/cancel_alarm \t reminder/cancel_reminder\n",
      "ยกเลิก การ แจ้ง เตือน เพื่อ รับ สุนัข \t alarm/cancel_alarm \t reminder/cancel_reminder\n",
      "ยกเลิก การ แจ้ง เตือน ที่ ไป รับ เด็กๆ ตอน 4โมง เย็น \t alarm/cancel_alarm \t reminder/cancel_reminder\n",
      "โปรด ลบ การ แจ้ง เตือน นี้ \t alarm/cancel_alarm \t reminder/cancel_reminder\n",
      "การ แจ้ง เตือน ของ ฉัน คือ อะไร ? \t alarm/show_alarms \t reminder/show_reminders\n",
      "การ แจ้ง เตือน หมอ นัด บ่าย วัน อังคาร \t alarm/set_alarm \t reminder/set_reminder\n"
     ]
    }
   ],
   "source": [
    "for text, predicted, real in experiment_results[\"train_en_test_th\"][\"wrong_predictions\"]:\n",
    "    print(text, \"\\t\", predicted, \"\\t\", real)"
   ]
  },
  {
   "cell_type": "code",
   "execution_count": 19,
   "metadata": {},
   "outputs": [],
   "source": [
    "##### SANITY CHECK #####\n",
    "def unique_sents(test_df, train_df):\n",
    "    print(\"unique utterances in test data out of :\", len(test_df))\n",
    "    unique_sents = []\n",
    "    train_set = set(train_df[\"text\"])\n",
    "    for sent in test_df[\"text\"]:\n",
    "        if sent not in train_set:\n",
    "            unique_sents.append(sent)\n",
    "    print(len(unique_sents)/len(test_df)*100,\"% of the sentences are unique\")"
   ]
  },
  {
   "cell_type": "code",
   "execution_count": 20,
   "metadata": {},
   "outputs": [
    {
     "name": "stdout",
     "output_type": "stream",
     "text": [
      "unique utterances in test data out of : 7420\n",
      "76.42857142857142 % of the sentences are unique\n"
     ]
    }
   ],
   "source": [
    "unique_sents(en_test,en_full_train)"
   ]
  },
  {
   "cell_type": "code",
   "execution_count": 21,
   "metadata": {},
   "outputs": [
    {
     "name": "stdout",
     "output_type": "stream",
     "text": [
      "unique utterances in test data out of : 2854\n",
      "95.40995094604064 % of the sentences are unique\n",
      "unique utterances in test data out of : 2854\n",
      "92.67694463910301 % of the sentences are unique\n"
     ]
    }
   ],
   "source": [
    "unique_sents(es_test, es_eval)\n",
    "unique_sents(es_test,es_full_train)"
   ]
  },
  {
   "cell_type": "code",
   "execution_count": 22,
   "metadata": {},
   "outputs": [
    {
     "name": "stdout",
     "output_type": "stream",
     "text": [
      "unique utterances in test data out of : 1557\n",
      "93.7058445728966 % of the sentences are unique\n",
      "unique utterances in test data out of : 1557\n",
      "90.81567116249197 % of the sentences are unique\n"
     ]
    }
   ],
   "source": [
    "unique_sents(th_test, th_eval)\n",
    "unique_sents(th_test,th_full_train)"
   ]
  },
  {
   "cell_type": "code",
   "execution_count": 23,
   "metadata": {},
   "outputs": [],
   "source": [
    "predict_sent = lambda sent: mapping[model.predict([sent])[0][0]]"
   ]
  },
  {
   "cell_type": "code",
   "execution_count": null,
   "metadata": {},
   "outputs": [],
   "source": []
  },
  {
   "cell_type": "code",
   "execution_count": 24,
   "metadata": {},
   "outputs": [
    {
     "data": {
      "application/vnd.jupyter.widget-view+json": {
       "model_id": "5922000503c6433d9a196ddf5f7d19e8",
       "version_major": 2,
       "version_minor": 0
      },
      "text/plain": [
       "HBox(children=(FloatProgress(value=0.0, max=1.0), HTML(value='')))"
      ]
     },
     "metadata": {},
     "output_type": "display_data"
    },
    {
     "name": "stdout",
     "output_type": "stream",
     "text": [
      "\n"
     ]
    },
    {
     "data": {
      "application/vnd.jupyter.widget-view+json": {
       "model_id": "7f89a282088d4c13954e4099d133f51b",
       "version_major": 2,
       "version_minor": 0
      },
      "text/plain": [
       "HBox(children=(FloatProgress(value=0.0, max=1.0), HTML(value='')))"
      ]
     },
     "metadata": {},
     "output_type": "display_data"
    },
    {
     "name": "stdout",
     "output_type": "stream",
     "text": [
      "\n"
     ]
    },
    {
     "data": {
      "text/plain": [
       "'weather/find'"
      ]
     },
     "execution_count": 24,
     "metadata": {},
     "output_type": "execute_result"
    }
   ],
   "source": [
    "predict_sent(\"what's the weather in Potsdam\")"
   ]
  },
  {
   "cell_type": "code",
   "execution_count": 25,
   "metadata": {},
   "outputs": [
    {
     "data": {
      "application/vnd.jupyter.widget-view+json": {
       "model_id": "1767d6fdbfd042b58668e555f647175f",
       "version_major": 2,
       "version_minor": 0
      },
      "text/plain": [
       "HBox(children=(FloatProgress(value=0.0, max=1.0), HTML(value='')))"
      ]
     },
     "metadata": {},
     "output_type": "display_data"
    },
    {
     "name": "stdout",
     "output_type": "stream",
     "text": [
      "\n"
     ]
    },
    {
     "data": {
      "application/vnd.jupyter.widget-view+json": {
       "model_id": "92c070ba79654296888a5604240fc1b5",
       "version_major": 2,
       "version_minor": 0
      },
      "text/plain": [
       "HBox(children=(FloatProgress(value=0.0, max=1.0), HTML(value='')))"
      ]
     },
     "metadata": {},
     "output_type": "display_data"
    },
    {
     "name": "stdout",
     "output_type": "stream",
     "text": [
      "\n"
     ]
    },
    {
     "data": {
      "text/plain": [
       "'alarm/cancel_alarm'"
      ]
     },
     "execution_count": 25,
     "metadata": {},
     "output_type": "execute_result"
    }
   ],
   "source": [
    "predict_sent(\"don't wake me up tomorrow\")"
   ]
  },
  {
   "cell_type": "code",
   "execution_count": 26,
   "metadata": {},
   "outputs": [
    {
     "data": {
      "application/vnd.jupyter.widget-view+json": {
       "model_id": "68e80eca9ee44b62ba54cdfdecc6e5d2",
       "version_major": 2,
       "version_minor": 0
      },
      "text/plain": [
       "HBox(children=(FloatProgress(value=0.0, max=1.0), HTML(value='')))"
      ]
     },
     "metadata": {},
     "output_type": "display_data"
    },
    {
     "name": "stdout",
     "output_type": "stream",
     "text": [
      "\n"
     ]
    },
    {
     "data": {
      "application/vnd.jupyter.widget-view+json": {
       "model_id": "b18ef12ca85b47a49536a6b633821623",
       "version_major": 2,
       "version_minor": 0
      },
      "text/plain": [
       "HBox(children=(FloatProgress(value=0.0, max=1.0), HTML(value='')))"
      ]
     },
     "metadata": {},
     "output_type": "display_data"
    },
    {
     "name": "stdout",
     "output_type": "stream",
     "text": [
      "\n"
     ]
    },
    {
     "data": {
      "text/plain": [
       "'alarm/set_alarm'"
      ]
     },
     "execution_count": 26,
     "metadata": {},
     "output_type": "execute_result"
    }
   ],
   "source": [
    "\n",
    "predict_sent(\"ตั้ง เวลา พรุ่ง บ่าย พรุ่งนี้\")"
   ]
  },
  {
   "cell_type": "code",
   "execution_count": 27,
   "metadata": {},
   "outputs": [
    {
     "data": {
      "application/vnd.jupyter.widget-view+json": {
       "model_id": "3727688edd4b4402a1bc466045659b57",
       "version_major": 2,
       "version_minor": 0
      },
      "text/plain": [
       "HBox(children=(FloatProgress(value=0.0, max=1.0), HTML(value='')))"
      ]
     },
     "metadata": {},
     "output_type": "display_data"
    },
    {
     "name": "stdout",
     "output_type": "stream",
     "text": [
      "\n"
     ]
    },
    {
     "data": {
      "application/vnd.jupyter.widget-view+json": {
       "model_id": "61e3fc00838041bda303b4e398c143b2",
       "version_major": 2,
       "version_minor": 0
      },
      "text/plain": [
       "HBox(children=(FloatProgress(value=0.0, max=1.0), HTML(value='')))"
      ]
     },
     "metadata": {},
     "output_type": "display_data"
    },
    {
     "name": "stdout",
     "output_type": "stream",
     "text": [
      "\n"
     ]
    },
    {
     "data": {
      "text/plain": [
       "'weather/find'"
      ]
     },
     "execution_count": 27,
     "metadata": {},
     "output_type": "execute_result"
    }
   ],
   "source": [
    "predict_sent(\"que temperatura hay aqui\")"
   ]
  },
  {
   "cell_type": "code",
   "execution_count": 28,
   "metadata": {},
   "outputs": [
    {
     "data": {
      "application/vnd.jupyter.widget-view+json": {
       "model_id": "650486e06a234f6dace6b551d83cda92",
       "version_major": 2,
       "version_minor": 0
      },
      "text/plain": [
       "HBox(children=(FloatProgress(value=0.0, max=1.0), HTML(value='')))"
      ]
     },
     "metadata": {},
     "output_type": "display_data"
    },
    {
     "name": "stdout",
     "output_type": "stream",
     "text": [
      "\n"
     ]
    },
    {
     "data": {
      "application/vnd.jupyter.widget-view+json": {
       "model_id": "4b01ce2017d247a5b9a427271455a82c",
       "version_major": 2,
       "version_minor": 0
      },
      "text/plain": [
       "HBox(children=(FloatProgress(value=0.0, max=1.0), HTML(value='')))"
      ]
     },
     "metadata": {},
     "output_type": "display_data"
    },
    {
     "name": "stdout",
     "output_type": "stream",
     "text": [
      "\n"
     ]
    },
    {
     "data": {
      "text/plain": [
       "'alarm/set_alarm'"
      ]
     },
     "execution_count": 28,
     "metadata": {},
     "output_type": "execute_result"
    }
   ],
   "source": [
    "predict_sent(\"no necesito que levantarme el sabado\" )"
   ]
  },
  {
   "cell_type": "code",
   "execution_count": 29,
   "metadata": {},
   "outputs": [
    {
     "data": {
      "application/vnd.jupyter.widget-view+json": {
       "model_id": "5c16872cf85e43ccbd0f7ae61e68e9a0",
       "version_major": 2,
       "version_minor": 0
      },
      "text/plain": [
       "HBox(children=(FloatProgress(value=0.0, max=1.0), HTML(value='')))"
      ]
     },
     "metadata": {},
     "output_type": "display_data"
    },
    {
     "name": "stdout",
     "output_type": "stream",
     "text": [
      "\n"
     ]
    },
    {
     "data": {
      "application/vnd.jupyter.widget-view+json": {
       "model_id": "47d9044ac9c54d639c95a494325e2e48",
       "version_major": 2,
       "version_minor": 0
      },
      "text/plain": [
       "HBox(children=(FloatProgress(value=0.0, max=1.0), HTML(value='')))"
      ]
     },
     "metadata": {},
     "output_type": "display_data"
    },
    {
     "name": "stdout",
     "output_type": "stream",
     "text": [
      "\n"
     ]
    },
    {
     "data": {
      "text/plain": [
       "'alarm/set_alarm'"
      ]
     },
     "execution_count": 29,
     "metadata": {},
     "output_type": "execute_result"
    }
   ],
   "source": [
    "predict_sent(\"sabado no necesito que levantarme\" )"
   ]
  },
  {
   "cell_type": "code",
   "execution_count": 30,
   "metadata": {},
   "outputs": [
    {
     "data": {
      "application/vnd.jupyter.widget-view+json": {
       "model_id": "c7c0cc9d2b0748e99abf4a7dab8792b7",
       "version_major": 2,
       "version_minor": 0
      },
      "text/plain": [
       "HBox(children=(FloatProgress(value=0.0, max=1.0), HTML(value='')))"
      ]
     },
     "metadata": {},
     "output_type": "display_data"
    },
    {
     "name": "stdout",
     "output_type": "stream",
     "text": [
      "\n"
     ]
    },
    {
     "data": {
      "application/vnd.jupyter.widget-view+json": {
       "model_id": "e7b348c8a80043d7a80968f4bda437ca",
       "version_major": 2,
       "version_minor": 0
      },
      "text/plain": [
       "HBox(children=(FloatProgress(value=0.0, max=1.0), HTML(value='')))"
      ]
     },
     "metadata": {},
     "output_type": "display_data"
    },
    {
     "name": "stdout",
     "output_type": "stream",
     "text": [
      "\n"
     ]
    },
    {
     "data": {
      "text/plain": [
       "'alarm/cancel_alarm'"
      ]
     },
     "execution_count": 30,
     "metadata": {},
     "output_type": "execute_result"
    }
   ],
   "source": [
    "predict_sent(\"ไม่ ต้อง ปลุก ฉัน วัน เสาร์ นะ\" )"
   ]
  },
  {
   "cell_type": "code",
   "execution_count": 31,
   "metadata": {
    "scrolled": true
   },
   "outputs": [
    {
     "data": {
      "application/vnd.jupyter.widget-view+json": {
       "model_id": "0203f0efeb444f939379356049ea05ac",
       "version_major": 2,
       "version_minor": 0
      },
      "text/plain": [
       "HBox(children=(FloatProgress(value=0.0, max=1.0), HTML(value='')))"
      ]
     },
     "metadata": {},
     "output_type": "display_data"
    },
    {
     "name": "stdout",
     "output_type": "stream",
     "text": [
      "\n"
     ]
    },
    {
     "data": {
      "application/vnd.jupyter.widget-view+json": {
       "model_id": "665c07561fc54f999c02cd4c264ca910",
       "version_major": 2,
       "version_minor": 0
      },
      "text/plain": [
       "HBox(children=(FloatProgress(value=0.0, max=1.0), HTML(value='')))"
      ]
     },
     "metadata": {},
     "output_type": "display_data"
    },
    {
     "name": "stdout",
     "output_type": "stream",
     "text": [
      "\n"
     ]
    },
    {
     "data": {
      "text/plain": [
       "'alarm/cancel_alarm'"
      ]
     },
     "execution_count": 31,
     "metadata": {},
     "output_type": "execute_result"
    }
   ],
   "source": [
    "predict_sent(\"วัน เสาร์ ไม่ ต้อง ปลุก ฉัน นะ\")"
   ]
  },
  {
   "cell_type": "code",
   "execution_count": 32,
   "metadata": {},
   "outputs": [
    {
     "data": {
      "application/vnd.jupyter.widget-view+json": {
       "model_id": "334aea7fb939490da945175aceeb295d",
       "version_major": 2,
       "version_minor": 0
      },
      "text/plain": [
       "HBox(children=(FloatProgress(value=0.0, max=1.0), HTML(value='')))"
      ]
     },
     "metadata": {},
     "output_type": "display_data"
    },
    {
     "name": "stdout",
     "output_type": "stream",
     "text": [
      "\n"
     ]
    },
    {
     "data": {
      "application/vnd.jupyter.widget-view+json": {
       "model_id": "2176a616191f4224a04f51ecbf8f0278",
       "version_major": 2,
       "version_minor": 0
      },
      "text/plain": [
       "HBox(children=(FloatProgress(value=0.0, max=1.0), HTML(value='')))"
      ]
     },
     "metadata": {},
     "output_type": "display_data"
    },
    {
     "name": "stdout",
     "output_type": "stream",
     "text": [
      "\n"
     ]
    },
    {
     "data": {
      "text/plain": [
       "'alarm/set_alarm'"
      ]
     },
     "execution_count": 32,
     "metadata": {},
     "output_type": "execute_result"
    }
   ],
   "source": [
    "predict_sent(\"you don't have to wake me up on saturday\")"
   ]
  },
  {
   "cell_type": "code",
   "execution_count": 33,
   "metadata": {},
   "outputs": [
    {
     "data": {
      "application/vnd.jupyter.widget-view+json": {
       "model_id": "c0a2a1a761174bbdada490e1e487d136",
       "version_major": 2,
       "version_minor": 0
      },
      "text/plain": [
       "HBox(children=(FloatProgress(value=0.0, max=1.0), HTML(value='')))"
      ]
     },
     "metadata": {},
     "output_type": "display_data"
    },
    {
     "name": "stdout",
     "output_type": "stream",
     "text": [
      "\n"
     ]
    },
    {
     "data": {
      "application/vnd.jupyter.widget-view+json": {
       "model_id": "1d397101095f4a4889d3ae40ecf85185",
       "version_major": 2,
       "version_minor": 0
      },
      "text/plain": [
       "HBox(children=(FloatProgress(value=0.0, max=1.0), HTML(value='')))"
      ]
     },
     "metadata": {},
     "output_type": "display_data"
    },
    {
     "name": "stdout",
     "output_type": "stream",
     "text": [
      "\n"
     ]
    },
    {
     "data": {
      "text/plain": [
       "'alarm/set_alarm'"
      ]
     },
     "execution_count": 33,
     "metadata": {},
     "output_type": "execute_result"
    }
   ],
   "source": [
    "predict_sent(\"saturday you don't have to wake me up\")"
   ]
  },
  {
   "cell_type": "code",
   "execution_count": 34,
   "metadata": {},
   "outputs": [
    {
     "name": "stderr",
     "output_type": "stream",
     "text": [
      "/home/santi/anaconda3/lib/python3.7/site-packages/pandas/core/strings.py:2001: UserWarning: This pattern has match groups. To actually get the groups, use str.extract.\n",
      "  return func(self, *args, **kwargs)\n"
     ]
    },
    {
     "data": {
      "text/html": [
       "<div>\n",
       "<style scoped>\n",
       "    .dataframe tbody tr th:only-of-type {\n",
       "        vertical-align: middle;\n",
       "    }\n",
       "\n",
       "    .dataframe tbody tr th {\n",
       "        vertical-align: top;\n",
       "    }\n",
       "\n",
       "    .dataframe thead th {\n",
       "        text-align: right;\n",
       "    }\n",
       "</style>\n",
       "<table border=\"1\" class=\"dataframe\">\n",
       "  <thead>\n",
       "    <tr style=\"text-align: right;\">\n",
       "      <th></th>\n",
       "      <th>text</th>\n",
       "      <th>labels</th>\n",
       "    </tr>\n",
       "  </thead>\n",
       "  <tbody>\n",
       "    <tr>\n",
       "      <th>21074</th>\n",
       "      <td>on saturday the 28th remind me about brewsters</td>\n",
       "      <td>10</td>\n",
       "    </tr>\n",
       "  </tbody>\n",
       "</table>\n",
       "</div>"
      ],
      "text/plain": [
       "                                                 text  labels\n",
       "21074  on saturday the 28th remind me about brewsters      10"
      ]
     },
     "execution_count": 34,
     "metadata": {},
     "output_type": "execute_result"
    }
   ],
   "source": [
    "en_full_train[en_full_train[\"text\"].str.contains(\"^on (saturday|sunday|monday|tuesday)\",case=False, regex=True)]"
   ]
  },
  {
   "cell_type": "code",
   "execution_count": 35,
   "metadata": {},
   "outputs": [
    {
     "data": {
      "text/plain": [
       "'reminder/set_reminder'"
      ]
     },
     "execution_count": 35,
     "metadata": {},
     "output_type": "execute_result"
    }
   ],
   "source": [
    "mapping[10]"
   ]
  },
  {
   "cell_type": "code",
   "execution_count": 36,
   "metadata": {
    "scrolled": true
   },
   "outputs": [
    {
     "data": {
      "application/vnd.jupyter.widget-view+json": {
       "model_id": "5c2f4f172d0e4de994cf478a2bb65e63",
       "version_major": 2,
       "version_minor": 0
      },
      "text/plain": [
       "HBox(children=(FloatProgress(value=0.0, max=1.0), HTML(value='')))"
      ]
     },
     "metadata": {},
     "output_type": "display_data"
    },
    {
     "name": "stdout",
     "output_type": "stream",
     "text": [
      "\n"
     ]
    },
    {
     "data": {
      "application/vnd.jupyter.widget-view+json": {
       "model_id": "74ab63f4f3244eac9bbf1d85a4a74d46",
       "version_major": 2,
       "version_minor": 0
      },
      "text/plain": [
       "HBox(children=(FloatProgress(value=0.0, max=1.0), HTML(value='')))"
      ]
     },
     "metadata": {},
     "output_type": "display_data"
    },
    {
     "name": "stdout",
     "output_type": "stream",
     "text": [
      "\n"
     ]
    },
    {
     "data": {
      "text/plain": [
       "'alarm/set_alarm'"
      ]
     },
     "execution_count": 36,
     "metadata": {},
     "output_type": "execute_result"
    }
   ],
   "source": [
    "predict_sent(\"I don't have to wake up early on saturday\")"
   ]
  },
  {
   "cell_type": "code",
   "execution_count": 37,
   "metadata": {},
   "outputs": [
    {
     "data": {
      "application/vnd.jupyter.widget-view+json": {
       "model_id": "b25904bbd01e488495849e15d274a952",
       "version_major": 2,
       "version_minor": 0
      },
      "text/plain": [
       "HBox(children=(FloatProgress(value=0.0, max=1.0), HTML(value='')))"
      ]
     },
     "metadata": {},
     "output_type": "display_data"
    },
    {
     "name": "stdout",
     "output_type": "stream",
     "text": [
      "\n"
     ]
    },
    {
     "data": {
      "application/vnd.jupyter.widget-view+json": {
       "model_id": "0ed6b9e1059f430785ae07c17c6ff4a9",
       "version_major": 2,
       "version_minor": 0
      },
      "text/plain": [
       "HBox(children=(FloatProgress(value=0.0, max=1.0), HTML(value='')))"
      ]
     },
     "metadata": {},
     "output_type": "display_data"
    },
    {
     "name": "stdout",
     "output_type": "stream",
     "text": [
      "\n"
     ]
    },
    {
     "data": {
      "text/plain": [
       "'alarm/set_alarm'"
      ]
     },
     "execution_count": 37,
     "metadata": {},
     "output_type": "execute_result"
    }
   ],
   "source": [
    "# this is a weird sentence \n",
    "predict_sent(\"saturday you don't have to wake me up\")"
   ]
  },
  {
   "cell_type": "code",
   "execution_count": 38,
   "metadata": {},
   "outputs": [
    {
     "data": {
      "application/vnd.jupyter.widget-view+json": {
       "model_id": "2434860c9d7f413a8304c67622b41467",
       "version_major": 2,
       "version_minor": 0
      },
      "text/plain": [
       "HBox(children=(FloatProgress(value=0.0, max=1.0), HTML(value='')))"
      ]
     },
     "metadata": {},
     "output_type": "display_data"
    },
    {
     "name": "stdout",
     "output_type": "stream",
     "text": [
      "\n"
     ]
    },
    {
     "data": {
      "application/vnd.jupyter.widget-view+json": {
       "model_id": "64088293d7884616ba511c2088210bdf",
       "version_major": 2,
       "version_minor": 0
      },
      "text/plain": [
       "HBox(children=(FloatProgress(value=0.0, max=1.0), HTML(value='')))"
      ]
     },
     "metadata": {},
     "output_type": "display_data"
    },
    {
     "name": "stdout",
     "output_type": "stream",
     "text": [
      "\n"
     ]
    },
    {
     "data": {
      "text/plain": [
       "'alarm/set_alarm'"
      ]
     },
     "execution_count": 38,
     "metadata": {},
     "output_type": "execute_result"
    }
   ],
   "source": [
    "predict_sent(\"am Samstag musst du mich nicht aufwecken\")"
   ]
  },
  {
   "cell_type": "code",
   "execution_count": 39,
   "metadata": {},
   "outputs": [
    {
     "data": {
      "application/vnd.jupyter.widget-view+json": {
       "model_id": "f65d134591794feda9cb18b50597ed04",
       "version_major": 2,
       "version_minor": 0
      },
      "text/plain": [
       "HBox(children=(FloatProgress(value=0.0, max=1.0), HTML(value='')))"
      ]
     },
     "metadata": {},
     "output_type": "display_data"
    },
    {
     "name": "stdout",
     "output_type": "stream",
     "text": [
      "\n"
     ]
    },
    {
     "data": {
      "application/vnd.jupyter.widget-view+json": {
       "model_id": "a469dc999c9d4eab85f1cc4f7a62217f",
       "version_major": 2,
       "version_minor": 0
      },
      "text/plain": [
       "HBox(children=(FloatProgress(value=0.0, max=1.0), HTML(value='')))"
      ]
     },
     "metadata": {},
     "output_type": "display_data"
    },
    {
     "name": "stdout",
     "output_type": "stream",
     "text": [
      "\n"
     ]
    },
    {
     "data": {
      "text/plain": [
       "'alarm/cancel_alarm'"
      ]
     },
     "execution_count": 39,
     "metadata": {},
     "output_type": "execute_result"
    }
   ],
   "source": [
    "predict_sent(\"ich nicht muss aufstehen am Samstag\")"
   ]
  },
  {
   "cell_type": "code",
   "execution_count": 40,
   "metadata": {},
   "outputs": [
    {
     "data": {
      "text/plain": [
       "'el sabado no necesito el despertador'"
      ]
     },
     "execution_count": 40,
     "metadata": {},
     "output_type": "execute_result"
    }
   ],
   "source": [
    "\"el sabado no necesito el despertador\" \n",
    "# doesn't work\n",
    "# implicit "
   ]
  },
  {
   "cell_type": "code",
   "execution_count": null,
   "metadata": {},
   "outputs": [],
   "source": []
  },
  {
   "cell_type": "code",
   "execution_count": 41,
   "metadata": {},
   "outputs": [
    {
     "data": {
      "text/plain": [
       "'que temperatura hay aqui'"
      ]
     },
     "execution_count": 41,
     "metadata": {},
     "output_type": "execute_result"
    }
   ],
   "source": [
    "\"cuanto falta hasta el alarma\"\n",
    "\"cuanto tiempo queda hasta que me levanto\"\n",
    "\"que temperatura hay aqui\""
   ]
  }
 ],
 "metadata": {
  "kernelspec": {
   "display_name": "Python 3",
   "language": "python",
   "name": "python3"
  },
  "language_info": {
   "codemirror_mode": {
    "name": "ipython",
    "version": 3
   },
   "file_extension": ".py",
   "mimetype": "text/x-python",
   "name": "python",
   "nbconvert_exporter": "python",
   "pygments_lexer": "ipython3",
   "version": "3.7.4"
  }
 },
 "nbformat": 4,
 "nbformat_minor": 2
}
