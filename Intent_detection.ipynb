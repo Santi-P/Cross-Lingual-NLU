{
 "cells": [
  {
   "cell_type": "markdown",
   "metadata": {},
   "source": [
    "# Experiments on Cross Lingual Transfer for Intent Detection\n"
   ]
  },
  {
   "cell_type": "markdown",
   "metadata": {},
   "source": [
    "The first step is to prepare the data from Schuster et al. For now we are only examining English and Spanish datasets, since preprocessing Thai requires extra steps and is slightly more complex(tokenization). Firstly, we parse the tsv data into dataframes"
   ]
  },
  {
   "cell_type": "code",
   "execution_count": 1,
   "metadata": {},
   "outputs": [
    {
     "data": {
      "text/plain": [
       "<torch._C.Generator at 0x7f6928836130>"
      ]
     },
     "execution_count": 1,
     "metadata": {},
     "output_type": "execute_result"
    }
   ],
   "source": [
    "from util import *\n",
    "import pickle\n",
    "import sklearn\n",
    "import torch\n",
    "import numpy as np\n",
    "from simpletransformers.classification import ClassificationModel\n",
    "\n",
    "torch.manual_seed(136)\n",
    "#from model import *"
   ]
  },
  {
   "cell_type": "code",
   "execution_count": 2,
   "metadata": {},
   "outputs": [
    {
     "name": "stdout",
     "output_type": "stream",
     "text": [
      "opening data/en/train-en.tsv\n",
      "opening data/en/eval-en.tsv\n",
      "opening data/en/test-en.tsv\n",
      "opening data/es/train-es.tsv\n",
      "opening data/es/eval-es.tsv\n",
      "opening data/es/test-es.tsv\n",
      "opening data/th/train-th_TH.tsv\n",
      "opening data/th/eval-th_TH.tsv\n",
      "opening data/th/test-th_TH.tsv\n"
     ]
    }
   ],
   "source": [
    "mapping = {}\n",
    "with open('deprecated/label_map.json','r') as f:\n",
    "    mapping = json.load(f)\n",
    "    mapping = {int(k):v for k,v in mapping.items()}\n",
    "    \n",
    "    \n",
    "# preprocess training and test files to pandas df\n",
    "\n",
    "# eng train\n",
    "en_df, en_mapping = df_format((\"data/en/train-en.tsv\"),mapping)\n",
    "\n",
    "# eng eval\n",
    "en_df_eval, en_mapping = df_format(\"data/en/eval-en.tsv\",mapping)\n",
    "\n",
    "# eng test\n",
    "en_df_test, en_mapping = df_format(\"data/en/test-en.tsv\",mapping)\n",
    "\n",
    "# es train\n",
    "es_df, es_mapping = df_format(\"data/es/train-es.tsv\",mapping)\n",
    "\n",
    "# es eval\n",
    "es_df_eval, es_mapping = df_format(\"data/es/eval-es.tsv\",mapping)\n",
    "\n",
    "# es test\n",
    "es_df_test, es_mapping = df_format(\"data/es/test-es.tsv\",mapping)\n",
    "\n",
    "\n",
    "# th train\n",
    "th_df, th_mapping = df_format(\"data/th/train-th_TH.tsv\",mapping)\n",
    "\n",
    "# th eval\n",
    "th_df_eval, th_mapping = df_format(\"data/th/eval-th_TH.tsv\",mapping)\n",
    "\n",
    "# th test\n",
    "th_df_test, th_mapping = df_format(\"data/th/test-th_TH.tsv\",mapping)\n",
    "\n",
    "mapping_list = list(mapping.values())"
   ]
  },
  {
   "cell_type": "code",
   "execution_count": 3,
   "metadata": {},
   "outputs": [],
   "source": [
    "en_train = en_df.drop_duplicates(\"text\")\n",
    "en_eval = en_df_eval.drop_duplicates(\"text\")\n",
    "en_test = en_df_test.drop_duplicates(\"text\")\n",
    "\n",
    "es_train = es_df.drop_duplicates(\"text\")\n",
    "es_eval = es_df_eval.drop_duplicates(\"text\")\n",
    "es_test = es_df_test.drop_duplicates(\"text\")\n",
    "\n",
    "th_train = th_df.drop_duplicates(\"text\")\n",
    "th_eval = th_df_eval.drop_duplicates(\"text\")\n",
    "th_test = th_df_test.drop_duplicates(\"text\")"
   ]
  },
  {
   "cell_type": "code",
   "execution_count": null,
   "metadata": {},
   "outputs": [],
   "source": []
  },
  {
   "cell_type": "code",
   "execution_count": 6,
   "metadata": {},
   "outputs": [],
   "source": [
    "# en_full_train = pd.concat([en_train,en_eval])\n",
    "# es_full_train = pd.concat([es_train,es_eval])\n",
    "# th_full_train = pd.concat([th_train, th_eval])\n",
    "\n",
    "# quick hack to by-pass combining en eval \n",
    "\n",
    "en_full_train = en_train\n",
    "es_full_train = es_train\n",
    "th_full_train = th_train"
   ]
  },
  {
   "cell_type": "code",
   "execution_count": 7,
   "metadata": {},
   "outputs": [],
   "source": [
    "path2model = \"prelim_models/\"\n",
    "path2model_en = \"prelim_models/en/\"\n",
    "path2model_es = \"prelim_models/es/\"\n",
    "path2model_th = \"prelim_models/th/\"\n",
    "#path2model_x = \"/home/santi/BA/final_models/x/\""
   ]
  },
  {
   "cell_type": "code",
   "execution_count": 8,
   "metadata": {},
   "outputs": [],
   "source": [
    "en_th_full_train = pd.concat([en_full_train,th_full_train])\n",
    "en_es_full_train = pd.concat([en_full_train,th_full_train])"
   ]
  },
  {
   "cell_type": "code",
   "execution_count": 9,
   "metadata": {},
   "outputs": [],
   "source": [
    "def avg_sent_l(df):\n",
    "    return sum([len(l.split()) for l in df[\"text\"]])/len(df)\n",
    "\n",
    "def lexical_diversity(df):\n",
    "    lexes = set()\n",
    "    for l in df[\"text\"]:\n",
    "        for w in l.split():\n",
    "            lexes.add(w)\n",
    "    return len(lexes), lexes\n",
    "\n",
    "\n",
    "def analyze_wrong(wrong_predictions,model):\n",
    "    wrongs = [(inp.text_a,inp.label) for inp in wrong_predictions]\n",
    "    wrong_preds, vecs = model.predict([t for t,l in wrongs])\n",
    "\n",
    "    dom_corr = 0\n",
    "    weak_dom = 0\n",
    "    rem_alarms = [\"reminder\",\"alarm\"]\n",
    "    results = []\n",
    "\n",
    "    for (text, lab_true), lab_pred in zip(wrongs,wrong_preds):\n",
    "\n",
    "        lab_pred = mapping[lab_pred]\n",
    "        lab_true = mapping[lab_true]\n",
    "        dom_pred = lab_pred.split(\"/\")[0]\n",
    "        dom_true = lab_true.split(\"/\")[0]\n",
    "\n",
    "        if dom_pred == dom_true:\n",
    "            dom_corr += 1\n",
    "\n",
    "        if (dom_pred in rem_alarms) and (dom_true in rem_alarms):\n",
    "            weak_dom += 1    \n",
    "\n",
    "        results.append((text,lab_pred, lab_true))\n",
    "\n",
    "        #print(text,\"\\t\" ,lab_pred,\"\\t\", lab_true,\"\\t\", dom_pred,\"\\t\", dom_true)\n",
    "\n",
    "    return results, dom_corr/len(wrongs)"
   ]
  },
  {
   "cell_type": "code",
   "execution_count": 10,
   "metadata": {},
   "outputs": [],
   "source": [
    "macro = lambda x,y:  sklearn.metrics.f1_score(x,y, average= 'macro')\n",
    "micro = lambda x,y:  sklearn.metrics.f1_score(x,y, average= 'micro')\n",
    "report = lambda x,y:  sklearn.metrics.classification_report(x,y,digits = 5,labels = list(range(0,12)), target_names = mapping_list)\n",
    "report_dict = lambda x,y:  sklearn.metrics.classification_report(x,y,digits = 5,output_dict = True,labels = list(range(0,12)),target_names = mapping_list)\n",
    "accuracy = lambda x,y:  sklearn.metrics.accuracy_score(x,y)\n"
   ]
  },
  {
   "cell_type": "code",
   "execution_count": 11,
   "metadata": {},
   "outputs": [],
   "source": [
    "def custom_eval(df, model, ex_name = \"experiment 1\", verbose = True):\n",
    "    results, predictions_vs, wrongs = model.eval_model(df, macro=macro, micro=micro,accuracy=accuracy, report=report, report_dict = report_dict)\n",
    "    results[\"name\"] = ex_name\n",
    "    \n",
    "    false_preds,dom_acc = analyze_wrong(wrongs,model)\n",
    "    results[\"wrong_predictions\"] = false_preds\n",
    "    results[\"domain_of_wrongs\"] = dom_acc\n",
    "    results[\"domain_accuracy\"] = results[\"accuracy\"] + (1-results[\"accuracy\"])*dom_acc\n",
    "    \n",
    "    if verbose:\n",
    "        print(\"results for experiment: \",ex_name)\n",
    "\n",
    "        print(results[\"report\"])\n",
    "        print(\"domain accuracy: \",results[\"domain_accuracy\"])\n",
    "        \n",
    "    return results"
   ]
  },
  {
   "cell_type": "code",
   "execution_count": 12,
   "metadata": {},
   "outputs": [
    {
     "name": "stdout",
     "output_type": "stream",
     "text": [
      "average sentence length\n",
      "en 7.69126027754818\n",
      "es 7.678731678133413\n",
      "th 8.280373831775702\n",
      "unique tokens\n",
      "en 3983\n",
      "es 1849\n",
      "th 1138\n"
     ]
    }
   ],
   "source": [
    "# gather some statistics about the data sets\n",
    "\n",
    "print(\"average sentence length\")\n",
    "print(\"en\",avg_sent_l(en_train))\n",
    "print(\"es\",avg_sent_l(es_train))\n",
    "print(\"th\",avg_sent_l(th_train))\n",
    "\n",
    "\n",
    "print(\"unique tokens\")\n",
    "print(\"en\",lexical_diversity(en_train)[0])\n",
    "print(\"es\",lexical_diversity(es_train)[0])\n",
    "print(\"th\",lexical_diversity(th_train)[0])"
   ]
  },
  {
   "cell_type": "code",
   "execution_count": null,
   "metadata": {},
   "outputs": [],
   "source": []
  },
  {
   "cell_type": "markdown",
   "metadata": {},
   "source": [
    "\n",
    "  \n",
    "    "
   ]
  },
  {
   "cell_type": "markdown",
   "metadata": {},
   "source": [
    "We load up a pretrained XLM-R model with a Max Ent layer for classification. Arguments are left pretty vanilla except fp16 which is not relevant for the results. "
   ]
  },
  {
   "cell_type": "code",
   "execution_count": 13,
   "metadata": {},
   "outputs": [],
   "source": [
    "#change the hyper-parameters here. \n",
    "args={\"fp16\": True,\n",
    "      'learning_rate':1e-5,\n",
    "      'num_train_epochs': 5,\n",
    "      'reprocess_input_data': True,\n",
    "      'overwrite_output_dir': True,\n",
    "      'save_steps':-1,\n",
    "      \"save_model_every_epoch\":False,\n",
    "     }"
   ]
  },
  {
   "cell_type": "code",
   "execution_count": 14,
   "metadata": {},
   "outputs": [],
   "source": [
    "experiment_results = {}"
   ]
  },
  {
   "cell_type": "code",
   "execution_count": 17,
   "metadata": {},
   "outputs": [
    {
     "name": "stderr",
     "output_type": "stream",
     "text": [
      "Some weights of the model checkpoint at xlm-roberta-base were not used when initializing XLMRobertaForSequenceClassification: ['lm_head.bias', 'lm_head.dense.weight', 'lm_head.dense.bias', 'lm_head.layer_norm.weight', 'lm_head.layer_norm.bias', 'lm_head.decoder.weight']\n",
      "- This IS expected if you are initializing XLMRobertaForSequenceClassification from the checkpoint of a model trained on another task or with another architecture (e.g. initializing a BertForSequenceClassification model from a BertForPreTraining model).\n",
      "- This IS NOT expected if you are initializing XLMRobertaForSequenceClassification from the checkpoint of a model that you expect to be exactly identical (initializing a BertForSequenceClassification model from a BertForSequenceClassification model).\n",
      "Some weights of XLMRobertaForSequenceClassification were not initialized from the model checkpoint at xlm-roberta-base and are newly initialized: ['classifier.dense.weight', 'classifier.dense.bias', 'classifier.out_proj.weight', 'classifier.out_proj.bias']\n",
      "You should probably TRAIN this model on a down-stream task to be able to use it for predictions and inference.\n",
      "/home/santi/anaconda3/lib/python3.7/site-packages/simpletransformers/classification/classification_model.py:290: UserWarning: use_multiprocessing automatically disabled as xlmroberta fails when using multiprocessing for feature conversion.\n",
      "  f\"use_multiprocessing automatically disabled as {model_type}\"\n"
     ]
    },
    {
     "data": {
      "application/vnd.jupyter.widget-view+json": {
       "model_id": "a86c7788feb74b79b537954685e32d4e",
       "version_major": 2,
       "version_minor": 0
      },
      "text/plain": [
       "HBox(children=(FloatProgress(value=0.0, max=22987.0), HTML(value='')))"
      ]
     },
     "metadata": {},
     "output_type": "display_data"
    },
    {
     "name": "stdout",
     "output_type": "stream",
     "text": [
      "\n"
     ]
    },
    {
     "data": {
      "application/vnd.jupyter.widget-view+json": {
       "model_id": "a19f40b280f146f7a7c1d9a40e7f271d",
       "version_major": 2,
       "version_minor": 0
      },
      "text/plain": [
       "HBox(children=(FloatProgress(value=0.0, description='Epoch', max=5.0, style=ProgressStyle(description_width='i…"
      ]
     },
     "metadata": {},
     "output_type": "display_data"
    },
    {
     "data": {
      "application/vnd.jupyter.widget-view+json": {
       "model_id": "87a184b83d434251ab3464093f8e9f94",
       "version_major": 2,
       "version_minor": 0
      },
      "text/plain": [
       "HBox(children=(FloatProgress(value=0.0, description='Running Epoch 0 of 5', max=2874.0, style=ProgressStyle(de…"
      ]
     },
     "metadata": {},
     "output_type": "display_data"
    },
    {
     "name": "stderr",
     "output_type": "stream",
     "text": [
      "/home/santi/anaconda3/lib/python3.7/site-packages/torch/optim/lr_scheduler.py:136: UserWarning: Detected call of `lr_scheduler.step()` before `optimizer.step()`. In PyTorch 1.1.0 and later, you should call them in the opposite order: `optimizer.step()` before `lr_scheduler.step()`.  Failure to do this will result in PyTorch skipping the first value of the learning rate schedule. See more details at https://pytorch.org/docs/stable/optim.html#how-to-adjust-learning-rate\n",
      "  \"https://pytorch.org/docs/stable/optim.html#how-to-adjust-learning-rate\", UserWarning)\n"
     ]
    },
    {
     "name": "stdout",
     "output_type": "stream",
     "text": [
      "\n"
     ]
    },
    {
     "name": "stderr",
     "output_type": "stream",
     "text": [
      "/home/santi/anaconda3/lib/python3.7/site-packages/torch/optim/lr_scheduler.py:216: UserWarning: Please also save or load the state of the optimizer when saving or loading the scheduler.\n",
      "  warnings.warn(SAVE_STATE_WARNING, UserWarning)\n"
     ]
    },
    {
     "data": {
      "application/vnd.jupyter.widget-view+json": {
       "model_id": "562daddbabf340e1ade84b9a8d37ff47",
       "version_major": 2,
       "version_minor": 0
      },
      "text/plain": [
       "HBox(children=(FloatProgress(value=0.0, description='Running Epoch 1 of 5', max=2874.0, style=ProgressStyle(de…"
      ]
     },
     "metadata": {},
     "output_type": "display_data"
    },
    {
     "name": "stdout",
     "output_type": "stream",
     "text": [
      "\n"
     ]
    },
    {
     "data": {
      "application/vnd.jupyter.widget-view+json": {
       "model_id": "6527b08288be4f98a33cde1c305156e0",
       "version_major": 2,
       "version_minor": 0
      },
      "text/plain": [
       "HBox(children=(FloatProgress(value=0.0, description='Running Epoch 2 of 5', max=2874.0, style=ProgressStyle(de…"
      ]
     },
     "metadata": {},
     "output_type": "display_data"
    },
    {
     "name": "stdout",
     "output_type": "stream",
     "text": [
      "\n"
     ]
    },
    {
     "data": {
      "application/vnd.jupyter.widget-view+json": {
       "model_id": "d9764c7435ab4659a3e026011b5a2cf8",
       "version_major": 2,
       "version_minor": 0
      },
      "text/plain": [
       "HBox(children=(FloatProgress(value=0.0, description='Running Epoch 3 of 5', max=2874.0, style=ProgressStyle(de…"
      ]
     },
     "metadata": {},
     "output_type": "display_data"
    },
    {
     "name": "stdout",
     "output_type": "stream",
     "text": [
      "\n"
     ]
    },
    {
     "data": {
      "application/vnd.jupyter.widget-view+json": {
       "model_id": "9562f0f11cab46c1bfd6e308c2fe2525",
       "version_major": 2,
       "version_minor": 0
      },
      "text/plain": [
       "HBox(children=(FloatProgress(value=0.0, description='Running Epoch 4 of 5', max=2874.0, style=ProgressStyle(de…"
      ]
     },
     "metadata": {},
     "output_type": "display_data"
    },
    {
     "name": "stdout",
     "output_type": "stream",
     "text": [
      "\n",
      "\n"
     ]
    },
    {
     "data": {
      "application/vnd.jupyter.widget-view+json": {
       "model_id": "da8d44fe41a74b8789844b4714f7f71e",
       "version_major": 2,
       "version_minor": 0
      },
      "text/plain": [
       "HBox(children=(FloatProgress(value=0.0, max=7420.0), HTML(value='')))"
      ]
     },
     "metadata": {},
     "output_type": "display_data"
    },
    {
     "name": "stdout",
     "output_type": "stream",
     "text": [
      "\n"
     ]
    },
    {
     "data": {
      "application/vnd.jupyter.widget-view+json": {
       "model_id": "177d01e586dc434ba3650fd5d0de5962",
       "version_major": 2,
       "version_minor": 0
      },
      "text/plain": [
       "HBox(children=(FloatProgress(value=0.0, description='Running Evaluation', max=928.0, style=ProgressStyle(descr…"
      ]
     },
     "metadata": {},
     "output_type": "display_data"
    },
    {
     "name": "stdout",
     "output_type": "stream",
     "text": [
      "\n"
     ]
    },
    {
     "data": {
      "application/vnd.jupyter.widget-view+json": {
       "model_id": "578ed3f404914e69af8f4ba94582b7d0",
       "version_major": 2,
       "version_minor": 0
      },
      "text/plain": [
       "HBox(children=(FloatProgress(value=0.0, max=52.0), HTML(value='')))"
      ]
     },
     "metadata": {},
     "output_type": "display_data"
    },
    {
     "name": "stdout",
     "output_type": "stream",
     "text": [
      "\n"
     ]
    },
    {
     "data": {
      "application/vnd.jupyter.widget-view+json": {
       "model_id": "c90d8e9fe3974001847a1b4c89096954",
       "version_major": 2,
       "version_minor": 0
      },
      "text/plain": [
       "HBox(children=(FloatProgress(value=0.0, max=7.0), HTML(value='')))"
      ]
     },
     "metadata": {},
     "output_type": "display_data"
    },
    {
     "name": "stdout",
     "output_type": "stream",
     "text": [
      "\n",
      "results for experiment:  train_en_test_en\n",
      "                          precision    recall  f1-score   support\n",
      "\n",
      "reminder/cancel_reminder    1.00000   0.98944   0.99469       284\n",
      "            weather/find    0.99911   1.00000   0.99956      3386\n",
      "      alarm/cancel_alarm    0.98210   0.98874   0.98541       444\n",
      " reminder/show_reminders    0.99537   0.99078   0.99307       217\n",
      "      alarm/snooze_alarm    0.95556   0.96629   0.96089        89\n",
      "alarm/time_left_on_alarm    0.94048   0.97531   0.95758        81\n",
      "      alarm/modify_alarm    0.90476   0.93443   0.91935       122\n",
      "     weather/checkSunset    1.00000   0.94595   0.97222        37\n",
      "    weather/checkSunrise    1.00000   1.00000   1.00000        25\n",
      "       alarm/show_alarms    0.99038   0.97170   0.98095       212\n",
      "   reminder/set_reminder    0.99613   0.99922   0.99767      1287\n",
      "         alarm/set_alarm    0.99023   0.98382   0.98701      1236\n",
      "\n",
      "                accuracy                        0.99299      7420\n",
      "               macro avg    0.97951   0.97881   0.97903      7420\n",
      "            weighted avg    0.99307   0.99299   0.99301      7420\n",
      "\n",
      "domain accuracy:  0.9995956873315364\n"
     ]
    },
    {
     "data": {
      "application/vnd.jupyter.widget-view+json": {
       "model_id": "278b5e1c301c4c168011ec1d3a3e0406",
       "version_major": 2,
       "version_minor": 0
      },
      "text/plain": [
       "HBox(children=(FloatProgress(value=0.0, max=2854.0), HTML(value='')))"
      ]
     },
     "metadata": {},
     "output_type": "display_data"
    },
    {
     "name": "stdout",
     "output_type": "stream",
     "text": [
      "\n"
     ]
    },
    {
     "data": {
      "application/vnd.jupyter.widget-view+json": {
       "model_id": "8c95a3f5fb9341b7a7c1a6c0d2cba483",
       "version_major": 2,
       "version_minor": 0
      },
      "text/plain": [
       "HBox(children=(FloatProgress(value=0.0, description='Running Evaluation', max=357.0, style=ProgressStyle(descr…"
      ]
     },
     "metadata": {},
     "output_type": "display_data"
    },
    {
     "name": "stdout",
     "output_type": "stream",
     "text": [
      "\n"
     ]
    },
    {
     "name": "stderr",
     "output_type": "stream",
     "text": [
      "/home/santi/anaconda3/lib/python3.7/site-packages/sklearn/metrics/classification.py:1437: UndefinedMetricWarning: Precision and F-score are ill-defined and being set to 0.0 in labels with no predicted samples.\n",
      "  'precision', 'predicted', average, warn_for)\n",
      "/home/santi/anaconda3/lib/python3.7/site-packages/sklearn/metrics/classification.py:1439: UndefinedMetricWarning: Recall and F-score are ill-defined and being set to 0.0 in labels with no true samples.\n",
      "  'recall', 'true', average, warn_for)\n"
     ]
    },
    {
     "data": {
      "application/vnd.jupyter.widget-view+json": {
       "model_id": "89361a7e70b84d538d4988798ec17ace",
       "version_major": 2,
       "version_minor": 0
      },
      "text/plain": [
       "HBox(children=(FloatProgress(value=0.0, max=258.0), HTML(value='')))"
      ]
     },
     "metadata": {},
     "output_type": "display_data"
    },
    {
     "name": "stdout",
     "output_type": "stream",
     "text": [
      "\n"
     ]
    },
    {
     "data": {
      "application/vnd.jupyter.widget-view+json": {
       "model_id": "6fdd145be03248b5904951bf593c7e39",
       "version_major": 2,
       "version_minor": 0
      },
      "text/plain": [
       "HBox(children=(FloatProgress(value=0.0, max=33.0), HTML(value='')))"
      ]
     },
     "metadata": {},
     "output_type": "display_data"
    },
    {
     "name": "stdout",
     "output_type": "stream",
     "text": [
      "\n",
      "results for experiment:  train_en_test_es\n",
      "                          precision    recall  f1-score   support\n",
      "\n",
      "reminder/cancel_reminder    0.99412   0.98830   0.99120       171\n",
      "            weather/find    0.93217   0.99793   0.96393       964\n",
      "      alarm/cancel_alarm    0.95939   0.87097   0.91304       217\n",
      " reminder/show_reminders    0.98425   0.94697   0.96525       132\n",
      "      alarm/snooze_alarm    0.44186   0.59375   0.50667        32\n",
      "alarm/time_left_on_alarm    1.00000   1.00000   1.00000        28\n",
      "      alarm/modify_alarm    0.58929   0.97059   0.73333        34\n",
      "     weather/checkSunset    0.00000   0.00000   0.00000         2\n",
      "    weather/checkSunrise    0.00000   0.00000   0.00000         0\n",
      "       alarm/show_alarms    0.95283   0.91818   0.93519       110\n",
      "   reminder/set_reminder    0.98879   0.70111   0.82047       629\n",
      "         alarm/set_alarm    0.81636   0.98879   0.89434       535\n",
      "\n",
      "               micro avg    0.90960   0.90960   0.90960      2854\n",
      "               macro avg    0.72159   0.74805   0.72695      2854\n",
      "            weighted avg    0.92236   0.90960   0.90779      2854\n",
      "\n",
      "domain accuracy:  0.9313244569025929\n"
     ]
    },
    {
     "data": {
      "application/vnd.jupyter.widget-view+json": {
       "model_id": "51af5ec5e6e54ea38e708fc8aa6edf36",
       "version_major": 2,
       "version_minor": 0
      },
      "text/plain": [
       "HBox(children=(FloatProgress(value=0.0, max=1557.0), HTML(value='')))"
      ]
     },
     "metadata": {},
     "output_type": "display_data"
    },
    {
     "name": "stdout",
     "output_type": "stream",
     "text": [
      "\n"
     ]
    },
    {
     "data": {
      "application/vnd.jupyter.widget-view+json": {
       "model_id": "6e6c89f28d594f62845db7baf9c3e225",
       "version_major": 2,
       "version_minor": 0
      },
      "text/plain": [
       "HBox(children=(FloatProgress(value=0.0, description='Running Evaluation', max=195.0, style=ProgressStyle(descr…"
      ]
     },
     "metadata": {},
     "output_type": "display_data"
    },
    {
     "name": "stdout",
     "output_type": "stream",
     "text": [
      "\n"
     ]
    },
    {
     "name": "stderr",
     "output_type": "stream",
     "text": [
      "/home/santi/anaconda3/lib/python3.7/site-packages/sklearn/metrics/classification.py:1439: UndefinedMetricWarning: F-score is ill-defined and being set to 0.0 in labels with no true samples.\n",
      "  'recall', 'true', average, warn_for)\n"
     ]
    },
    {
     "data": {
      "application/vnd.jupyter.widget-view+json": {
       "model_id": "bfaa5d88b64d4c8392c1c6af7b3e5f88",
       "version_major": 2,
       "version_minor": 0
      },
      "text/plain": [
       "HBox(children=(FloatProgress(value=0.0, max=364.0), HTML(value='')))"
      ]
     },
     "metadata": {},
     "output_type": "display_data"
    },
    {
     "name": "stdout",
     "output_type": "stream",
     "text": [
      "\n"
     ]
    },
    {
     "data": {
      "application/vnd.jupyter.widget-view+json": {
       "model_id": "25c5ec15ace24412af65f7df1ed42fe6",
       "version_major": 2,
       "version_minor": 0
      },
      "text/plain": [
       "HBox(children=(FloatProgress(value=0.0, max=46.0), HTML(value='')))"
      ]
     },
     "metadata": {},
     "output_type": "display_data"
    },
    {
     "name": "stdout",
     "output_type": "stream",
     "text": [
      "\n",
      "results for experiment:  train_en_test_th\n",
      "                          precision    recall  f1-score   support\n",
      "\n",
      "reminder/cancel_reminder    0.90000   0.09574   0.17308        94\n",
      "            weather/find    0.88278   1.00000   0.93774       610\n",
      "      alarm/cancel_alarm    0.58371   0.94161   0.72067       137\n",
      " reminder/show_reminders    0.72222   0.62903   0.67241        62\n",
      "      alarm/snooze_alarm    0.00000   0.00000   0.00000        20\n",
      "alarm/time_left_on_alarm    1.00000   0.90000   0.94737        20\n",
      "      alarm/modify_alarm    0.23404   0.84615   0.36667        13\n",
      "     weather/checkSunset    0.00000   0.00000   0.00000         0\n",
      "    weather/checkSunrise    0.00000   0.00000   0.00000         0\n",
      "       alarm/show_alarms    0.86667   0.16883   0.28261        77\n",
      "   reminder/set_reminder    0.99194   0.46415   0.63239       265\n",
      "         alarm/set_alarm    0.64960   0.93050   0.76508       259\n",
      "\n",
      "               micro avg    0.76622   0.76622   0.76622      1557\n",
      "               macro avg    0.56925   0.49800   0.45817      1557\n",
      "            weighted avg    0.81485   0.76622   0.73213      1557\n",
      "\n",
      "domain accuracy:  0.8195247270391779\n"
     ]
    }
   ],
   "source": [
    "# train english model\n",
    "# full train = train + eval\n",
    "args[\"output_dir\"] = \"models/intent_en_train\"\n",
    "model= ClassificationModel('xlmroberta','xlm-roberta-base', num_labels=12, args=args)\n",
    "model.train_model(en_full_train)\n",
    "\n",
    "# test eng\n",
    "results = custom_eval(en_test, model, \"train_en_test_en\")\n",
    "experiment_results[results[\"name\"]] = results\n",
    "\n",
    "# test es\n",
    "results = custom_eval(es_test, model, \"train_en_test_es\")\n",
    "experiment_results[results[\"name\"]] = results\n",
    "\n",
    "# test th\n",
    "results = custom_eval(th_test, model, \"train_en_test_th\")\n",
    "experiment_results[results[\"name\"]] = results"
   ]
  },
  {
   "cell_type": "code",
   "execution_count": 18,
   "metadata": {},
   "outputs": [
    {
     "name": "stderr",
     "output_type": "stream",
     "text": [
      "Some weights of the model checkpoint at xlm-roberta-base were not used when initializing XLMRobertaForSequenceClassification: ['lm_head.bias', 'lm_head.dense.weight', 'lm_head.dense.bias', 'lm_head.layer_norm.weight', 'lm_head.layer_norm.bias', 'lm_head.decoder.weight']\n",
      "- This IS expected if you are initializing XLMRobertaForSequenceClassification from the checkpoint of a model trained on another task or with another architecture (e.g. initializing a BertForSequenceClassification model from a BertForPreTraining model).\n",
      "- This IS NOT expected if you are initializing XLMRobertaForSequenceClassification from the checkpoint of a model that you expect to be exactly identical (initializing a BertForSequenceClassification model from a BertForSequenceClassification model).\n",
      "Some weights of XLMRobertaForSequenceClassification were not initialized from the model checkpoint at xlm-roberta-base and are newly initialized: ['classifier.dense.weight', 'classifier.dense.bias', 'classifier.out_proj.weight', 'classifier.out_proj.bias']\n",
      "You should probably TRAIN this model on a down-stream task to be able to use it for predictions and inference.\n"
     ]
    },
    {
     "data": {
      "application/vnd.jupyter.widget-view+json": {
       "model_id": "5b29e6c2764746c3ab4bd342227604d9",
       "version_major": 2,
       "version_minor": 0
      },
      "text/plain": [
       "HBox(children=(FloatProgress(value=0.0, max=3343.0), HTML(value='')))"
      ]
     },
     "metadata": {},
     "output_type": "display_data"
    },
    {
     "name": "stdout",
     "output_type": "stream",
     "text": [
      "\n"
     ]
    },
    {
     "data": {
      "application/vnd.jupyter.widget-view+json": {
       "model_id": "9ce98c3996c3408d98119754e3abf166",
       "version_major": 2,
       "version_minor": 0
      },
      "text/plain": [
       "HBox(children=(FloatProgress(value=0.0, description='Epoch', max=5.0, style=ProgressStyle(description_width='i…"
      ]
     },
     "metadata": {},
     "output_type": "display_data"
    },
    {
     "data": {
      "application/vnd.jupyter.widget-view+json": {
       "model_id": "41b01e5973514232ae200ad30168813e",
       "version_major": 2,
       "version_minor": 0
      },
      "text/plain": [
       "HBox(children=(FloatProgress(value=0.0, description='Running Epoch 0 of 5', max=418.0, style=ProgressStyle(des…"
      ]
     },
     "metadata": {},
     "output_type": "display_data"
    },
    {
     "name": "stdout",
     "output_type": "stream",
     "text": [
      "\n"
     ]
    },
    {
     "data": {
      "application/vnd.jupyter.widget-view+json": {
       "model_id": "c4ce4975d3dc4ed486b6bc771851d3b6",
       "version_major": 2,
       "version_minor": 0
      },
      "text/plain": [
       "HBox(children=(FloatProgress(value=0.0, description='Running Epoch 1 of 5', max=418.0, style=ProgressStyle(des…"
      ]
     },
     "metadata": {},
     "output_type": "display_data"
    },
    {
     "name": "stdout",
     "output_type": "stream",
     "text": [
      "\n"
     ]
    },
    {
     "data": {
      "application/vnd.jupyter.widget-view+json": {
       "model_id": "608d1994261d46a2a004fdeb3e685c6a",
       "version_major": 2,
       "version_minor": 0
      },
      "text/plain": [
       "HBox(children=(FloatProgress(value=0.0, description='Running Epoch 2 of 5', max=418.0, style=ProgressStyle(des…"
      ]
     },
     "metadata": {},
     "output_type": "display_data"
    },
    {
     "name": "stdout",
     "output_type": "stream",
     "text": [
      "\n"
     ]
    },
    {
     "data": {
      "application/vnd.jupyter.widget-view+json": {
       "model_id": "26b67b5fc31246b386bfe8d26bc3822c",
       "version_major": 2,
       "version_minor": 0
      },
      "text/plain": [
       "HBox(children=(FloatProgress(value=0.0, description='Running Epoch 3 of 5', max=418.0, style=ProgressStyle(des…"
      ]
     },
     "metadata": {},
     "output_type": "display_data"
    },
    {
     "name": "stdout",
     "output_type": "stream",
     "text": [
      "\n"
     ]
    },
    {
     "data": {
      "application/vnd.jupyter.widget-view+json": {
       "model_id": "4e2379284a2c48ab9d3a13f4c3aba8e7",
       "version_major": 2,
       "version_minor": 0
      },
      "text/plain": [
       "HBox(children=(FloatProgress(value=0.0, description='Running Epoch 4 of 5', max=418.0, style=ProgressStyle(des…"
      ]
     },
     "metadata": {},
     "output_type": "display_data"
    },
    {
     "name": "stdout",
     "output_type": "stream",
     "text": [
      "\n",
      "\n"
     ]
    },
    {
     "data": {
      "application/vnd.jupyter.widget-view+json": {
       "model_id": "5c9a4e2ea21e48c2b59462bd0b6ffbf0",
       "version_major": 2,
       "version_minor": 0
      },
      "text/plain": [
       "HBox(children=(FloatProgress(value=0.0, max=7420.0), HTML(value='')))"
      ]
     },
     "metadata": {},
     "output_type": "display_data"
    },
    {
     "name": "stdout",
     "output_type": "stream",
     "text": [
      "\n"
     ]
    },
    {
     "data": {
      "application/vnd.jupyter.widget-view+json": {
       "model_id": "af5734906a214796a9da5a8c1c128b75",
       "version_major": 2,
       "version_minor": 0
      },
      "text/plain": [
       "HBox(children=(FloatProgress(value=0.0, description='Running Evaluation', max=928.0, style=ProgressStyle(descr…"
      ]
     },
     "metadata": {},
     "output_type": "display_data"
    },
    {
     "name": "stdout",
     "output_type": "stream",
     "text": [
      "\n"
     ]
    },
    {
     "name": "stderr",
     "output_type": "stream",
     "text": [
      "/home/santi/anaconda3/lib/python3.7/site-packages/sklearn/metrics/classification.py:1437: UndefinedMetricWarning: F-score is ill-defined and being set to 0.0 in labels with no predicted samples.\n",
      "  'precision', 'predicted', average, warn_for)\n"
     ]
    },
    {
     "data": {
      "application/vnd.jupyter.widget-view+json": {
       "model_id": "f6d651d31f8a4458ae4325cf263210ca",
       "version_major": 2,
       "version_minor": 0
      },
      "text/plain": [
       "HBox(children=(FloatProgress(value=0.0, max=340.0), HTML(value='')))"
      ]
     },
     "metadata": {},
     "output_type": "display_data"
    },
    {
     "name": "stdout",
     "output_type": "stream",
     "text": [
      "\n"
     ]
    },
    {
     "data": {
      "application/vnd.jupyter.widget-view+json": {
       "model_id": "532ef12962f7442ea69a86db27df5160",
       "version_major": 2,
       "version_minor": 0
      },
      "text/plain": [
       "HBox(children=(FloatProgress(value=0.0, max=43.0), HTML(value='')))"
      ]
     },
     "metadata": {},
     "output_type": "display_data"
    },
    {
     "name": "stdout",
     "output_type": "stream",
     "text": [
      "\n",
      "results for experiment:  train_es_test_en\n",
      "                          precision    recall  f1-score   support\n",
      "\n",
      "reminder/cancel_reminder    1.00000   0.90845   0.95203       284\n",
      "            weather/find    0.98115   0.99941   0.99020      3386\n",
      "      alarm/cancel_alarm    0.89597   0.95045   0.92240       444\n",
      " reminder/show_reminders    1.00000   0.84793   0.91771       217\n",
      "      alarm/snooze_alarm    0.27273   0.03371   0.06000        89\n",
      "alarm/time_left_on_alarm    0.93671   0.91358   0.92500        81\n",
      "      alarm/modify_alarm    0.88298   0.68033   0.76852       122\n",
      "     weather/checkSunset    0.00000   0.00000   0.00000        37\n",
      "    weather/checkSunrise    0.00000   0.00000   0.00000        25\n",
      "       alarm/show_alarms    0.96135   0.93868   0.94988       212\n",
      "   reminder/set_reminder    0.96203   0.98446   0.97312      1287\n",
      "         alarm/set_alarm    0.89333   0.97573   0.93271      1236\n",
      "\n",
      "                accuracy                        0.95418      7420\n",
      "               macro avg    0.73219   0.68606   0.69930      7420\n",
      "            weighted avg    0.94002   0.95418   0.94508      7420\n",
      "\n",
      "domain accuracy:  0.9944743935309973\n"
     ]
    },
    {
     "data": {
      "application/vnd.jupyter.widget-view+json": {
       "model_id": "ff9ecd12a3624bd581474354614dd3b2",
       "version_major": 2,
       "version_minor": 0
      },
      "text/plain": [
       "HBox(children=(FloatProgress(value=0.0, max=2854.0), HTML(value='')))"
      ]
     },
     "metadata": {},
     "output_type": "display_data"
    },
    {
     "name": "stdout",
     "output_type": "stream",
     "text": [
      "\n"
     ]
    },
    {
     "data": {
      "application/vnd.jupyter.widget-view+json": {
       "model_id": "d8d71b3f74244dcca794a64148606642",
       "version_major": 2,
       "version_minor": 0
      },
      "text/plain": [
       "HBox(children=(FloatProgress(value=0.0, description='Running Evaluation', max=357.0, style=ProgressStyle(descr…"
      ]
     },
     "metadata": {},
     "output_type": "display_data"
    },
    {
     "name": "stdout",
     "output_type": "stream",
     "text": [
      "\n"
     ]
    },
    {
     "data": {
      "application/vnd.jupyter.widget-view+json": {
       "model_id": "b32bd33894ac474e91c757c5f727280e",
       "version_major": 2,
       "version_minor": 0
      },
      "text/plain": [
       "HBox(children=(FloatProgress(value=0.0, max=45.0), HTML(value='')))"
      ]
     },
     "metadata": {},
     "output_type": "display_data"
    },
    {
     "name": "stdout",
     "output_type": "stream",
     "text": [
      "\n"
     ]
    },
    {
     "data": {
      "application/vnd.jupyter.widget-view+json": {
       "model_id": "5cc0ba6c64fb42918407eb559a87a137",
       "version_major": 2,
       "version_minor": 0
      },
      "text/plain": [
       "HBox(children=(FloatProgress(value=0.0, max=6.0), HTML(value='')))"
      ]
     },
     "metadata": {},
     "output_type": "display_data"
    },
    {
     "name": "stdout",
     "output_type": "stream",
     "text": [
      "\n",
      "results for experiment:  train_es_test_es\n",
      "                          precision    recall  f1-score   support\n",
      "\n",
      "reminder/cancel_reminder    0.98276   1.00000   0.99130       171\n",
      "            weather/find    0.99586   0.99793   0.99689       964\n",
      "      alarm/cancel_alarm    0.97664   0.96313   0.96984       217\n",
      " reminder/show_reminders    0.99213   0.95455   0.97297       132\n",
      "      alarm/snooze_alarm    0.96429   0.84375   0.90000        32\n",
      "alarm/time_left_on_alarm    1.00000   1.00000   1.00000        28\n",
      "      alarm/modify_alarm    1.00000   0.85294   0.92063        34\n",
      "     weather/checkSunset    0.00000   0.00000   0.00000         2\n",
      "    weather/checkSunrise    0.00000   0.00000   0.00000         0\n",
      "       alarm/show_alarms    0.96296   0.94545   0.95413       110\n",
      "   reminder/set_reminder    0.98736   0.99364   0.99049       629\n",
      "         alarm/set_alarm    0.96527   0.98692   0.97597       535\n",
      "\n",
      "               micro avg    0.98423   0.98423   0.98423      2854\n",
      "               macro avg    0.81894   0.79486   0.80602      2854\n",
      "            weighted avg    0.98360   0.98423   0.98375      2854\n",
      "\n",
      "domain accuracy:  0.9964961457603364\n"
     ]
    },
    {
     "data": {
      "application/vnd.jupyter.widget-view+json": {
       "model_id": "a3c502f11bf244999120e47e59b69132",
       "version_major": 2,
       "version_minor": 0
      },
      "text/plain": [
       "HBox(children=(FloatProgress(value=0.0, max=1557.0), HTML(value='')))"
      ]
     },
     "metadata": {},
     "output_type": "display_data"
    },
    {
     "name": "stdout",
     "output_type": "stream",
     "text": [
      "\n"
     ]
    },
    {
     "data": {
      "application/vnd.jupyter.widget-view+json": {
       "model_id": "d1755b6bee7342e78cedc0f0fef20d80",
       "version_major": 2,
       "version_minor": 0
      },
      "text/plain": [
       "HBox(children=(FloatProgress(value=0.0, description='Running Evaluation', max=195.0, style=ProgressStyle(descr…"
      ]
     },
     "metadata": {},
     "output_type": "display_data"
    },
    {
     "name": "stdout",
     "output_type": "stream",
     "text": [
      "\n"
     ]
    },
    {
     "data": {
      "application/vnd.jupyter.widget-view+json": {
       "model_id": "686bfe2cea654062bf24a20349932448",
       "version_major": 2,
       "version_minor": 0
      },
      "text/plain": [
       "HBox(children=(FloatProgress(value=0.0, max=324.0), HTML(value='')))"
      ]
     },
     "metadata": {},
     "output_type": "display_data"
    },
    {
     "name": "stdout",
     "output_type": "stream",
     "text": [
      "\n"
     ]
    },
    {
     "data": {
      "application/vnd.jupyter.widget-view+json": {
       "model_id": "8faf2eae2b404a12ab12ea0cc2a23dd5",
       "version_major": 2,
       "version_minor": 0
      },
      "text/plain": [
       "HBox(children=(FloatProgress(value=0.0, max=41.0), HTML(value='')))"
      ]
     },
     "metadata": {},
     "output_type": "display_data"
    },
    {
     "name": "stdout",
     "output_type": "stream",
     "text": [
      "\n",
      "results for experiment:  train_es_test_th\n",
      "                          precision    recall  f1-score   support\n",
      "\n",
      "reminder/cancel_reminder    0.00000   0.00000   0.00000        94\n",
      "            weather/find    0.87231   0.99672   0.93037       610\n",
      "      alarm/cancel_alarm    0.54545   0.91971   0.68478       137\n",
      " reminder/show_reminders    0.00000   0.00000   0.00000        62\n",
      "      alarm/snooze_alarm    0.16667   0.05000   0.07692        20\n",
      "alarm/time_left_on_alarm    1.00000   0.10000   0.18182        20\n",
      "      alarm/modify_alarm    0.63636   0.53846   0.58333        13\n",
      "     weather/checkSunset    0.00000   0.00000   0.00000         0\n",
      "    weather/checkSunrise    0.00000   0.00000   0.00000         0\n",
      "       alarm/show_alarms    0.62963   0.22078   0.32692        77\n",
      "   reminder/set_reminder    0.89916   0.80755   0.85089       265\n",
      "         alarm/set_alarm    0.74783   0.99614   0.85430       259\n",
      "\n",
      "               micro avg    0.79191   0.79191   0.79191      1557\n",
      "               macro avg    0.45812   0.38578   0.37411      1557\n",
      "            weighted avg    0.71862   0.79191   0.73605      1557\n",
      "\n",
      "domain accuracy:  0.8420038535645472\n"
     ]
    }
   ],
   "source": [
    "# reset model\n",
    "# train on full spanish\n",
    "args[\"output_dir\"] = \"models/intent_es_train\"\n",
    "\n",
    "model= ClassificationModel('xlmroberta','xlm-roberta-base', num_labels=12, args=args)\n",
    "model.train_model(es_full_train)\n",
    "\n",
    "# test eng\n",
    "results = custom_eval(en_test, model, \"train_es_test_en\")\n",
    "experiment_results[results[\"name\"]] = results\n",
    "\n",
    "\n",
    "# test es\n",
    "results = custom_eval(es_test, model, \"train_es_test_es\")\n",
    "experiment_results[results[\"name\"]] = results\n",
    "\n",
    "\n",
    "# test th\n",
    "results = custom_eval(th_test, model, \"train_es_test_th\")\n",
    "experiment_results[results[\"name\"]] = results"
   ]
  },
  {
   "cell_type": "code",
   "execution_count": null,
   "metadata": {
    "scrolled": true
   },
   "outputs": [],
   "source": []
  },
  {
   "cell_type": "code",
   "execution_count": 19,
   "metadata": {},
   "outputs": [
    {
     "name": "stderr",
     "output_type": "stream",
     "text": [
      "Some weights of the model checkpoint at xlm-roberta-base were not used when initializing XLMRobertaForSequenceClassification: ['lm_head.bias', 'lm_head.dense.weight', 'lm_head.dense.bias', 'lm_head.layer_norm.weight', 'lm_head.layer_norm.bias', 'lm_head.decoder.weight']\n",
      "- This IS expected if you are initializing XLMRobertaForSequenceClassification from the checkpoint of a model trained on another task or with another architecture (e.g. initializing a BertForSequenceClassification model from a BertForPreTraining model).\n",
      "- This IS NOT expected if you are initializing XLMRobertaForSequenceClassification from the checkpoint of a model that you expect to be exactly identical (initializing a BertForSequenceClassification model from a BertForSequenceClassification model).\n",
      "Some weights of XLMRobertaForSequenceClassification were not initialized from the model checkpoint at xlm-roberta-base and are newly initialized: ['classifier.dense.weight', 'classifier.dense.bias', 'classifier.out_proj.weight', 'classifier.out_proj.bias']\n",
      "You should probably TRAIN this model on a down-stream task to be able to use it for predictions and inference.\n"
     ]
    },
    {
     "data": {
      "application/vnd.jupyter.widget-view+json": {
       "model_id": "624e627b5e544da1966a4d50241b2c49",
       "version_major": 2,
       "version_minor": 0
      },
      "text/plain": [
       "HBox(children=(FloatProgress(value=0.0, max=1926.0), HTML(value='')))"
      ]
     },
     "metadata": {},
     "output_type": "display_data"
    },
    {
     "name": "stdout",
     "output_type": "stream",
     "text": [
      "\n"
     ]
    },
    {
     "data": {
      "application/vnd.jupyter.widget-view+json": {
       "model_id": "15134b5729f34bafb25606bcbdb82bd4",
       "version_major": 2,
       "version_minor": 0
      },
      "text/plain": [
       "HBox(children=(FloatProgress(value=0.0, description='Epoch', max=5.0, style=ProgressStyle(description_width='i…"
      ]
     },
     "metadata": {},
     "output_type": "display_data"
    },
    {
     "data": {
      "application/vnd.jupyter.widget-view+json": {
       "model_id": "86a0f961b6f847f38082b95a2131c761",
       "version_major": 2,
       "version_minor": 0
      },
      "text/plain": [
       "HBox(children=(FloatProgress(value=0.0, description='Running Epoch 0 of 5', max=241.0, style=ProgressStyle(des…"
      ]
     },
     "metadata": {},
     "output_type": "display_data"
    },
    {
     "name": "stdout",
     "output_type": "stream",
     "text": [
      "\n"
     ]
    },
    {
     "data": {
      "application/vnd.jupyter.widget-view+json": {
       "model_id": "3b669bb79bf94d90ae8bb9ffddd6255c",
       "version_major": 2,
       "version_minor": 0
      },
      "text/plain": [
       "HBox(children=(FloatProgress(value=0.0, description='Running Epoch 1 of 5', max=241.0, style=ProgressStyle(des…"
      ]
     },
     "metadata": {},
     "output_type": "display_data"
    },
    {
     "name": "stdout",
     "output_type": "stream",
     "text": [
      "\n"
     ]
    },
    {
     "data": {
      "application/vnd.jupyter.widget-view+json": {
       "model_id": "e8ef04afd2d545039c3c6e6d7d477473",
       "version_major": 2,
       "version_minor": 0
      },
      "text/plain": [
       "HBox(children=(FloatProgress(value=0.0, description='Running Epoch 2 of 5', max=241.0, style=ProgressStyle(des…"
      ]
     },
     "metadata": {},
     "output_type": "display_data"
    },
    {
     "name": "stdout",
     "output_type": "stream",
     "text": [
      "\n"
     ]
    },
    {
     "data": {
      "application/vnd.jupyter.widget-view+json": {
       "model_id": "5059e9e759744f79b5f897027935aef9",
       "version_major": 2,
       "version_minor": 0
      },
      "text/plain": [
       "HBox(children=(FloatProgress(value=0.0, description='Running Epoch 3 of 5', max=241.0, style=ProgressStyle(des…"
      ]
     },
     "metadata": {},
     "output_type": "display_data"
    },
    {
     "name": "stdout",
     "output_type": "stream",
     "text": [
      "\n"
     ]
    },
    {
     "data": {
      "application/vnd.jupyter.widget-view+json": {
       "model_id": "9a6f51a9d4ff4872aafc7347b5942983",
       "version_major": 2,
       "version_minor": 0
      },
      "text/plain": [
       "HBox(children=(FloatProgress(value=0.0, description='Running Epoch 4 of 5', max=241.0, style=ProgressStyle(des…"
      ]
     },
     "metadata": {},
     "output_type": "display_data"
    },
    {
     "name": "stdout",
     "output_type": "stream",
     "text": [
      "\n",
      "\n"
     ]
    },
    {
     "data": {
      "application/vnd.jupyter.widget-view+json": {
       "model_id": "2cc13f21302f464b87df62f719b2b55c",
       "version_major": 2,
       "version_minor": 0
      },
      "text/plain": [
       "HBox(children=(FloatProgress(value=0.0, max=7420.0), HTML(value='')))"
      ]
     },
     "metadata": {},
     "output_type": "display_data"
    },
    {
     "name": "stdout",
     "output_type": "stream",
     "text": [
      "\n"
     ]
    },
    {
     "data": {
      "application/vnd.jupyter.widget-view+json": {
       "model_id": "1ce7fa1c2448480e878e37a1b84f4993",
       "version_major": 2,
       "version_minor": 0
      },
      "text/plain": [
       "HBox(children=(FloatProgress(value=0.0, description='Running Evaluation', max=928.0, style=ProgressStyle(descr…"
      ]
     },
     "metadata": {},
     "output_type": "display_data"
    },
    {
     "name": "stdout",
     "output_type": "stream",
     "text": [
      "\n"
     ]
    },
    {
     "data": {
      "application/vnd.jupyter.widget-view+json": {
       "model_id": "20f71f4559844a6d9d1ced22a47dc441",
       "version_major": 2,
       "version_minor": 0
      },
      "text/plain": [
       "HBox(children=(FloatProgress(value=0.0, max=1285.0), HTML(value='')))"
      ]
     },
     "metadata": {},
     "output_type": "display_data"
    },
    {
     "name": "stdout",
     "output_type": "stream",
     "text": [
      "\n"
     ]
    },
    {
     "data": {
      "application/vnd.jupyter.widget-view+json": {
       "model_id": "4b550274f8944b809de20727787369a0",
       "version_major": 2,
       "version_minor": 0
      },
      "text/plain": [
       "HBox(children=(FloatProgress(value=0.0, max=161.0), HTML(value='')))"
      ]
     },
     "metadata": {},
     "output_type": "display_data"
    },
    {
     "name": "stdout",
     "output_type": "stream",
     "text": [
      "\n",
      "results for experiment:  train_th_test_en\n",
      "                          precision    recall  f1-score   support\n",
      "\n",
      "reminder/cancel_reminder    0.94340   0.17606   0.29674       284\n",
      "            weather/find    0.87242   0.99970   0.93174      3386\n",
      "      alarm/cancel_alarm    0.73542   0.79505   0.76407       444\n",
      " reminder/show_reminders    1.00000   0.08756   0.16102       217\n",
      "      alarm/snooze_alarm    0.28571   0.02247   0.04167        89\n",
      "alarm/time_left_on_alarm    0.93750   0.37037   0.53097        81\n",
      "      alarm/modify_alarm    0.00000   0.00000   0.00000       122\n",
      "     weather/checkSunset    0.00000   0.00000   0.00000        37\n",
      "    weather/checkSunrise    0.00000   0.00000   0.00000        25\n",
      "       alarm/show_alarms    0.18280   0.08019   0.11148       212\n",
      "   reminder/set_reminder    0.78378   0.87879   0.82857      1287\n",
      "         alarm/set_alarm    0.81246   0.92880   0.86674      1236\n",
      "\n",
      "                accuracy                        0.82682      7420\n",
      "               macro avg    0.54612   0.36158   0.37775      7420\n",
      "            weighted avg    0.79764   0.82682   0.78455      7420\n",
      "\n",
      "domain accuracy:  0.9078167115902964\n"
     ]
    },
    {
     "data": {
      "application/vnd.jupyter.widget-view+json": {
       "model_id": "a958cfd210ab41d6bf45271ea34c4624",
       "version_major": 2,
       "version_minor": 0
      },
      "text/plain": [
       "HBox(children=(FloatProgress(value=0.0, max=2854.0), HTML(value='')))"
      ]
     },
     "metadata": {},
     "output_type": "display_data"
    },
    {
     "name": "stdout",
     "output_type": "stream",
     "text": [
      "\n"
     ]
    },
    {
     "data": {
      "application/vnd.jupyter.widget-view+json": {
       "model_id": "621de5b63db949be9a7883e2b41de218",
       "version_major": 2,
       "version_minor": 0
      },
      "text/plain": [
       "HBox(children=(FloatProgress(value=0.0, description='Running Evaluation', max=357.0, style=ProgressStyle(descr…"
      ]
     },
     "metadata": {},
     "output_type": "display_data"
    },
    {
     "name": "stdout",
     "output_type": "stream",
     "text": [
      "\n"
     ]
    },
    {
     "data": {
      "application/vnd.jupyter.widget-view+json": {
       "model_id": "f70f9ea9feb246c6920646a9f1dee2a8",
       "version_major": 2,
       "version_minor": 0
      },
      "text/plain": [
       "HBox(children=(FloatProgress(value=0.0, max=852.0), HTML(value='')))"
      ]
     },
     "metadata": {},
     "output_type": "display_data"
    },
    {
     "name": "stdout",
     "output_type": "stream",
     "text": [
      "\n"
     ]
    },
    {
     "data": {
      "application/vnd.jupyter.widget-view+json": {
       "model_id": "5f11b9855b67462ca7acaec5a8534033",
       "version_major": 2,
       "version_minor": 0
      },
      "text/plain": [
       "HBox(children=(FloatProgress(value=0.0, max=107.0), HTML(value='')))"
      ]
     },
     "metadata": {},
     "output_type": "display_data"
    },
    {
     "name": "stdout",
     "output_type": "stream",
     "text": [
      "\n",
      "results for experiment:  train_th_test_es\n",
      "                          precision    recall  f1-score   support\n",
      "\n",
      "reminder/cancel_reminder    0.86047   0.43275   0.57588       171\n",
      "            weather/find    0.67226   0.99793   0.80334       964\n",
      "      alarm/cancel_alarm    0.53929   0.69585   0.60765       217\n",
      " reminder/show_reminders    0.75000   0.06818   0.12500       132\n",
      "      alarm/snooze_alarm    0.00000   0.00000   0.00000        32\n",
      "alarm/time_left_on_alarm    1.00000   0.07143   0.13333        28\n",
      "      alarm/modify_alarm    0.00000   0.00000   0.00000        34\n",
      "     weather/checkSunset    0.00000   0.00000   0.00000         2\n",
      "    weather/checkSunrise    0.00000   0.00000   0.00000         0\n",
      "       alarm/show_alarms    0.01639   0.00909   0.01170       110\n",
      "   reminder/set_reminder    0.82313   0.57711   0.67850       629\n",
      "         alarm/set_alarm    0.81481   0.82243   0.81860       535\n",
      "\n",
      "               micro avg    0.70147   0.70147   0.70147      2854\n",
      "               macro avg    0.45636   0.30623   0.31283      2854\n",
      "            weighted avg    0.69891   0.70147   0.66258      2854\n",
      "\n",
      "domain accuracy:  0.7501751927119832\n"
     ]
    },
    {
     "data": {
      "application/vnd.jupyter.widget-view+json": {
       "model_id": "b2359656941545dc99d92545754b3cea",
       "version_major": 2,
       "version_minor": 0
      },
      "text/plain": [
       "HBox(children=(FloatProgress(value=0.0, max=1557.0), HTML(value='')))"
      ]
     },
     "metadata": {},
     "output_type": "display_data"
    },
    {
     "name": "stdout",
     "output_type": "stream",
     "text": [
      "\n"
     ]
    },
    {
     "data": {
      "application/vnd.jupyter.widget-view+json": {
       "model_id": "80dc2a4166b745278574f5fdaba5d102",
       "version_major": 2,
       "version_minor": 0
      },
      "text/plain": [
       "HBox(children=(FloatProgress(value=0.0, description='Running Evaluation', max=195.0, style=ProgressStyle(descr…"
      ]
     },
     "metadata": {},
     "output_type": "display_data"
    },
    {
     "name": "stdout",
     "output_type": "stream",
     "text": [
      "\n"
     ]
    },
    {
     "data": {
      "application/vnd.jupyter.widget-view+json": {
       "model_id": "47dfcbc5047e4556881e104e80668410",
       "version_major": 2,
       "version_minor": 0
      },
      "text/plain": [
       "HBox(children=(FloatProgress(value=0.0, max=50.0), HTML(value='')))"
      ]
     },
     "metadata": {},
     "output_type": "display_data"
    },
    {
     "name": "stdout",
     "output_type": "stream",
     "text": [
      "\n"
     ]
    },
    {
     "data": {
      "application/vnd.jupyter.widget-view+json": {
       "model_id": "2416205a2ba245e19d0fd6ce821f2bbe",
       "version_major": 2,
       "version_minor": 0
      },
      "text/plain": [
       "HBox(children=(FloatProgress(value=0.0, max=7.0), HTML(value='')))"
      ]
     },
     "metadata": {},
     "output_type": "display_data"
    },
    {
     "name": "stdout",
     "output_type": "stream",
     "text": [
      "\n",
      "results for experiment:  train_th_test_th\n",
      "                          precision    recall  f1-score   support\n",
      "\n",
      "reminder/cancel_reminder    0.93878   0.97872   0.95833        94\n",
      "            weather/find    0.99836   0.99836   0.99836       610\n",
      "      alarm/cancel_alarm    0.89286   0.91241   0.90253       137\n",
      " reminder/show_reminders    0.95082   0.93548   0.94309        62\n",
      "      alarm/snooze_alarm    1.00000   0.75000   0.85714        20\n",
      "alarm/time_left_on_alarm    1.00000   0.95000   0.97436        20\n",
      "      alarm/modify_alarm    0.00000   0.00000   0.00000        13\n",
      "     weather/checkSunset    0.00000   0.00000   0.00000         0\n",
      "    weather/checkSunrise    0.00000   0.00000   0.00000         0\n",
      "       alarm/show_alarms    0.95946   0.92208   0.94040        77\n",
      "   reminder/set_reminder    0.96691   0.99245   0.97952       265\n",
      "         alarm/set_alarm    0.95149   0.98456   0.96774       259\n",
      "\n",
      "               micro avg    0.96789   0.96789   0.96789      1557\n",
      "               macro avg    0.72156   0.70201   0.71012      1557\n",
      "            weighted avg    0.96022   0.96789   0.96369      1557\n",
      "\n",
      "domain accuracy:  0.9916506101477199\n"
     ]
    }
   ],
   "source": [
    "# reset model\n",
    "args[\"output_dir\"] = \"models/intent_th_train\"\n",
    "\n",
    "model= ClassificationModel('xlmroberta','xlm-roberta-base', num_labels=12, args=args)\n",
    "# train on full thai\n",
    "model.train_model(th_full_train)\n",
    "\n",
    "# test eng\n",
    "results = custom_eval(en_test, model, \"train_th_test_en\")\n",
    "experiment_results[results[\"name\"]] = results\n",
    "\n",
    "\n",
    "# test es\n",
    "results = custom_eval(es_test, model, \"train_th_test_es\")\n",
    "experiment_results[results[\"name\"]] = results\n",
    "\n",
    "\n",
    "# test th\n",
    "results = custom_eval(th_test, model, \"train_th_test_th\")\n",
    "experiment_results[results[\"name\"]] = results"
   ]
  },
  {
   "cell_type": "code",
   "execution_count": 15,
   "metadata": {},
   "outputs": [
    {
     "name": "stderr",
     "output_type": "stream",
     "text": [
      "Some weights of the model checkpoint at xlm-roberta-base were not used when initializing XLMRobertaForSequenceClassification: ['lm_head.bias', 'lm_head.dense.weight', 'lm_head.dense.bias', 'lm_head.layer_norm.weight', 'lm_head.layer_norm.bias', 'lm_head.decoder.weight']\n",
      "- This IS expected if you are initializing XLMRobertaForSequenceClassification from the checkpoint of a model trained on another task or with another architecture (e.g. initializing a BertForSequenceClassification model from a BertForPreTraining model).\n",
      "- This IS NOT expected if you are initializing XLMRobertaForSequenceClassification from the checkpoint of a model that you expect to be exactly identical (initializing a BertForSequenceClassification model from a BertForSequenceClassification model).\n",
      "Some weights of XLMRobertaForSequenceClassification were not initialized from the model checkpoint at xlm-roberta-base and are newly initialized: ['classifier.dense.weight', 'classifier.dense.bias', 'classifier.out_proj.weight', 'classifier.out_proj.bias']\n",
      "You should probably TRAIN this model on a down-stream task to be able to use it for predictions and inference.\n",
      "/home/santi/anaconda3/lib/python3.7/site-packages/simpletransformers/classification/classification_model.py:290: UserWarning: use_multiprocessing automatically disabled as xlmroberta fails when using multiprocessing for feature conversion.\n",
      "  f\"use_multiprocessing automatically disabled as {model_type}\"\n"
     ]
    },
    {
     "data": {
      "application/vnd.jupyter.widget-view+json": {
       "model_id": "627ec5f8b5ac44d0abda58c35d8161b8",
       "version_major": 2,
       "version_minor": 0
      },
      "text/plain": [
       "HBox(children=(FloatProgress(value=0.0, max=24913.0), HTML(value='')))"
      ]
     },
     "metadata": {},
     "output_type": "display_data"
    },
    {
     "name": "stdout",
     "output_type": "stream",
     "text": [
      "\n"
     ]
    },
    {
     "data": {
      "application/vnd.jupyter.widget-view+json": {
       "model_id": "6213e928d1174c7d86ebe11ec4358adb",
       "version_major": 2,
       "version_minor": 0
      },
      "text/plain": [
       "HBox(children=(FloatProgress(value=0.0, description='Epoch', max=5.0, style=ProgressStyle(description_width='i…"
      ]
     },
     "metadata": {},
     "output_type": "display_data"
    },
    {
     "data": {
      "application/vnd.jupyter.widget-view+json": {
       "model_id": "8a86b77a8ae54a2581318a1170a4ba92",
       "version_major": 2,
       "version_minor": 0
      },
      "text/plain": [
       "HBox(children=(FloatProgress(value=0.0, description='Running Epoch 0 of 5', max=3115.0, style=ProgressStyle(de…"
      ]
     },
     "metadata": {},
     "output_type": "display_data"
    },
    {
     "name": "stdout",
     "output_type": "stream",
     "text": [
      "\n"
     ]
    },
    {
     "name": "stderr",
     "output_type": "stream",
     "text": [
      "/home/santi/anaconda3/lib/python3.7/site-packages/torch/optim/lr_scheduler.py:216: UserWarning: Please also save or load the state of the optimizer when saving or loading the scheduler.\n",
      "  warnings.warn(SAVE_STATE_WARNING, UserWarning)\n"
     ]
    },
    {
     "data": {
      "application/vnd.jupyter.widget-view+json": {
       "model_id": "c165e58eb0ae4223904f93a8aed78b5c",
       "version_major": 2,
       "version_minor": 0
      },
      "text/plain": [
       "HBox(children=(FloatProgress(value=0.0, description='Running Epoch 1 of 5', max=3115.0, style=ProgressStyle(de…"
      ]
     },
     "metadata": {},
     "output_type": "display_data"
    },
    {
     "name": "stdout",
     "output_type": "stream",
     "text": [
      "\n"
     ]
    },
    {
     "data": {
      "application/vnd.jupyter.widget-view+json": {
       "model_id": "2f60ff1001eb4f3797c5945fbc8bd1c3",
       "version_major": 2,
       "version_minor": 0
      },
      "text/plain": [
       "HBox(children=(FloatProgress(value=0.0, description='Running Epoch 2 of 5', max=3115.0, style=ProgressStyle(de…"
      ]
     },
     "metadata": {},
     "output_type": "display_data"
    },
    {
     "name": "stdout",
     "output_type": "stream",
     "text": [
      "\n"
     ]
    },
    {
     "data": {
      "application/vnd.jupyter.widget-view+json": {
       "model_id": "d3271167808f4382acabdbff8e39d9ad",
       "version_major": 2,
       "version_minor": 0
      },
      "text/plain": [
       "HBox(children=(FloatProgress(value=0.0, description='Running Epoch 3 of 5', max=3115.0, style=ProgressStyle(de…"
      ]
     },
     "metadata": {},
     "output_type": "display_data"
    },
    {
     "name": "stdout",
     "output_type": "stream",
     "text": [
      "\n"
     ]
    },
    {
     "data": {
      "application/vnd.jupyter.widget-view+json": {
       "model_id": "3ec1ab4577a249e48fa47f79d6f01f78",
       "version_major": 2,
       "version_minor": 0
      },
      "text/plain": [
       "HBox(children=(FloatProgress(value=0.0, description='Running Epoch 4 of 5', max=3115.0, style=ProgressStyle(de…"
      ]
     },
     "metadata": {},
     "output_type": "display_data"
    },
    {
     "name": "stdout",
     "output_type": "stream",
     "text": [
      "\n",
      "\n"
     ]
    },
    {
     "data": {
      "application/vnd.jupyter.widget-view+json": {
       "model_id": "edae722b162f4911bf904c90b825b347",
       "version_major": 2,
       "version_minor": 0
      },
      "text/plain": [
       "HBox(children=(FloatProgress(value=0.0, max=7420.0), HTML(value='')))"
      ]
     },
     "metadata": {},
     "output_type": "display_data"
    },
    {
     "name": "stdout",
     "output_type": "stream",
     "text": [
      "\n"
     ]
    },
    {
     "data": {
      "application/vnd.jupyter.widget-view+json": {
       "model_id": "b3003805814640498ee098338bf57dd6",
       "version_major": 2,
       "version_minor": 0
      },
      "text/plain": [
       "HBox(children=(FloatProgress(value=0.0, description='Running Evaluation', max=928.0, style=ProgressStyle(descr…"
      ]
     },
     "metadata": {},
     "output_type": "display_data"
    },
    {
     "name": "stdout",
     "output_type": "stream",
     "text": [
      "\n"
     ]
    },
    {
     "data": {
      "application/vnd.jupyter.widget-view+json": {
       "model_id": "6feb3adbc1764faaa973ced7579ddea0",
       "version_major": 2,
       "version_minor": 0
      },
      "text/plain": [
       "HBox(children=(FloatProgress(value=0.0, max=42.0), HTML(value='')))"
      ]
     },
     "metadata": {},
     "output_type": "display_data"
    },
    {
     "name": "stdout",
     "output_type": "stream",
     "text": [
      "\n"
     ]
    },
    {
     "data": {
      "application/vnd.jupyter.widget-view+json": {
       "model_id": "9c0fee93eb3c480ca15f493fd785571c",
       "version_major": 2,
       "version_minor": 0
      },
      "text/plain": [
       "HBox(children=(FloatProgress(value=0.0, max=6.0), HTML(value='')))"
      ]
     },
     "metadata": {},
     "output_type": "display_data"
    },
    {
     "name": "stdout",
     "output_type": "stream",
     "text": [
      "\n",
      "results for experiment:  train_th_test_en\n",
      "                          precision    recall  f1-score   support\n",
      "\n",
      "reminder/cancel_reminder    0.99647   0.99296   0.99471       284\n",
      "            weather/find    1.00000   1.00000   1.00000      3386\n",
      "      alarm/cancel_alarm    0.98658   0.99324   0.98990       444\n",
      " reminder/show_reminders    1.00000   0.98618   0.99304       217\n",
      "      alarm/snooze_alarm    0.95652   0.98876   0.97238        89\n",
      "alarm/time_left_on_alarm    0.95238   0.98765   0.96970        81\n",
      "      alarm/modify_alarm    0.92562   0.91803   0.92181       122\n",
      "     weather/checkSunset    1.00000   1.00000   1.00000        37\n",
      "    weather/checkSunrise    1.00000   1.00000   1.00000        25\n",
      "       alarm/show_alarms    0.99519   0.97642   0.98571       212\n",
      "   reminder/set_reminder    0.99613   0.99922   0.99767      1287\n",
      "         alarm/set_alarm    0.99026   0.98706   0.98865      1236\n",
      "\n",
      "                accuracy                        0.99434      7420\n",
      "               macro avg    0.98326   0.98579   0.98446      7420\n",
      "            weighted avg    0.99437   0.99434   0.99434      7420\n",
      "\n",
      "domain accuracy:  1.0\n"
     ]
    },
    {
     "data": {
      "application/vnd.jupyter.widget-view+json": {
       "model_id": "2112d5a55b3944bda222dfcaa508298f",
       "version_major": 2,
       "version_minor": 0
      },
      "text/plain": [
       "HBox(children=(FloatProgress(value=0.0, max=2854.0), HTML(value='')))"
      ]
     },
     "metadata": {},
     "output_type": "display_data"
    },
    {
     "name": "stdout",
     "output_type": "stream",
     "text": [
      "\n"
     ]
    },
    {
     "data": {
      "application/vnd.jupyter.widget-view+json": {
       "model_id": "0ffcd9396bcd4e278cd4608eac207e17",
       "version_major": 2,
       "version_minor": 0
      },
      "text/plain": [
       "HBox(children=(FloatProgress(value=0.0, description='Running Evaluation', max=357.0, style=ProgressStyle(descr…"
      ]
     },
     "metadata": {},
     "output_type": "display_data"
    },
    {
     "name": "stdout",
     "output_type": "stream",
     "text": [
      "\n"
     ]
    },
    {
     "name": "stderr",
     "output_type": "stream",
     "text": [
      "/home/santi/anaconda3/lib/python3.7/site-packages/sklearn/metrics/classification.py:1437: UndefinedMetricWarning: F-score is ill-defined and being set to 0.0 in labels with no predicted samples.\n",
      "  'precision', 'predicted', average, warn_for)\n",
      "/home/santi/anaconda3/lib/python3.7/site-packages/sklearn/metrics/classification.py:1437: UndefinedMetricWarning: Precision and F-score are ill-defined and being set to 0.0 in labels with no predicted samples.\n",
      "  'precision', 'predicted', average, warn_for)\n",
      "/home/santi/anaconda3/lib/python3.7/site-packages/sklearn/metrics/classification.py:1439: UndefinedMetricWarning: Recall and F-score are ill-defined and being set to 0.0 in labels with no true samples.\n",
      "  'recall', 'true', average, warn_for)\n"
     ]
    },
    {
     "data": {
      "application/vnd.jupyter.widget-view+json": {
       "model_id": "f11c7413f45c418d9b31f5fdd1fd95a0",
       "version_major": 2,
       "version_minor": 0
      },
      "text/plain": [
       "HBox(children=(FloatProgress(value=0.0, max=135.0), HTML(value='')))"
      ]
     },
     "metadata": {},
     "output_type": "display_data"
    },
    {
     "name": "stdout",
     "output_type": "stream",
     "text": [
      "\n"
     ]
    },
    {
     "data": {
      "application/vnd.jupyter.widget-view+json": {
       "model_id": "f289fc7f29034f39bda76767b4819ddd",
       "version_major": 2,
       "version_minor": 0
      },
      "text/plain": [
       "HBox(children=(FloatProgress(value=0.0, max=17.0), HTML(value='')))"
      ]
     },
     "metadata": {},
     "output_type": "display_data"
    },
    {
     "name": "stdout",
     "output_type": "stream",
     "text": [
      "\n",
      "results for experiment:  train_th_test_es\n",
      "                          precision    recall  f1-score   support\n",
      "\n",
      "reminder/cancel_reminder    0.96571   0.98830   0.97688       171\n",
      "            weather/find    0.97470   0.99896   0.98668       964\n",
      "      alarm/cancel_alarm    0.95025   0.88018   0.91388       217\n",
      " reminder/show_reminders    0.97674   0.95455   0.96552       132\n",
      "      alarm/snooze_alarm    0.56522   0.40625   0.47273        32\n",
      "alarm/time_left_on_alarm    1.00000   1.00000   1.00000        28\n",
      "      alarm/modify_alarm    0.78571   0.97059   0.86842        34\n",
      "     weather/checkSunset    0.00000   0.00000   0.00000         2\n",
      "    weather/checkSunrise    0.00000   0.00000   0.00000         0\n",
      "       alarm/show_alarms    0.92593   0.90909   0.91743       110\n",
      "   reminder/set_reminder    0.99297   0.89825   0.94324       629\n",
      "         alarm/set_alarm    0.89848   0.99252   0.94316       535\n",
      "\n",
      "               micro avg    0.95270   0.95270   0.95270      2854\n",
      "               macro avg    0.75298   0.74989   0.74899      2854\n",
      "            weighted avg    0.95298   0.95270   0.95145      2854\n",
      "\n",
      "domain accuracy:  0.9786264891380518\n"
     ]
    },
    {
     "data": {
      "application/vnd.jupyter.widget-view+json": {
       "model_id": "dfb41424076540d6a9939446f3abe2f5",
       "version_major": 2,
       "version_minor": 0
      },
      "text/plain": [
       "HBox(children=(FloatProgress(value=0.0, max=1557.0), HTML(value='')))"
      ]
     },
     "metadata": {},
     "output_type": "display_data"
    },
    {
     "name": "stdout",
     "output_type": "stream",
     "text": [
      "\n"
     ]
    },
    {
     "data": {
      "application/vnd.jupyter.widget-view+json": {
       "model_id": "fd3bb5a7040c442db626f48ad71b0c02",
       "version_major": 2,
       "version_minor": 0
      },
      "text/plain": [
       "HBox(children=(FloatProgress(value=0.0, description='Running Evaluation', max=195.0, style=ProgressStyle(descr…"
      ]
     },
     "metadata": {},
     "output_type": "display_data"
    },
    {
     "name": "stdout",
     "output_type": "stream",
     "text": [
      "\n"
     ]
    },
    {
     "data": {
      "application/vnd.jupyter.widget-view+json": {
       "model_id": "716940426f7643c2a13a1d33894ceac2",
       "version_major": 2,
       "version_minor": 0
      },
      "text/plain": [
       "HBox(children=(FloatProgress(value=0.0, max=28.0), HTML(value='')))"
      ]
     },
     "metadata": {},
     "output_type": "display_data"
    },
    {
     "name": "stdout",
     "output_type": "stream",
     "text": [
      "\n"
     ]
    },
    {
     "data": {
      "application/vnd.jupyter.widget-view+json": {
       "model_id": "89cf7e303b0f400997310196cc1efb77",
       "version_major": 2,
       "version_minor": 0
      },
      "text/plain": [
       "HBox(children=(FloatProgress(value=0.0, max=4.0), HTML(value='')))"
      ]
     },
     "metadata": {},
     "output_type": "display_data"
    },
    {
     "name": "stdout",
     "output_type": "stream",
     "text": [
      "\n",
      "results for experiment:  train_th_test_th\n",
      "                          precision    recall  f1-score   support\n",
      "\n",
      "reminder/cancel_reminder    0.96809   0.96809   0.96809        94\n",
      "            weather/find    0.99836   1.00000   0.99918       610\n",
      "      alarm/cancel_alarm    0.97692   0.92701   0.95131       137\n",
      " reminder/show_reminders    0.96610   0.91935   0.94215        62\n",
      "      alarm/snooze_alarm    1.00000   1.00000   1.00000        20\n",
      "alarm/time_left_on_alarm    1.00000   0.95000   0.97436        20\n",
      "      alarm/modify_alarm    1.00000   0.76923   0.86957        13\n",
      "     weather/checkSunset    0.00000   0.00000   0.00000         0\n",
      "    weather/checkSunrise    0.00000   0.00000   0.00000         0\n",
      "       alarm/show_alarms    0.96154   0.97403   0.96774        77\n",
      "   reminder/set_reminder    0.98134   0.99245   0.98687       265\n",
      "         alarm/set_alarm    0.95896   0.99228   0.97533       259\n",
      "\n",
      "               micro avg    0.98202   0.98202   0.98202      1557\n",
      "               macro avg    0.81761   0.79104   0.80288      1557\n",
      "            weighted avg    0.98215   0.98202   0.98181      1557\n",
      "\n",
      "domain accuracy:  0.9942196531791907\n"
     ]
    }
   ],
   "source": [
    "args[\"output_dir\"] = \"models/intent_en_th_train\"\n",
    "\n",
    "model= ClassificationModel('xlmroberta','xlm-roberta-base', num_labels=12, args=args)\n",
    "# train on full thai and eng mixed\n",
    "model.train_model(en_th_full_train)\n",
    "# test eng\n",
    "results = custom_eval(en_test, model, \"train_th_test_en\")\n",
    "experiment_results[results[\"name\"]] = results\n",
    "\n",
    "\n",
    "# test es\n",
    "results = custom_eval(es_test, model, \"train_th_test_es\")\n",
    "experiment_results[results[\"name\"]] = results\n",
    "\n",
    "\n",
    "# test th\n",
    "results = custom_eval(th_test, model, \"train_th_test_th\")\n",
    "experiment_results[results[\"name\"]] = results"
   ]
  },
  {
   "cell_type": "code",
   "execution_count": 16,
   "metadata": {},
   "outputs": [
    {
     "name": "stderr",
     "output_type": "stream",
     "text": [
      "Some weights of the model checkpoint at xlm-roberta-base were not used when initializing XLMRobertaForSequenceClassification: ['lm_head.bias', 'lm_head.dense.weight', 'lm_head.dense.bias', 'lm_head.layer_norm.weight', 'lm_head.layer_norm.bias', 'lm_head.decoder.weight']\n",
      "- This IS expected if you are initializing XLMRobertaForSequenceClassification from the checkpoint of a model trained on another task or with another architecture (e.g. initializing a BertForSequenceClassification model from a BertForPreTraining model).\n",
      "- This IS NOT expected if you are initializing XLMRobertaForSequenceClassification from the checkpoint of a model that you expect to be exactly identical (initializing a BertForSequenceClassification model from a BertForSequenceClassification model).\n",
      "Some weights of XLMRobertaForSequenceClassification were not initialized from the model checkpoint at xlm-roberta-base and are newly initialized: ['classifier.dense.weight', 'classifier.dense.bias', 'classifier.out_proj.weight', 'classifier.out_proj.bias']\n",
      "You should probably TRAIN this model on a down-stream task to be able to use it for predictions and inference.\n"
     ]
    },
    {
     "data": {
      "application/vnd.jupyter.widget-view+json": {
       "model_id": "ab23fcd89153442182dc2b903be7b6b5",
       "version_major": 2,
       "version_minor": 0
      },
      "text/plain": [
       "HBox(children=(FloatProgress(value=0.0, max=24913.0), HTML(value='')))"
      ]
     },
     "metadata": {},
     "output_type": "display_data"
    },
    {
     "name": "stdout",
     "output_type": "stream",
     "text": [
      "\n"
     ]
    },
    {
     "data": {
      "application/vnd.jupyter.widget-view+json": {
       "model_id": "179b7ab630f7472b9e345c5389c81eff",
       "version_major": 2,
       "version_minor": 0
      },
      "text/plain": [
       "HBox(children=(FloatProgress(value=0.0, description='Epoch', max=5.0, style=ProgressStyle(description_width='i…"
      ]
     },
     "metadata": {},
     "output_type": "display_data"
    },
    {
     "data": {
      "application/vnd.jupyter.widget-view+json": {
       "model_id": "7be7f876a7a949eb98cf698b1f5b3eba",
       "version_major": 2,
       "version_minor": 0
      },
      "text/plain": [
       "HBox(children=(FloatProgress(value=0.0, description='Running Epoch 0 of 5', max=3115.0, style=ProgressStyle(de…"
      ]
     },
     "metadata": {},
     "output_type": "display_data"
    },
    {
     "name": "stdout",
     "output_type": "stream",
     "text": [
      "\n"
     ]
    },
    {
     "data": {
      "application/vnd.jupyter.widget-view+json": {
       "model_id": "ab1465bca30244cd8762c26fc6c569d5",
       "version_major": 2,
       "version_minor": 0
      },
      "text/plain": [
       "HBox(children=(FloatProgress(value=0.0, description='Running Epoch 1 of 5', max=3115.0, style=ProgressStyle(de…"
      ]
     },
     "metadata": {},
     "output_type": "display_data"
    },
    {
     "name": "stdout",
     "output_type": "stream",
     "text": [
      "\n"
     ]
    },
    {
     "data": {
      "application/vnd.jupyter.widget-view+json": {
       "model_id": "87c435472d754f7ca8757b19a90e8a7a",
       "version_major": 2,
       "version_minor": 0
      },
      "text/plain": [
       "HBox(children=(FloatProgress(value=0.0, description='Running Epoch 2 of 5', max=3115.0, style=ProgressStyle(de…"
      ]
     },
     "metadata": {},
     "output_type": "display_data"
    },
    {
     "name": "stdout",
     "output_type": "stream",
     "text": [
      "\n"
     ]
    },
    {
     "data": {
      "application/vnd.jupyter.widget-view+json": {
       "model_id": "2daa06c2ab4d4ee5b8839cfbb5a1d57d",
       "version_major": 2,
       "version_minor": 0
      },
      "text/plain": [
       "HBox(children=(FloatProgress(value=0.0, description='Running Epoch 3 of 5', max=3115.0, style=ProgressStyle(de…"
      ]
     },
     "metadata": {},
     "output_type": "display_data"
    },
    {
     "name": "stdout",
     "output_type": "stream",
     "text": [
      "\n"
     ]
    },
    {
     "data": {
      "application/vnd.jupyter.widget-view+json": {
       "model_id": "9dc49bfd3c3041ff9e91572460ea9546",
       "version_major": 2,
       "version_minor": 0
      },
      "text/plain": [
       "HBox(children=(FloatProgress(value=0.0, description='Running Epoch 4 of 5', max=3115.0, style=ProgressStyle(de…"
      ]
     },
     "metadata": {},
     "output_type": "display_data"
    },
    {
     "name": "stdout",
     "output_type": "stream",
     "text": [
      "\n",
      "\n"
     ]
    },
    {
     "data": {
      "application/vnd.jupyter.widget-view+json": {
       "model_id": "0a577a26b8104868afbf8879e16dd4bc",
       "version_major": 2,
       "version_minor": 0
      },
      "text/plain": [
       "HBox(children=(FloatProgress(value=0.0, max=7420.0), HTML(value='')))"
      ]
     },
     "metadata": {},
     "output_type": "display_data"
    },
    {
     "name": "stdout",
     "output_type": "stream",
     "text": [
      "\n"
     ]
    },
    {
     "data": {
      "application/vnd.jupyter.widget-view+json": {
       "model_id": "56f52a2b14824d4f9878c4a16a6cf5b1",
       "version_major": 2,
       "version_minor": 0
      },
      "text/plain": [
       "HBox(children=(FloatProgress(value=0.0, description='Running Evaluation', max=928.0, style=ProgressStyle(descr…"
      ]
     },
     "metadata": {},
     "output_type": "display_data"
    },
    {
     "name": "stdout",
     "output_type": "stream",
     "text": [
      "\n"
     ]
    },
    {
     "data": {
      "application/vnd.jupyter.widget-view+json": {
       "model_id": "d971267b6d4d4edf875f2f645ae3620e",
       "version_major": 2,
       "version_minor": 0
      },
      "text/plain": [
       "HBox(children=(FloatProgress(value=0.0, max=50.0), HTML(value='')))"
      ]
     },
     "metadata": {},
     "output_type": "display_data"
    },
    {
     "name": "stdout",
     "output_type": "stream",
     "text": [
      "\n"
     ]
    },
    {
     "data": {
      "application/vnd.jupyter.widget-view+json": {
       "model_id": "05ac1cb209ff46999e03722a7b821c9e",
       "version_major": 2,
       "version_minor": 0
      },
      "text/plain": [
       "HBox(children=(FloatProgress(value=0.0, max=7.0), HTML(value='')))"
      ]
     },
     "metadata": {},
     "output_type": "display_data"
    },
    {
     "name": "stdout",
     "output_type": "stream",
     "text": [
      "\n",
      "results for experiment:  train_th_test_en\n",
      "                          precision    recall  f1-score   support\n",
      "\n",
      "reminder/cancel_reminder    0.99644   0.98592   0.99115       284\n",
      "            weather/find    1.00000   0.99941   0.99970      3386\n",
      "      alarm/cancel_alarm    0.99097   0.98874   0.98985       444\n",
      " reminder/show_reminders    0.99074   0.98618   0.98845       217\n",
      "      alarm/snooze_alarm    0.96667   0.97753   0.97207        89\n",
      "alarm/time_left_on_alarm    0.94118   0.98765   0.96386        81\n",
      "      alarm/modify_alarm    0.90551   0.94262   0.92369       122\n",
      "     weather/checkSunset    1.00000   0.97297   0.98630        37\n",
      "    weather/checkSunrise    0.96154   1.00000   0.98039        25\n",
      "       alarm/show_alarms    0.99034   0.96698   0.97852       212\n",
      "   reminder/set_reminder    0.99381   0.99845   0.99612      1287\n",
      "         alarm/set_alarm    0.99026   0.98706   0.98865      1236\n",
      "\n",
      "                accuracy                        0.99326      7420\n",
      "               macro avg    0.97729   0.98279   0.97990      7420\n",
      "            weighted avg    0.99336   0.99326   0.99329      7420\n",
      "\n",
      "domain accuracy:  0.9993261455525606\n"
     ]
    },
    {
     "data": {
      "application/vnd.jupyter.widget-view+json": {
       "model_id": "373282f70117411ca77ad33bbed07bcb",
       "version_major": 2,
       "version_minor": 0
      },
      "text/plain": [
       "HBox(children=(FloatProgress(value=0.0, max=2854.0), HTML(value='')))"
      ]
     },
     "metadata": {},
     "output_type": "display_data"
    },
    {
     "name": "stdout",
     "output_type": "stream",
     "text": [
      "\n"
     ]
    },
    {
     "data": {
      "application/vnd.jupyter.widget-view+json": {
       "model_id": "4e9d1d9961d54c74abe4d6f3f16ecd55",
       "version_major": 2,
       "version_minor": 0
      },
      "text/plain": [
       "HBox(children=(FloatProgress(value=0.0, description='Running Evaluation', max=357.0, style=ProgressStyle(descr…"
      ]
     },
     "metadata": {},
     "output_type": "display_data"
    },
    {
     "name": "stdout",
     "output_type": "stream",
     "text": [
      "\n"
     ]
    },
    {
     "data": {
      "application/vnd.jupyter.widget-view+json": {
       "model_id": "248b65e5ba084911bba9797531fac017",
       "version_major": 2,
       "version_minor": 0
      },
      "text/plain": [
       "HBox(children=(FloatProgress(value=0.0, max=343.0), HTML(value='')))"
      ]
     },
     "metadata": {},
     "output_type": "display_data"
    },
    {
     "name": "stdout",
     "output_type": "stream",
     "text": [
      "\n"
     ]
    },
    {
     "data": {
      "application/vnd.jupyter.widget-view+json": {
       "model_id": "9ac02fd1ae444843a607ed76665def18",
       "version_major": 2,
       "version_minor": 0
      },
      "text/plain": [
       "HBox(children=(FloatProgress(value=0.0, max=43.0), HTML(value='')))"
      ]
     },
     "metadata": {},
     "output_type": "display_data"
    },
    {
     "name": "stdout",
     "output_type": "stream",
     "text": [
      "\n",
      "results for experiment:  train_th_test_es\n",
      "                          precision    recall  f1-score   support\n",
      "\n",
      "reminder/cancel_reminder    0.88083   0.99415   0.93407       171\n",
      "            weather/find    0.92234   0.99793   0.95864       964\n",
      "      alarm/cancel_alarm    0.90278   0.89862   0.90069       217\n",
      " reminder/show_reminders    0.95312   0.92424   0.93846       132\n",
      "      alarm/snooze_alarm    0.68421   0.40625   0.50980        32\n",
      "alarm/time_left_on_alarm    0.96552   1.00000   0.98246        28\n",
      "      alarm/modify_alarm    0.53968   1.00000   0.70103        34\n",
      "     weather/checkSunset    0.00000   0.00000   0.00000         2\n",
      "    weather/checkSunrise    0.00000   0.00000   0.00000         0\n",
      "       alarm/show_alarms    0.94340   0.90909   0.92593       110\n",
      "   reminder/set_reminder    0.99440   0.56439   0.72008       629\n",
      "         alarm/set_alarm    0.76000   0.99439   0.86154       535\n",
      "\n",
      "               micro avg    0.87982   0.87982   0.87982      2854\n",
      "               macro avg    0.71219   0.72409   0.70273      2854\n",
      "            weighted avg    0.89860   0.87982   0.87125      2854\n",
      "\n",
      "domain accuracy:  0.9099509460406447\n"
     ]
    },
    {
     "data": {
      "application/vnd.jupyter.widget-view+json": {
       "model_id": "42d38079e0834591bb082e2fb6b7f3a1",
       "version_major": 2,
       "version_minor": 0
      },
      "text/plain": [
       "HBox(children=(FloatProgress(value=0.0, max=1557.0), HTML(value='')))"
      ]
     },
     "metadata": {},
     "output_type": "display_data"
    },
    {
     "name": "stdout",
     "output_type": "stream",
     "text": [
      "\n"
     ]
    },
    {
     "data": {
      "application/vnd.jupyter.widget-view+json": {
       "model_id": "e530d6107d3147cfb0d4d6e18c76bebe",
       "version_major": 2,
       "version_minor": 0
      },
      "text/plain": [
       "HBox(children=(FloatProgress(value=0.0, description='Running Evaluation', max=195.0, style=ProgressStyle(descr…"
      ]
     },
     "metadata": {},
     "output_type": "display_data"
    },
    {
     "name": "stdout",
     "output_type": "stream",
     "text": [
      "\n"
     ]
    },
    {
     "data": {
      "application/vnd.jupyter.widget-view+json": {
       "model_id": "d50225cab1ec487b91dea6333ae30c67",
       "version_major": 2,
       "version_minor": 0
      },
      "text/plain": [
       "HBox(children=(FloatProgress(value=0.0, max=27.0), HTML(value='')))"
      ]
     },
     "metadata": {},
     "output_type": "display_data"
    },
    {
     "name": "stdout",
     "output_type": "stream",
     "text": [
      "\n"
     ]
    },
    {
     "data": {
      "application/vnd.jupyter.widget-view+json": {
       "model_id": "7bf8f91b5eac48b2bd704e20394a43fc",
       "version_major": 2,
       "version_minor": 0
      },
      "text/plain": [
       "HBox(children=(FloatProgress(value=0.0, max=4.0), HTML(value='')))"
      ]
     },
     "metadata": {},
     "output_type": "display_data"
    },
    {
     "name": "stdout",
     "output_type": "stream",
     "text": [
      "\n",
      "results for experiment:  train_th_test_th\n",
      "                          precision    recall  f1-score   support\n",
      "\n",
      "reminder/cancel_reminder    0.96809   0.96809   0.96809        94\n",
      "            weather/find    1.00000   0.99836   0.99918       610\n",
      "      alarm/cancel_alarm    0.97656   0.91241   0.94340       137\n",
      " reminder/show_reminders    0.95161   0.95161   0.95161        62\n",
      "      alarm/snooze_alarm    0.95238   1.00000   0.97561        20\n",
      "alarm/time_left_on_alarm    1.00000   0.95000   0.97436        20\n",
      "      alarm/modify_alarm    1.00000   0.84615   0.91667        13\n",
      "     weather/checkSunset    0.00000   0.00000   0.00000         0\n",
      "    weather/checkSunrise    0.00000   0.00000   0.00000         0\n",
      "       alarm/show_alarms    0.96104   0.96104   0.96104        77\n",
      "   reminder/set_reminder    0.98507   0.99623   0.99062       265\n",
      "         alarm/set_alarm    0.96269   0.99614   0.97913       259\n",
      "\n",
      "               micro avg    0.98266   0.98266   0.98266      1557\n",
      "               macro avg    0.81312   0.79834   0.80497      1557\n",
      "            weighted avg    0.98280   0.98266   0.98251      1557\n",
      "\n",
      "domain accuracy:  0.9929351316634554\n"
     ]
    }
   ],
   "source": [
    "args[\"output_dir\"] = \"models/intent_en_es_train\"\n",
    "\n",
    "model= ClassificationModel('xlmroberta','xlm-roberta-base', num_labels=12, args=args)\n",
    "# train on full thai and eng mixed\n",
    "model.train_model(en_es_full_train)\n",
    "# test eng\n",
    "results = custom_eval(en_test, model, \"train_th_test_en\")\n",
    "experiment_results[results[\"name\"]] = results\n",
    "\n",
    "\n",
    "# test es\n",
    "results = custom_eval(es_test, model, \"train_th_test_es\")\n",
    "experiment_results[results[\"name\"]] = results\n",
    "\n",
    "\n",
    "# test th\n",
    "results = custom_eval(th_test, model, \"train_th_test_th\")\n",
    "experiment_results[results[\"name\"]] = results"
   ]
  },
  {
   "cell_type": "code",
   "execution_count": null,
   "metadata": {},
   "outputs": [],
   "source": [
    "for text, predicted, real in experiment_results[\"train_en_test_th\"][\"wrong_predictions\"]:\n",
    "    print(text, \"\\t\", predicted, \"\\t\", real)"
   ]
  },
  {
   "cell_type": "code",
   "execution_count": null,
   "metadata": {},
   "outputs": [],
   "source": [
    "##### SANITY CHECK #####\n",
    "def unique_sents(test_df, train_df):\n",
    "    print(\"unique utterances in test data out of :\", len(test_df))\n",
    "    unique_sents = []\n",
    "    train_set = set(train_df[\"text\"])\n",
    "    for sent in test_df[\"text\"]:\n",
    "        if sent not in train_set:\n",
    "            unique_sents.append(sent)\n",
    "    print(len(unique_sents)/len(test_df)*100,\"% of the sentences are unique\")"
   ]
  },
  {
   "cell_type": "code",
   "execution_count": null,
   "metadata": {},
   "outputs": [],
   "source": [
    "unique_sents(en_test,en_full_train)"
   ]
  },
  {
   "cell_type": "code",
   "execution_count": null,
   "metadata": {},
   "outputs": [],
   "source": [
    "unique_sents(es_test, es_eval)\n",
    "unique_sents(es_test,es_full_train)"
   ]
  },
  {
   "cell_type": "code",
   "execution_count": null,
   "metadata": {},
   "outputs": [],
   "source": [
    "unique_sents(th_test, th_eval)\n",
    "unique_sents(th_test,th_full_train)"
   ]
  },
  {
   "cell_type": "code",
   "execution_count": null,
   "metadata": {},
   "outputs": [],
   "source": [
    "predict_sent = lambda sent: mapping[model.predict([sent])[0][0]]"
   ]
  },
  {
   "cell_type": "code",
   "execution_count": null,
   "metadata": {},
   "outputs": [],
   "source": []
  },
  {
   "cell_type": "code",
   "execution_count": null,
   "metadata": {},
   "outputs": [],
   "source": [
    "predict_sent(\"what's the weather in Potsdam\")"
   ]
  },
  {
   "cell_type": "code",
   "execution_count": null,
   "metadata": {},
   "outputs": [],
   "source": [
    "predict_sent(\"don't wake me up tomorrow\")"
   ]
  },
  {
   "cell_type": "code",
   "execution_count": null,
   "metadata": {},
   "outputs": [],
   "source": [
    "\n",
    "predict_sent(\"ตั้ง เวลา พรุ่ง บ่าย พรุ่งนี้\")"
   ]
  },
  {
   "cell_type": "code",
   "execution_count": null,
   "metadata": {},
   "outputs": [],
   "source": [
    "predict_sent(\"que temperatura hay aqui\")"
   ]
  },
  {
   "cell_type": "code",
   "execution_count": null,
   "metadata": {},
   "outputs": [],
   "source": [
    "predict_sent(\"no necesito que levantarme el sabado\" )"
   ]
  },
  {
   "cell_type": "code",
   "execution_count": null,
   "metadata": {},
   "outputs": [],
   "source": [
    "predict_sent(\"sabado no necesito que levantarme\" )"
   ]
  },
  {
   "cell_type": "code",
   "execution_count": null,
   "metadata": {},
   "outputs": [],
   "source": [
    "predict_sent(\"ไม่ ต้อง ปลุก ฉัน วัน เสาร์ นะ\" )"
   ]
  },
  {
   "cell_type": "code",
   "execution_count": null,
   "metadata": {
    "scrolled": true
   },
   "outputs": [],
   "source": [
    "predict_sent(\"วัน เสาร์ ไม่ ต้อง ปลุก ฉัน นะ\")"
   ]
  },
  {
   "cell_type": "code",
   "execution_count": null,
   "metadata": {},
   "outputs": [],
   "source": [
    "predict_sent(\"you don't have to wake me up on saturday\")"
   ]
  },
  {
   "cell_type": "code",
   "execution_count": null,
   "metadata": {},
   "outputs": [],
   "source": [
    "predict_sent(\"saturday you don't have to wake me up\")"
   ]
  },
  {
   "cell_type": "code",
   "execution_count": null,
   "metadata": {},
   "outputs": [],
   "source": [
    "en_full_train[en_full_train[\"text\"].str.contains(\"^on (saturday|sunday|monday|tuesday)\",case=False, regex=True)]"
   ]
  },
  {
   "cell_type": "code",
   "execution_count": null,
   "metadata": {},
   "outputs": [],
   "source": [
    "mapping[10]"
   ]
  },
  {
   "cell_type": "code",
   "execution_count": null,
   "metadata": {
    "scrolled": true
   },
   "outputs": [],
   "source": [
    "predict_sent(\"I don't have to wake up early on saturday\")"
   ]
  },
  {
   "cell_type": "code",
   "execution_count": null,
   "metadata": {},
   "outputs": [],
   "source": [
    "# this is a weird sentence \n",
    "predict_sent(\"saturday you don't have to wake me up\")"
   ]
  },
  {
   "cell_type": "code",
   "execution_count": null,
   "metadata": {},
   "outputs": [],
   "source": [
    "predict_sent(\"am Samstag musst du mich nicht aufwecken\")"
   ]
  },
  {
   "cell_type": "code",
   "execution_count": null,
   "metadata": {},
   "outputs": [],
   "source": [
    "predict_sent(\"ich nicht muss aufstehen am Samstag\")"
   ]
  },
  {
   "cell_type": "code",
   "execution_count": null,
   "metadata": {},
   "outputs": [],
   "source": [
    "\"el sabado no necesito el despertador\" \n",
    "# doesn't work\n",
    "# implicit "
   ]
  },
  {
   "cell_type": "code",
   "execution_count": null,
   "metadata": {},
   "outputs": [],
   "source": []
  },
  {
   "cell_type": "code",
   "execution_count": null,
   "metadata": {},
   "outputs": [],
   "source": [
    "\"cuanto falta hasta el alarma\"\n",
    "\"cuanto tiempo queda hasta que me levanto\"\n",
    "\"que temperatura hay aqui\""
   ]
  }
 ],
 "metadata": {
  "kernelspec": {
   "display_name": "Python 3",
   "language": "python",
   "name": "python3"
  },
  "language_info": {
   "codemirror_mode": {
    "name": "ipython",
    "version": 3
   },
   "file_extension": ".py",
   "mimetype": "text/x-python",
   "name": "python",
   "nbconvert_exporter": "python",
   "pygments_lexer": "ipython3",
   "version": "3.7.4"
  }
 },
 "nbformat": 4,
 "nbformat_minor": 2
}
